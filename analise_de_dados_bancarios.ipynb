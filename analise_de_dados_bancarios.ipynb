{
  "nbformat": 4,
  "nbformat_minor": 0,
  "metadata": {
    "colab": {
      "name": "analise_de_dados_bancarios.ipynb",
      "provenance": [],
      "collapsed_sections": []
    },
    "kernelspec": {
      "name": "python3",
      "display_name": "Python 3"
    }
  },
  "cells": [
    {
      "cell_type": "markdown",
      "metadata": {
        "id": "mLKPZajBKe3L"
      },
      "source": [
        "\n",
        "\n",
        "Disciplina: Inteligência Artificial\n",
        "\n",
        "\n",
        "Aluno: LUIZ YOKOYAMA FELIX DE SOUZA\n",
        "\n",
        "---"
      ]
    },
    {
      "cell_type": "markdown",
      "metadata": {
        "id": "Z5lO3IM4OUt7"
      },
      "source": [
        "**INSTRUÇÕES DE USO DESTE NOTEBOOK:     /LUIZ**\n",
        "\n",
        "**Executar os blocos de códigos, um a um.**\n",
        "\n",
        "O ARQUIVO DA BASE DE DADOS PODE SER OBTIDO EM: https://www.kaggle.com/arjunjoshua/predicting-fraud-in-financial-payment-services\n",
        "\n",
        "COMO O ARQUIVO DA BASE DE DADOS É MUITO GRANDE, RECOMENDA-SE O SEU ACESSO DIRETO PELO GOOGLE DRIVE.\n",
        "\n",
        "NO PRIMEIRO BLOCO APARECE UM LINK PARA GERAR UM CÓDIGO DE AUTORIZAÇÃO DE ACESSO AO GOOGLE DRIVE.\n",
        "\n",
        "**Mantenha o arquivo PS_20174392719_1491204439457_log.csv na raíz de seu Google Drive.**\n"
      ]
    },
    {
      "cell_type": "code",
      "metadata": {
        "id": "S94KCwbhE5qN",
        "colab": {
          "base_uri": "https://localhost:8080/"
        },
        "outputId": "c9fedf28-bc53-40b7-f2f2-3a6fcea6d72f"
      },
      "source": [
        "#EXECUTE O CÓDIDO PARA PERMITIR O ACESSO AOS ARQUIVOS DE SEU GOOGLE DRIVE\n",
        "from google.colab import drive\n",
        "drive.mount('/content/drive')"
      ],
      "execution_count": null,
      "outputs": [
        {
          "output_type": "stream",
          "text": [
            "Mounted at /content/drive\n"
          ],
          "name": "stdout"
        }
      ]
    },
    {
      "cell_type": "markdown",
      "metadata": {
        "id": "AfQDypB3ePgY"
      },
      "source": [
        ""
      ]
    },
    {
      "cell_type": "code",
      "metadata": {
        "id": "uKvGI3OJ1qIW"
      },
      "source": [
        "import pandas as pd\n",
        "import matplotlib.pyplot as plt \n",
        "import seaborn as sns\n",
        "import numpy as np"
      ],
      "execution_count": null,
      "outputs": []
    },
    {
      "cell_type": "code",
      "metadata": {
        "id": "tcVnU6Ow1qIc"
      },
      "source": [
        "df = pd.read_csv('/content/drive/My Drive/PS_20174392719_1491204439457_log.csv')"
      ],
      "execution_count": null,
      "outputs": []
    },
    {
      "cell_type": "markdown",
      "metadata": {
        "id": "2ibDwcmbJfbV"
      },
      "source": [
        "# ANÁLISE DA BASE DE DADOS"
      ]
    },
    {
      "cell_type": "markdown",
      "metadata": {
        "id": "HxJBAjByJfbW"
      },
      "source": [
        "\n",
        "\n",
        "LINK DA DESCRIÇÃO DA BASE DE DADOS \n",
        "https://www.kaggle.com/arjunjoshua/predicting-fraud-in-financial-payment-services\n",
        "\n",
        "**Descrição**\n",
        "\n",
        "**Contexto**\n",
        "\n",
        "Um conjunto de dados sintético gerado usando o simulador chamado PaySim como uma abordagem para o problema de crimes bancários. PaySim usa dados agregados do conjunto de dados privado para gerar um conjunto de dados sintético que se assemelha à operação normal de transações e injeta comportamento malicioso para avaliar posteriormente o desempenho dos métodos de detecção de fraude.\n",
        "\n",
        "**Conteúdo**\n",
        "\n",
        "PaySim simula transações de dinheiro móvel com base em uma amostra de transações reais extraídas de um mês de registros financeiros de um serviço de dinheiro móvel implementado em um país africano. Os logs originais foram fornecidos por uma empresa multinacional, que é a provedora do serviço financeiro móvel que atualmente opera em mais de 14 países em todo o mundo.\n",
        "\n",
        "O PaySim foi executado várias vezes usando sementes aleatórias em 744 etapas. O resultado final de uma execução contém aproximadamente 24 milhões de registros financeiros divididos em 5 tipos de categorias: CASH-IN, CASH-OUT, DÉBITO, PAGAMENTO e TRANSFERÊNCIA.\n",
        "Este conjunto de dados sintético foi reduzido em 1/4 e disponibilizado apenas para o Kaggle.\n",
        "\n",
        "**Cabeçalhos**\n",
        "\n",
        "step - mapeia uma unidade de tempo no mundo real. Neste caso, 1 etapa equivale a 1 hora. Total de etapas 744 (simulação de 30 dias). representando cada hora de um mês em tempo real, que corresponde aos registros originais.\n",
        "\n",
        "type - para este campo, os valores descritos como 'CASH-IN' e 'CASH-OUT',  estão errados. Na verdade consta na base de dados: 'CASH_IN' e 'CASH_OUT'.\n",
        "\n",
        "type -  os demais possíveis valores deste campo são 'DEBIT', 'PAYMENT' e 'TRANSFER'.\n",
        "\n",
        "traduções/explicações:\n",
        "\n",
        "tipo - DEPÓSITO, ENTRADA DE DINHEIRO, SAÍDA DE DINHEIRO, PAGAMENTO e TRANSFERÊNCIA;\n",
        "\n",
        "montante - valor da transação em moeda local;\n",
        "\n",
        "nameOrig - cliente que iniciou a transação\n",
        "\n",
        "oldbalanceOrg - saldo inicial da conta de origem, antes da transação;\n",
        "\n",
        "newbalanceOrig - novo saldo da conta de origem, após a transação;\n",
        "\n",
        "nameDest - cliente que é o destinatário da transação;\n",
        "\n",
        "oldbalanceDest - saldo inicial do  antes da transação;\n",
        "\n",
        "newbalanceDest - novo saldo do destinatário após a transação;\n",
        "\n",
        "\n",
        "isFraud - São as transações feitas pelos agentes fraudulentos dentro da simulação;\n",
        "\n",
        "isFlaggedFraud - O modelo de negócios visa controlar as transferências massivas de uma conta para outra e deveria sinalizar como tentativas ilegais as operações acima de 200.000.\n",
        "\n",
        "\n",
        "\n",
        "\n",
        "   "
      ]
    },
    {
      "cell_type": "code",
      "metadata": {
        "id": "qe0z_9l1zFwF",
        "colab": {
          "base_uri": "https://localhost:8080/",
          "height": 218
        },
        "outputId": "9ab69270-2baa-414c-988a-8aa140eb1f4f"
      },
      "source": [
        "df.head()"
      ],
      "execution_count": null,
      "outputs": [
        {
          "output_type": "execute_result",
          "data": {
            "text/html": [
              "<div>\n",
              "<style scoped>\n",
              "    .dataframe tbody tr th:only-of-type {\n",
              "        vertical-align: middle;\n",
              "    }\n",
              "\n",
              "    .dataframe tbody tr th {\n",
              "        vertical-align: top;\n",
              "    }\n",
              "\n",
              "    .dataframe thead th {\n",
              "        text-align: right;\n",
              "    }\n",
              "</style>\n",
              "<table border=\"1\" class=\"dataframe\">\n",
              "  <thead>\n",
              "    <tr style=\"text-align: right;\">\n",
              "      <th></th>\n",
              "      <th>step</th>\n",
              "      <th>type</th>\n",
              "      <th>amount</th>\n",
              "      <th>nameOrig</th>\n",
              "      <th>oldbalanceOrg</th>\n",
              "      <th>newbalanceOrig</th>\n",
              "      <th>nameDest</th>\n",
              "      <th>oldbalanceDest</th>\n",
              "      <th>newbalanceDest</th>\n",
              "      <th>isFraud</th>\n",
              "      <th>isFlaggedFraud</th>\n",
              "    </tr>\n",
              "  </thead>\n",
              "  <tbody>\n",
              "    <tr>\n",
              "      <th>0</th>\n",
              "      <td>1</td>\n",
              "      <td>PAYMENT</td>\n",
              "      <td>9839.64</td>\n",
              "      <td>C1231006815</td>\n",
              "      <td>170136.0</td>\n",
              "      <td>160296.36</td>\n",
              "      <td>M1979787155</td>\n",
              "      <td>0.0</td>\n",
              "      <td>0.0</td>\n",
              "      <td>0</td>\n",
              "      <td>0</td>\n",
              "    </tr>\n",
              "    <tr>\n",
              "      <th>1</th>\n",
              "      <td>1</td>\n",
              "      <td>PAYMENT</td>\n",
              "      <td>1864.28</td>\n",
              "      <td>C1666544295</td>\n",
              "      <td>21249.0</td>\n",
              "      <td>19384.72</td>\n",
              "      <td>M2044282225</td>\n",
              "      <td>0.0</td>\n",
              "      <td>0.0</td>\n",
              "      <td>0</td>\n",
              "      <td>0</td>\n",
              "    </tr>\n",
              "    <tr>\n",
              "      <th>2</th>\n",
              "      <td>1</td>\n",
              "      <td>TRANSFER</td>\n",
              "      <td>181.00</td>\n",
              "      <td>C1305486145</td>\n",
              "      <td>181.0</td>\n",
              "      <td>0.00</td>\n",
              "      <td>C553264065</td>\n",
              "      <td>0.0</td>\n",
              "      <td>0.0</td>\n",
              "      <td>1</td>\n",
              "      <td>0</td>\n",
              "    </tr>\n",
              "    <tr>\n",
              "      <th>3</th>\n",
              "      <td>1</td>\n",
              "      <td>CASH_OUT</td>\n",
              "      <td>181.00</td>\n",
              "      <td>C840083671</td>\n",
              "      <td>181.0</td>\n",
              "      <td>0.00</td>\n",
              "      <td>C38997010</td>\n",
              "      <td>21182.0</td>\n",
              "      <td>0.0</td>\n",
              "      <td>1</td>\n",
              "      <td>0</td>\n",
              "    </tr>\n",
              "    <tr>\n",
              "      <th>4</th>\n",
              "      <td>1</td>\n",
              "      <td>PAYMENT</td>\n",
              "      <td>11668.14</td>\n",
              "      <td>C2048537720</td>\n",
              "      <td>41554.0</td>\n",
              "      <td>29885.86</td>\n",
              "      <td>M1230701703</td>\n",
              "      <td>0.0</td>\n",
              "      <td>0.0</td>\n",
              "      <td>0</td>\n",
              "      <td>0</td>\n",
              "    </tr>\n",
              "  </tbody>\n",
              "</table>\n",
              "</div>"
            ],
            "text/plain": [
              "   step      type    amount  ... newbalanceDest  isFraud  isFlaggedFraud\n",
              "0     1   PAYMENT   9839.64  ...            0.0        0               0\n",
              "1     1   PAYMENT   1864.28  ...            0.0        0               0\n",
              "2     1  TRANSFER    181.00  ...            0.0        1               0\n",
              "3     1  CASH_OUT    181.00  ...            0.0        1               0\n",
              "4     1   PAYMENT  11668.14  ...            0.0        0               0\n",
              "\n",
              "[5 rows x 11 columns]"
            ]
          },
          "metadata": {
            "tags": []
          },
          "execution_count": 3
        }
      ]
    },
    {
      "cell_type": "code",
      "metadata": {
        "id": "KifRmyJRzBk6",
        "colab": {
          "base_uri": "https://localhost:8080/"
        },
        "outputId": "7f48a485-2e29-4d96-a426-9d1a58be2a63"
      },
      "source": [
        "df.info()"
      ],
      "execution_count": null,
      "outputs": [
        {
          "output_type": "stream",
          "text": [
            "<class 'pandas.core.frame.DataFrame'>\n",
            "RangeIndex: 6362620 entries, 0 to 6362619\n",
            "Data columns (total 11 columns):\n",
            " #   Column          Dtype  \n",
            "---  ------          -----  \n",
            " 0   step            int64  \n",
            " 1   type            object \n",
            " 2   amount          float64\n",
            " 3   nameOrig        object \n",
            " 4   oldbalanceOrg   float64\n",
            " 5   newbalanceOrig  float64\n",
            " 6   nameDest        object \n",
            " 7   oldbalanceDest  float64\n",
            " 8   newbalanceDest  float64\n",
            " 9   isFraud         int64  \n",
            " 10  isFlaggedFraud  int64  \n",
            "dtypes: float64(5), int64(3), object(3)\n",
            "memory usage: 534.0+ MB\n"
          ],
          "name": "stdout"
        }
      ]
    },
    {
      "cell_type": "code",
      "metadata": {
        "id": "b6zskqfFLelt",
        "colab": {
          "base_uri": "https://localhost:8080/"
        },
        "outputId": "82ad747e-52a1-4c5b-fb3c-5df0befe635f"
      },
      "source": [
        "#Verifica se tem buracos /LUIZ\n",
        "if df.isnull().values.any():\n",
        "  print('Existem buracos')\n",
        "else:\n",
        "  print('A BASE DE DADOS NÃO TEM \"BURACOS\"')"
      ],
      "execution_count": null,
      "outputs": [
        {
          "output_type": "stream",
          "text": [
            "A BASE DE DADOS NÃO TEM \"BURACOS\"\n"
          ],
          "name": "stdout"
        }
      ]
    },
    {
      "cell_type": "code",
      "metadata": {
        "id": "CC6cRJF4Lm5p",
        "colab": {
          "base_uri": "https://localhost:8080/",
          "height": 288
        },
        "outputId": "146836a8-1586-4a03-a5d3-b6c32c5f10bf"
      },
      "source": [
        "df.describe()"
      ],
      "execution_count": null,
      "outputs": [
        {
          "output_type": "execute_result",
          "data": {
            "text/html": [
              "<div>\n",
              "<style scoped>\n",
              "    .dataframe tbody tr th:only-of-type {\n",
              "        vertical-align: middle;\n",
              "    }\n",
              "\n",
              "    .dataframe tbody tr th {\n",
              "        vertical-align: top;\n",
              "    }\n",
              "\n",
              "    .dataframe thead th {\n",
              "        text-align: right;\n",
              "    }\n",
              "</style>\n",
              "<table border=\"1\" class=\"dataframe\">\n",
              "  <thead>\n",
              "    <tr style=\"text-align: right;\">\n",
              "      <th></th>\n",
              "      <th>step</th>\n",
              "      <th>amount</th>\n",
              "      <th>oldbalanceOrg</th>\n",
              "      <th>newbalanceOrig</th>\n",
              "      <th>oldbalanceDest</th>\n",
              "      <th>newbalanceDest</th>\n",
              "      <th>isFraud</th>\n",
              "      <th>isFlaggedFraud</th>\n",
              "    </tr>\n",
              "  </thead>\n",
              "  <tbody>\n",
              "    <tr>\n",
              "      <th>count</th>\n",
              "      <td>6.362620e+06</td>\n",
              "      <td>6.362620e+06</td>\n",
              "      <td>6.362620e+06</td>\n",
              "      <td>6.362620e+06</td>\n",
              "      <td>6.362620e+06</td>\n",
              "      <td>6.362620e+06</td>\n",
              "      <td>6.362620e+06</td>\n",
              "      <td>6.362620e+06</td>\n",
              "    </tr>\n",
              "    <tr>\n",
              "      <th>mean</th>\n",
              "      <td>2.433972e+02</td>\n",
              "      <td>1.798619e+05</td>\n",
              "      <td>8.338831e+05</td>\n",
              "      <td>8.551137e+05</td>\n",
              "      <td>1.100702e+06</td>\n",
              "      <td>1.224996e+06</td>\n",
              "      <td>1.290820e-03</td>\n",
              "      <td>2.514687e-06</td>\n",
              "    </tr>\n",
              "    <tr>\n",
              "      <th>std</th>\n",
              "      <td>1.423320e+02</td>\n",
              "      <td>6.038582e+05</td>\n",
              "      <td>2.888243e+06</td>\n",
              "      <td>2.924049e+06</td>\n",
              "      <td>3.399180e+06</td>\n",
              "      <td>3.674129e+06</td>\n",
              "      <td>3.590480e-02</td>\n",
              "      <td>1.585775e-03</td>\n",
              "    </tr>\n",
              "    <tr>\n",
              "      <th>min</th>\n",
              "      <td>1.000000e+00</td>\n",
              "      <td>0.000000e+00</td>\n",
              "      <td>0.000000e+00</td>\n",
              "      <td>0.000000e+00</td>\n",
              "      <td>0.000000e+00</td>\n",
              "      <td>0.000000e+00</td>\n",
              "      <td>0.000000e+00</td>\n",
              "      <td>0.000000e+00</td>\n",
              "    </tr>\n",
              "    <tr>\n",
              "      <th>25%</th>\n",
              "      <td>1.560000e+02</td>\n",
              "      <td>1.338957e+04</td>\n",
              "      <td>0.000000e+00</td>\n",
              "      <td>0.000000e+00</td>\n",
              "      <td>0.000000e+00</td>\n",
              "      <td>0.000000e+00</td>\n",
              "      <td>0.000000e+00</td>\n",
              "      <td>0.000000e+00</td>\n",
              "    </tr>\n",
              "    <tr>\n",
              "      <th>50%</th>\n",
              "      <td>2.390000e+02</td>\n",
              "      <td>7.487194e+04</td>\n",
              "      <td>1.420800e+04</td>\n",
              "      <td>0.000000e+00</td>\n",
              "      <td>1.327057e+05</td>\n",
              "      <td>2.146614e+05</td>\n",
              "      <td>0.000000e+00</td>\n",
              "      <td>0.000000e+00</td>\n",
              "    </tr>\n",
              "    <tr>\n",
              "      <th>75%</th>\n",
              "      <td>3.350000e+02</td>\n",
              "      <td>2.087215e+05</td>\n",
              "      <td>1.073152e+05</td>\n",
              "      <td>1.442584e+05</td>\n",
              "      <td>9.430367e+05</td>\n",
              "      <td>1.111909e+06</td>\n",
              "      <td>0.000000e+00</td>\n",
              "      <td>0.000000e+00</td>\n",
              "    </tr>\n",
              "    <tr>\n",
              "      <th>max</th>\n",
              "      <td>7.430000e+02</td>\n",
              "      <td>9.244552e+07</td>\n",
              "      <td>5.958504e+07</td>\n",
              "      <td>4.958504e+07</td>\n",
              "      <td>3.560159e+08</td>\n",
              "      <td>3.561793e+08</td>\n",
              "      <td>1.000000e+00</td>\n",
              "      <td>1.000000e+00</td>\n",
              "    </tr>\n",
              "  </tbody>\n",
              "</table>\n",
              "</div>"
            ],
            "text/plain": [
              "               step        amount  ...       isFraud  isFlaggedFraud\n",
              "count  6.362620e+06  6.362620e+06  ...  6.362620e+06    6.362620e+06\n",
              "mean   2.433972e+02  1.798619e+05  ...  1.290820e-03    2.514687e-06\n",
              "std    1.423320e+02  6.038582e+05  ...  3.590480e-02    1.585775e-03\n",
              "min    1.000000e+00  0.000000e+00  ...  0.000000e+00    0.000000e+00\n",
              "25%    1.560000e+02  1.338957e+04  ...  0.000000e+00    0.000000e+00\n",
              "50%    2.390000e+02  7.487194e+04  ...  0.000000e+00    0.000000e+00\n",
              "75%    3.350000e+02  2.087215e+05  ...  0.000000e+00    0.000000e+00\n",
              "max    7.430000e+02  9.244552e+07  ...  1.000000e+00    1.000000e+00\n",
              "\n",
              "[8 rows x 8 columns]"
            ]
          },
          "metadata": {
            "tags": []
          },
          "execution_count": 6
        }
      ]
    },
    {
      "cell_type": "markdown",
      "metadata": {
        "id": "T8qLKlwJJfb4"
      },
      "source": [
        "#ANÁLISE DAS SINALISAÇÕES DE POSSÍVEL FRAUDE (isFlaggedFraud) e FRAUDES CONFIRMADAS (isFraud) - BOOLEANAS /LUIZ"
      ]
    },
    {
      "cell_type": "code",
      "metadata": {
        "id": "4pPTnlJeL0BV",
        "colab": {
          "base_uri": "https://localhost:8080/"
        },
        "outputId": "1d132e61-1b54-4981-ef2e-88f9e399aa2d"
      },
      "source": [
        "# VER QUANTIDADE DE SINALIZAÇÕES DE FRAUDE   \\LUIZ\n",
        "np.sum(df.isFlaggedFraud)"
      ],
      "execution_count": null,
      "outputs": [
        {
          "output_type": "execute_result",
          "data": {
            "text/plain": [
              "16"
            ]
          },
          "metadata": {
            "tags": []
          },
          "execution_count": 5
        }
      ]
    },
    {
      "cell_type": "code",
      "metadata": {
        "id": "SplImtthJfb8",
        "colab": {
          "base_uri": "https://localhost:8080/"
        },
        "outputId": "8704fba7-5b57-4e23-9d2e-fc8b5af0900a"
      },
      "source": [
        "# VER QUANTIDADE DE FRAUDES QUE REALMENTE OCORRERAM   \\LUIZ\n",
        "qtdf = np.sum(df.isFraud)\n",
        "qtdf"
      ],
      "execution_count": null,
      "outputs": [
        {
          "output_type": "execute_result",
          "data": {
            "text/plain": [
              "8213"
            ]
          },
          "metadata": {
            "tags": []
          },
          "execution_count": 6
        }
      ]
    },
    {
      "cell_type": "code",
      "metadata": {
        "scrolled": true,
        "id": "GvE8t6ZAJfcB",
        "colab": {
          "base_uri": "https://localhost:8080/"
        },
        "outputId": "c6ce586d-17d7-46e7-bd1b-14b40ea52074"
      },
      "source": [
        "# VER QUANTIDADE DE FRAUDES QUE REALMENTE OCORRERAM QUE FORAM SINALIZADAS   \\LUIZ\n",
        "np.sum(df.isFraud & df.isFlaggedFraud)"
      ],
      "execution_count": null,
      "outputs": [
        {
          "output_type": "execute_result",
          "data": {
            "text/plain": [
              "16"
            ]
          },
          "metadata": {
            "tags": []
          },
          "execution_count": 7
        }
      ]
    },
    {
      "cell_type": "code",
      "metadata": {
        "id": "JHYqU5c3vLvz"
      },
      "source": [
        ""
      ],
      "execution_count": null,
      "outputs": []
    },
    {
      "cell_type": "code",
      "metadata": {
        "id": "73DtUBpsu8WJ",
        "colab": {
          "base_uri": "https://localhost:8080/",
          "height": 375
        },
        "outputId": "fb330ac2-552c-4dc3-f417-dd013a1ed6b5"
      },
      "source": [
        "#gráfico de quantidade fraudes  X demais OPERAÇÕES   /LUIZ\n",
        "plt.rcParams['figure.figsize'] = (6,6)\n",
        "plt.pie([6362620-qtdf, qtdf], labels=['OPERAÇÕES NORMAIS', 'FRAUDES'], colors=['blue', 'red'], autopct=lambda p: '{:.2f}'.format(p * 100.0 / 100)+'%')\n",
        "plt.title('FRAUDES  X  OPERAÇÕES NORMAIS')\n",
        "plt.show()"
      ],
      "execution_count": null,
      "outputs": [
        {
          "output_type": "display_data",
          "data": {
            "image/png": "[encoded data removed]",
            "text/plain": [
              "<Figure size 432x432 with 1 Axes>"
            ]
          },
          "metadata": {
            "tags": []
          }
        }
      ]
    },
    {
      "cell_type": "code",
      "metadata": {
        "id": "cuPqM2Oj24OA",
        "colab": {
          "base_uri": "https://localhost:8080/"
        },
        "outputId": "f0a0a95f-5cc1-4121-f836-d541341e1950"
      },
      "source": [
        "# QUANDIDE DE OPERAÇÕES COM MONTANTE >= A 200.000 E QUE NÃO FORAM SINALIZADAS\n",
        "q200 = df.query('((amount >= 200000) and (isFlaggedFraud != 1)) ').count().step\n",
        "q200"
      ],
      "execution_count": null,
      "outputs": [
        {
          "output_type": "execute_result",
          "data": {
            "text/plain": [
              "1673554"
            ]
          },
          "metadata": {
            "tags": []
          },
          "execution_count": 9
        }
      ]
    },
    {
      "cell_type": "code",
      "metadata": {
        "id": "tD22gENG5uF2",
        "colab": {
          "base_uri": "https://localhost:8080/",
          "height": 375
        },
        "outputId": "8e6f1e2e-63ee-4f6b-ab24-87f2a0897335"
      },
      "source": [
        "#gráfico  MONTANTE >= 200.000 X  OPERAÇÕES NORMAIS   /LUIZ\n",
        "plt.rcParams['figure.figsize'] = (6,6)\n",
        "plt.pie([6362620, q200], labels=['OPERAÇÕES NORMAIS', 'MONTANTE >= 200.000'], colors=['blue', 'red'], autopct=lambda p: '{:.2f}'.format(p * 100.0 / 100)+'%')\n",
        "plt.title('MONTANTE >= 200.000 X  OPERAÇÕES NORMAIS')\n",
        "plt.show()"
      ],
      "execution_count": null,
      "outputs": [
        {
          "output_type": "display_data",
          "data": {
            "image/png": "[encoded data removed]",
            "text/plain": [
              "<Figure size 432x432 with 1 Axes>"
            ]
          },
          "metadata": {
            "tags": []
          }
        }
      ]
    },
    {
      "cell_type": "code",
      "metadata": {
        "id": "c6TT0Y_zJfcE",
        "colab": {
          "base_uri": "https://localhost:8080/",
          "height": 548
        },
        "outputId": "319f20e7-ef20-4614-86e9-eb7ba891dae5"
      },
      "source": [
        "# MOSTRA AS SINALIZAÇÕES DE FRAUDE   \\LUIZ\n",
        "df.query(' (isFlaggedFraud == 1)')"
      ],
      "execution_count": null,
      "outputs": [
        {
          "output_type": "execute_result",
          "data": {
            "text/html": [
              "<div>\n",
              "<style scoped>\n",
              "    .dataframe tbody tr th:only-of-type {\n",
              "        vertical-align: middle;\n",
              "    }\n",
              "\n",
              "    .dataframe tbody tr th {\n",
              "        vertical-align: top;\n",
              "    }\n",
              "\n",
              "    .dataframe thead th {\n",
              "        text-align: right;\n",
              "    }\n",
              "</style>\n",
              "<table border=\"1\" class=\"dataframe\">\n",
              "  <thead>\n",
              "    <tr style=\"text-align: right;\">\n",
              "      <th></th>\n",
              "      <th>step</th>\n",
              "      <th>type</th>\n",
              "      <th>amount</th>\n",
              "      <th>nameOrig</th>\n",
              "      <th>oldbalanceOrg</th>\n",
              "      <th>newbalanceOrig</th>\n",
              "      <th>nameDest</th>\n",
              "      <th>oldbalanceDest</th>\n",
              "      <th>newbalanceDest</th>\n",
              "      <th>isFraud</th>\n",
              "      <th>isFlaggedFraud</th>\n",
              "    </tr>\n",
              "  </thead>\n",
              "  <tbody>\n",
              "    <tr>\n",
              "      <th>2736446</th>\n",
              "      <td>212</td>\n",
              "      <td>TRANSFER</td>\n",
              "      <td>4953893.08</td>\n",
              "      <td>C728984460</td>\n",
              "      <td>4953893.08</td>\n",
              "      <td>4953893.08</td>\n",
              "      <td>C639921569</td>\n",
              "      <td>0.0</td>\n",
              "      <td>0.0</td>\n",
              "      <td>1</td>\n",
              "      <td>1</td>\n",
              "    </tr>\n",
              "    <tr>\n",
              "      <th>3247297</th>\n",
              "      <td>250</td>\n",
              "      <td>TRANSFER</td>\n",
              "      <td>1343002.08</td>\n",
              "      <td>C1100582606</td>\n",
              "      <td>1343002.08</td>\n",
              "      <td>1343002.08</td>\n",
              "      <td>C1147517658</td>\n",
              "      <td>0.0</td>\n",
              "      <td>0.0</td>\n",
              "      <td>1</td>\n",
              "      <td>1</td>\n",
              "    </tr>\n",
              "    <tr>\n",
              "      <th>3760288</th>\n",
              "      <td>279</td>\n",
              "      <td>TRANSFER</td>\n",
              "      <td>536624.41</td>\n",
              "      <td>C1035541766</td>\n",
              "      <td>536624.41</td>\n",
              "      <td>536624.41</td>\n",
              "      <td>C1100697970</td>\n",
              "      <td>0.0</td>\n",
              "      <td>0.0</td>\n",
              "      <td>1</td>\n",
              "      <td>1</td>\n",
              "    </tr>\n",
              "    <tr>\n",
              "      <th>5563713</th>\n",
              "      <td>387</td>\n",
              "      <td>TRANSFER</td>\n",
              "      <td>4892193.09</td>\n",
              "      <td>C908544136</td>\n",
              "      <td>4892193.09</td>\n",
              "      <td>4892193.09</td>\n",
              "      <td>C891140444</td>\n",
              "      <td>0.0</td>\n",
              "      <td>0.0</td>\n",
              "      <td>1</td>\n",
              "      <td>1</td>\n",
              "    </tr>\n",
              "    <tr>\n",
              "      <th>5996407</th>\n",
              "      <td>425</td>\n",
              "      <td>TRANSFER</td>\n",
              "      <td>10000000.00</td>\n",
              "      <td>C689608084</td>\n",
              "      <td>19585040.37</td>\n",
              "      <td>19585040.37</td>\n",
              "      <td>C1392803603</td>\n",
              "      <td>0.0</td>\n",
              "      <td>0.0</td>\n",
              "      <td>1</td>\n",
              "      <td>1</td>\n",
              "    </tr>\n",
              "    <tr>\n",
              "      <th>5996409</th>\n",
              "      <td>425</td>\n",
              "      <td>TRANSFER</td>\n",
              "      <td>9585040.37</td>\n",
              "      <td>C452586515</td>\n",
              "      <td>19585040.37</td>\n",
              "      <td>19585040.37</td>\n",
              "      <td>C1109166882</td>\n",
              "      <td>0.0</td>\n",
              "      <td>0.0</td>\n",
              "      <td>1</td>\n",
              "      <td>1</td>\n",
              "    </tr>\n",
              "    <tr>\n",
              "      <th>6168499</th>\n",
              "      <td>554</td>\n",
              "      <td>TRANSFER</td>\n",
              "      <td>3576297.10</td>\n",
              "      <td>C193696150</td>\n",
              "      <td>3576297.10</td>\n",
              "      <td>3576297.10</td>\n",
              "      <td>C484597480</td>\n",
              "      <td>0.0</td>\n",
              "      <td>0.0</td>\n",
              "      <td>1</td>\n",
              "      <td>1</td>\n",
              "    </tr>\n",
              "    <tr>\n",
              "      <th>6205439</th>\n",
              "      <td>586</td>\n",
              "      <td>TRANSFER</td>\n",
              "      <td>353874.22</td>\n",
              "      <td>C1684585475</td>\n",
              "      <td>353874.22</td>\n",
              "      <td>353874.22</td>\n",
              "      <td>C1770418982</td>\n",
              "      <td>0.0</td>\n",
              "      <td>0.0</td>\n",
              "      <td>1</td>\n",
              "      <td>1</td>\n",
              "    </tr>\n",
              "    <tr>\n",
              "      <th>6266413</th>\n",
              "      <td>617</td>\n",
              "      <td>TRANSFER</td>\n",
              "      <td>2542664.27</td>\n",
              "      <td>C786455622</td>\n",
              "      <td>2542664.27</td>\n",
              "      <td>2542664.27</td>\n",
              "      <td>C661958277</td>\n",
              "      <td>0.0</td>\n",
              "      <td>0.0</td>\n",
              "      <td>1</td>\n",
              "      <td>1</td>\n",
              "    </tr>\n",
              "    <tr>\n",
              "      <th>6281482</th>\n",
              "      <td>646</td>\n",
              "      <td>TRANSFER</td>\n",
              "      <td>10000000.00</td>\n",
              "      <td>C19004745</td>\n",
              "      <td>10399045.08</td>\n",
              "      <td>10399045.08</td>\n",
              "      <td>C1806199534</td>\n",
              "      <td>0.0</td>\n",
              "      <td>0.0</td>\n",
              "      <td>1</td>\n",
              "      <td>1</td>\n",
              "    </tr>\n",
              "    <tr>\n",
              "      <th>6281484</th>\n",
              "      <td>646</td>\n",
              "      <td>TRANSFER</td>\n",
              "      <td>399045.08</td>\n",
              "      <td>C724693370</td>\n",
              "      <td>10399045.08</td>\n",
              "      <td>10399045.08</td>\n",
              "      <td>C1909486199</td>\n",
              "      <td>0.0</td>\n",
              "      <td>0.0</td>\n",
              "      <td>1</td>\n",
              "      <td>1</td>\n",
              "    </tr>\n",
              "    <tr>\n",
              "      <th>6296014</th>\n",
              "      <td>671</td>\n",
              "      <td>TRANSFER</td>\n",
              "      <td>3441041.46</td>\n",
              "      <td>C917414431</td>\n",
              "      <td>3441041.46</td>\n",
              "      <td>3441041.46</td>\n",
              "      <td>C1082139865</td>\n",
              "      <td>0.0</td>\n",
              "      <td>0.0</td>\n",
              "      <td>1</td>\n",
              "      <td>1</td>\n",
              "    </tr>\n",
              "    <tr>\n",
              "      <th>6351225</th>\n",
              "      <td>702</td>\n",
              "      <td>TRANSFER</td>\n",
              "      <td>3171085.59</td>\n",
              "      <td>C1892216157</td>\n",
              "      <td>3171085.59</td>\n",
              "      <td>3171085.59</td>\n",
              "      <td>C1308068787</td>\n",
              "      <td>0.0</td>\n",
              "      <td>0.0</td>\n",
              "      <td>1</td>\n",
              "      <td>1</td>\n",
              "    </tr>\n",
              "    <tr>\n",
              "      <th>6362460</th>\n",
              "      <td>730</td>\n",
              "      <td>TRANSFER</td>\n",
              "      <td>10000000.00</td>\n",
              "      <td>C2140038573</td>\n",
              "      <td>17316255.05</td>\n",
              "      <td>17316255.05</td>\n",
              "      <td>C1395467927</td>\n",
              "      <td>0.0</td>\n",
              "      <td>0.0</td>\n",
              "      <td>1</td>\n",
              "      <td>1</td>\n",
              "    </tr>\n",
              "    <tr>\n",
              "      <th>6362462</th>\n",
              "      <td>730</td>\n",
              "      <td>TRANSFER</td>\n",
              "      <td>7316255.05</td>\n",
              "      <td>C1869569059</td>\n",
              "      <td>17316255.05</td>\n",
              "      <td>17316255.05</td>\n",
              "      <td>C1861208726</td>\n",
              "      <td>0.0</td>\n",
              "      <td>0.0</td>\n",
              "      <td>1</td>\n",
              "      <td>1</td>\n",
              "    </tr>\n",
              "    <tr>\n",
              "      <th>6362584</th>\n",
              "      <td>741</td>\n",
              "      <td>TRANSFER</td>\n",
              "      <td>5674547.89</td>\n",
              "      <td>C992223106</td>\n",
              "      <td>5674547.89</td>\n",
              "      <td>5674547.89</td>\n",
              "      <td>C1366804249</td>\n",
              "      <td>0.0</td>\n",
              "      <td>0.0</td>\n",
              "      <td>1</td>\n",
              "      <td>1</td>\n",
              "    </tr>\n",
              "  </tbody>\n",
              "</table>\n",
              "</div>"
            ],
            "text/plain": [
              "         step      type       amount  ... newbalanceDest  isFraud  isFlaggedFraud\n",
              "2736446   212  TRANSFER   4953893.08  ...            0.0        1               1\n",
              "3247297   250  TRANSFER   1343002.08  ...            0.0        1               1\n",
              "3760288   279  TRANSFER    536624.41  ...            0.0        1               1\n",
              "5563713   387  TRANSFER   4892193.09  ...            0.0        1               1\n",
              "5996407   425  TRANSFER  10000000.00  ...            0.0        1               1\n",
              "5996409   425  TRANSFER   9585040.37  ...            0.0        1               1\n",
              "6168499   554  TRANSFER   3576297.10  ...            0.0        1               1\n",
              "6205439   586  TRANSFER    353874.22  ...            0.0        1               1\n",
              "6266413   617  TRANSFER   2542664.27  ...            0.0        1               1\n",
              "6281482   646  TRANSFER  10000000.00  ...            0.0        1               1\n",
              "6281484   646  TRANSFER    399045.08  ...            0.0        1               1\n",
              "6296014   671  TRANSFER   3441041.46  ...            0.0        1               1\n",
              "6351225   702  TRANSFER   3171085.59  ...            0.0        1               1\n",
              "6362460   730  TRANSFER  10000000.00  ...            0.0        1               1\n",
              "6362462   730  TRANSFER   7316255.05  ...            0.0        1               1\n",
              "6362584   741  TRANSFER   5674547.89  ...            0.0        1               1\n",
              "\n",
              "[16 rows x 11 columns]"
            ]
          },
          "metadata": {
            "tags": []
          },
          "execution_count": 10
        }
      ]
    },
    {
      "cell_type": "markdown",
      "metadata": {
        "id": "sVgYSnL4JfcL"
      },
      "source": [
        "**SOBRE A SINALISAÇÃO DE SUSPEITA DE FRAUDE**     /LUIZ\n",
        "\n",
        "Apesar de sinalizar de possibilidade de fraude sempre ter acertado a fraude,\n",
        "a sinalização de fraude só foi levantada 16 vezes dentre os 6.362.620 registros. Existem muitas operações com montantes superiores à 200.000 que não foram sinalizadas.\n",
        "Portanto esta sinalização não tem consistência, nem representatividade e, então, pode ser descartada do modelo a ser implementado."
      ]
    },
    {
      "cell_type": "markdown",
      "metadata": {
        "id": "kq_kIFFYJfcM"
      },
      "source": [
        "# Análise de operações      /LUIZ"
      ]
    },
    {
      "cell_type": "code",
      "metadata": {
        "id": "edUNpBPxJfcM",
        "colab": {
          "base_uri": "https://localhost:8080/"
        },
        "outputId": "90cc417f-a189-4c2a-ac48-54f561e126f8"
      },
      "source": [
        "# QUANTIDADE DE FRAUDES COM OPERAÇÃO DE CASH_IN    /LUIZ\n",
        "e = np.sum((df.type == 'CASH_IN') & df.isFraud); e"
      ],
      "execution_count": null,
      "outputs": [
        {
          "output_type": "execute_result",
          "data": {
            "text/plain": [
              "0"
            ]
          },
          "metadata": {
            "tags": []
          },
          "execution_count": 12
        }
      ]
    },
    {
      "cell_type": "code",
      "metadata": {
        "id": "bpXz7RKZJfcQ",
        "colab": {
          "base_uri": "https://localhost:8080/"
        },
        "outputId": "21a2fc59-c96d-4428-9040-2b653f62dec6"
      },
      "source": [
        "# QUANTIDADE DE FRAUDES COM OPERAÇÃO DE CASH_OUT  /LUIZ\n",
        "s = np.sum((df.type == 'CASH_OUT') & df.isFraud); s"
      ],
      "execution_count": null,
      "outputs": [
        {
          "output_type": "execute_result",
          "data": {
            "text/plain": [
              "4116"
            ]
          },
          "metadata": {
            "tags": []
          },
          "execution_count": 13
        }
      ]
    },
    {
      "cell_type": "code",
      "metadata": {
        "id": "vVyVsnF2JfcT",
        "colab": {
          "base_uri": "https://localhost:8080/"
        },
        "outputId": "dbd2c1c3-44ea-409b-92dc-6ebbc0ecfd98"
      },
      "source": [
        "# QUANTIDADE DE FRAUDES COM OPERAÇÃO DE DEBIT  /LUIZ\n",
        "d = np.sum((df.type == 'DEBIT') & df.isFraud); d"
      ],
      "execution_count": null,
      "outputs": [
        {
          "output_type": "execute_result",
          "data": {
            "text/plain": [
              "0"
            ]
          },
          "metadata": {
            "tags": []
          },
          "execution_count": 14
        }
      ]
    },
    {
      "cell_type": "code",
      "metadata": {
        "id": "1FG3wVtQJfcW",
        "colab": {
          "base_uri": "https://localhost:8080/"
        },
        "outputId": "c6c61a5f-0415-445d-ee6e-c491117f1d60"
      },
      "source": [
        "# QUANTIDADE DE FRAUDES COM OPERAÇÃO DE PAYMENT  /LUIZ\n",
        "p = np.sum((df.type == 'PAYMENT') & df.isFraud); p"
      ],
      "execution_count": null,
      "outputs": [
        {
          "output_type": "execute_result",
          "data": {
            "text/plain": [
              "0"
            ]
          },
          "metadata": {
            "tags": []
          },
          "execution_count": 15
        }
      ]
    },
    {
      "cell_type": "code",
      "metadata": {
        "id": "n_baHsW3JfcZ",
        "colab": {
          "base_uri": "https://localhost:8080/"
        },
        "outputId": "4cf31799-e2b1-4a77-9250-9abeea24a215"
      },
      "source": [
        "# QUANTIDADE DE FRAUDES COM OPERAÇÃO DE TRANSFER  /LUIZ\n",
        "t = np.sum((df.type == 'TRANSFER') & df.isFraud); t"
      ],
      "execution_count": null,
      "outputs": [
        {
          "output_type": "execute_result",
          "data": {
            "text/plain": [
              "4097"
            ]
          },
          "metadata": {
            "tags": []
          },
          "execution_count": 16
        }
      ]
    },
    {
      "cell_type": "code",
      "metadata": {
        "id": "I3KgCz0w7MEs",
        "colab": {
          "base_uri": "https://localhost:8080/",
          "height": 375
        },
        "outputId": "f6ddb714-eae5-44ad-e89c-1508b040b8e7"
      },
      "source": [
        "#gráfico  TIPOS DE OPERAÇÕES QUE OCORRERAM FRAUDE   /LUIZ\n",
        "plt.rcParams['figure.figsize'] = (6,6)\n",
        "plt.pie([e, s, d, t], labels=['CASH_IN', 'CASH-OUT','DEBIT' , 'TRANSFER'], autopct=lambda p: '{:.2f}'.format(p * 100.0 / 100)+'%')\n",
        "plt.title('TIPOS DE OPERAÇÕES QUE OCORRERAM FRAUDE ')\n",
        "plt.show()"
      ],
      "execution_count": null,
      "outputs": [
        {
          "output_type": "display_data",
          "data": {
            "image/png": "[encoded data removed]",
            "text/plain": [
              "<Figure size 432x432 with 1 Axes>"
            ]
          },
          "metadata": {
            "tags": []
          }
        }
      ]
    },
    {
      "cell_type": "markdown",
      "metadata": {
        "id": "1yG8b_EOJfcd"
      },
      "source": [
        " **NOTA-SE QUE SÓ OCORRERAM FRAUDES COM AS OPERAÇÕES DE TRANSFER E CASH_OUT**   /LUIZ\n",
        " \n",
        " "
      ]
    },
    {
      "cell_type": "code",
      "metadata": {
        "id": "3ujTjgn6Jfch",
        "colab": {
          "base_uri": "https://localhost:8080/",
          "height": 427
        },
        "outputId": "d57629d2-e3fa-4147-db3f-9774d384a5ed"
      },
      "source": [
        "dfFraud = df.loc[df.isFraud == 1]\n",
        "dfFraud"
      ],
      "execution_count": null,
      "outputs": [
        {
          "output_type": "execute_result",
          "data": {
            "text/html": [
              "<div>\n",
              "<style scoped>\n",
              "    .dataframe tbody tr th:only-of-type {\n",
              "        vertical-align: middle;\n",
              "    }\n",
              "\n",
              "    .dataframe tbody tr th {\n",
              "        vertical-align: top;\n",
              "    }\n",
              "\n",
              "    .dataframe thead th {\n",
              "        text-align: right;\n",
              "    }\n",
              "</style>\n",
              "<table border=\"1\" class=\"dataframe\">\n",
              "  <thead>\n",
              "    <tr style=\"text-align: right;\">\n",
              "      <th></th>\n",
              "      <th>step</th>\n",
              "      <th>type</th>\n",
              "      <th>amount</th>\n",
              "      <th>nameOrig</th>\n",
              "      <th>oldbalanceOrg</th>\n",
              "      <th>newbalanceOrig</th>\n",
              "      <th>nameDest</th>\n",
              "      <th>oldbalanceDest</th>\n",
              "      <th>newbalanceDest</th>\n",
              "      <th>isFraud</th>\n",
              "      <th>isFlaggedFraud</th>\n",
              "    </tr>\n",
              "  </thead>\n",
              "  <tbody>\n",
              "    <tr>\n",
              "      <th>2</th>\n",
              "      <td>1</td>\n",
              "      <td>TRANSFER</td>\n",
              "      <td>181.00</td>\n",
              "      <td>C1305486145</td>\n",
              "      <td>181.00</td>\n",
              "      <td>0.0</td>\n",
              "      <td>C553264065</td>\n",
              "      <td>0.00</td>\n",
              "      <td>0.00</td>\n",
              "      <td>1</td>\n",
              "      <td>0</td>\n",
              "    </tr>\n",
              "    <tr>\n",
              "      <th>3</th>\n",
              "      <td>1</td>\n",
              "      <td>CASH_OUT</td>\n",
              "      <td>181.00</td>\n",
              "      <td>C840083671</td>\n",
              "      <td>181.00</td>\n",
              "      <td>0.0</td>\n",
              "      <td>C38997010</td>\n",
              "      <td>21182.00</td>\n",
              "      <td>0.00</td>\n",
              "      <td>1</td>\n",
              "      <td>0</td>\n",
              "    </tr>\n",
              "    <tr>\n",
              "      <th>251</th>\n",
              "      <td>1</td>\n",
              "      <td>TRANSFER</td>\n",
              "      <td>2806.00</td>\n",
              "      <td>C1420196421</td>\n",
              "      <td>2806.00</td>\n",
              "      <td>0.0</td>\n",
              "      <td>C972765878</td>\n",
              "      <td>0.00</td>\n",
              "      <td>0.00</td>\n",
              "      <td>1</td>\n",
              "      <td>0</td>\n",
              "    </tr>\n",
              "    <tr>\n",
              "      <th>252</th>\n",
              "      <td>1</td>\n",
              "      <td>CASH_OUT</td>\n",
              "      <td>2806.00</td>\n",
              "      <td>C2101527076</td>\n",
              "      <td>2806.00</td>\n",
              "      <td>0.0</td>\n",
              "      <td>C1007251739</td>\n",
              "      <td>26202.00</td>\n",
              "      <td>0.00</td>\n",
              "      <td>1</td>\n",
              "      <td>0</td>\n",
              "    </tr>\n",
              "    <tr>\n",
              "      <th>680</th>\n",
              "      <td>1</td>\n",
              "      <td>TRANSFER</td>\n",
              "      <td>20128.00</td>\n",
              "      <td>C137533655</td>\n",
              "      <td>20128.00</td>\n",
              "      <td>0.0</td>\n",
              "      <td>C1848415041</td>\n",
              "      <td>0.00</td>\n",
              "      <td>0.00</td>\n",
              "      <td>1</td>\n",
              "      <td>0</td>\n",
              "    </tr>\n",
              "    <tr>\n",
              "      <th>...</th>\n",
              "      <td>...</td>\n",
              "      <td>...</td>\n",
              "      <td>...</td>\n",
              "      <td>...</td>\n",
              "      <td>...</td>\n",
              "      <td>...</td>\n",
              "      <td>...</td>\n",
              "      <td>...</td>\n",
              "      <td>...</td>\n",
              "      <td>...</td>\n",
              "      <td>...</td>\n",
              "    </tr>\n",
              "    <tr>\n",
              "      <th>6362615</th>\n",
              "      <td>743</td>\n",
              "      <td>CASH_OUT</td>\n",
              "      <td>339682.13</td>\n",
              "      <td>C786484425</td>\n",
              "      <td>339682.13</td>\n",
              "      <td>0.0</td>\n",
              "      <td>C776919290</td>\n",
              "      <td>0.00</td>\n",
              "      <td>339682.13</td>\n",
              "      <td>1</td>\n",
              "      <td>0</td>\n",
              "    </tr>\n",
              "    <tr>\n",
              "      <th>6362616</th>\n",
              "      <td>743</td>\n",
              "      <td>TRANSFER</td>\n",
              "      <td>6311409.28</td>\n",
              "      <td>C1529008245</td>\n",
              "      <td>6311409.28</td>\n",
              "      <td>0.0</td>\n",
              "      <td>C1881841831</td>\n",
              "      <td>0.00</td>\n",
              "      <td>0.00</td>\n",
              "      <td>1</td>\n",
              "      <td>0</td>\n",
              "    </tr>\n",
              "    <tr>\n",
              "      <th>6362617</th>\n",
              "      <td>743</td>\n",
              "      <td>CASH_OUT</td>\n",
              "      <td>6311409.28</td>\n",
              "      <td>C1162922333</td>\n",
              "      <td>6311409.28</td>\n",
              "      <td>0.0</td>\n",
              "      <td>C1365125890</td>\n",
              "      <td>68488.84</td>\n",
              "      <td>6379898.11</td>\n",
              "      <td>1</td>\n",
              "      <td>0</td>\n",
              "    </tr>\n",
              "    <tr>\n",
              "      <th>6362618</th>\n",
              "      <td>743</td>\n",
              "      <td>TRANSFER</td>\n",
              "      <td>850002.52</td>\n",
              "      <td>C1685995037</td>\n",
              "      <td>850002.52</td>\n",
              "      <td>0.0</td>\n",
              "      <td>C2080388513</td>\n",
              "      <td>0.00</td>\n",
              "      <td>0.00</td>\n",
              "      <td>1</td>\n",
              "      <td>0</td>\n",
              "    </tr>\n",
              "    <tr>\n",
              "      <th>6362619</th>\n",
              "      <td>743</td>\n",
              "      <td>CASH_OUT</td>\n",
              "      <td>850002.52</td>\n",
              "      <td>C1280323807</td>\n",
              "      <td>850002.52</td>\n",
              "      <td>0.0</td>\n",
              "      <td>C873221189</td>\n",
              "      <td>6510099.11</td>\n",
              "      <td>7360101.63</td>\n",
              "      <td>1</td>\n",
              "      <td>0</td>\n",
              "    </tr>\n",
              "  </tbody>\n",
              "</table>\n",
              "<p>8213 rows × 11 columns</p>\n",
              "</div>"
            ],
            "text/plain": [
              "         step      type      amount  ... newbalanceDest  isFraud  isFlaggedFraud\n",
              "2           1  TRANSFER      181.00  ...           0.00        1               0\n",
              "3           1  CASH_OUT      181.00  ...           0.00        1               0\n",
              "251         1  TRANSFER     2806.00  ...           0.00        1               0\n",
              "252         1  CASH_OUT     2806.00  ...           0.00        1               0\n",
              "680         1  TRANSFER    20128.00  ...           0.00        1               0\n",
              "...       ...       ...         ...  ...            ...      ...             ...\n",
              "6362615   743  CASH_OUT   339682.13  ...      339682.13        1               0\n",
              "6362616   743  TRANSFER  6311409.28  ...           0.00        1               0\n",
              "6362617   743  CASH_OUT  6311409.28  ...     6379898.11        1               0\n",
              "6362618   743  TRANSFER   850002.52  ...           0.00        1               0\n",
              "6362619   743  CASH_OUT   850002.52  ...     7360101.63        1               0\n",
              "\n",
              "[8213 rows x 11 columns]"
            ]
          },
          "metadata": {
            "tags": []
          },
          "execution_count": 18
        }
      ]
    },
    {
      "cell_type": "markdown",
      "metadata": {
        "id": "y1FQJZ9BJfcl"
      },
      "source": [
        "NOTA-SE QUE NA MAIORIA DAS VEZES, AS OPERAÇÕES DE FRAUDE OCORREM EM PARES DE \"TRANSFER\" E \"CASH_OUT\".   /LUIZ\n",
        "\n",
        "EMBORA EXISTAM ALGUMAS OCORRÊNCIAS DE FRAUDES COM \"CASH_OUT\" OU \"TRANSFER\" ISOLADAMENTE."
      ]
    },
    {
      "cell_type": "code",
      "metadata": {
        "id": "64zA0lxlJfct"
      },
      "source": [
        "dfTransfer  = dfFraud.loc[df.type == 'TRANSFER']"
      ],
      "execution_count": null,
      "outputs": []
    },
    {
      "cell_type": "code",
      "metadata": {
        "id": "9HSHNtgKJfcx",
        "colab": {
          "base_uri": "https://localhost:8080/"
        },
        "outputId": "44b4dedc-257c-400d-8b4c-3c31eb188261"
      },
      "source": [
        "# QUANTIDADE DE TRANSFERÊNCIAS FRAUDOLENTAS QUE NÃO RESULTARAM EM SALDOS ZEROS NA CONTA DE DESTINO  /LUIZ\n",
        "np.sum((dfTransfer.oldbalanceDest != 0) | (dfTransfer.newbalanceDest != 0))"
      ],
      "execution_count": null,
      "outputs": [
        {
          "output_type": "execute_result",
          "data": {
            "text/plain": [
              "29"
            ]
          },
          "metadata": {
            "tags": []
          },
          "execution_count": 19
        }
      ]
    },
    {
      "cell_type": "code",
      "metadata": {
        "id": "ATqiGXtsJfcz",
        "colab": {
          "base_uri": "https://localhost:8080/",
          "height": 938
        },
        "outputId": "f5af6e63-72f6-4011-f76c-c8183d9abba8"
      },
      "source": [
        "# MOSTRA AS TRANSFERÊNCIAS QUE NÃO RESULTARAM EM SALDOS ZEROS NA CONTA DE DESTINO  /LUIZ\n",
        "dfTransfer.query(' (oldbalanceDest != 0 or newbalanceDest != 0)')"
      ],
      "execution_count": null,
      "outputs": [
        {
          "output_type": "execute_result",
          "data": {
            "text/html": [
              "<div>\n",
              "<style scoped>\n",
              "    .dataframe tbody tr th:only-of-type {\n",
              "        vertical-align: middle;\n",
              "    }\n",
              "\n",
              "    .dataframe tbody tr th {\n",
              "        vertical-align: top;\n",
              "    }\n",
              "\n",
              "    .dataframe thead th {\n",
              "        text-align: right;\n",
              "    }\n",
              "</style>\n",
              "<table border=\"1\" class=\"dataframe\">\n",
              "  <thead>\n",
              "    <tr style=\"text-align: right;\">\n",
              "      <th></th>\n",
              "      <th>step</th>\n",
              "      <th>type</th>\n",
              "      <th>amount</th>\n",
              "      <th>nameOrig</th>\n",
              "      <th>oldbalanceOrg</th>\n",
              "      <th>newbalanceOrig</th>\n",
              "      <th>nameDest</th>\n",
              "      <th>oldbalanceDest</th>\n",
              "      <th>newbalanceDest</th>\n",
              "      <th>isFraud</th>\n",
              "      <th>isFlaggedFraud</th>\n",
              "    </tr>\n",
              "  </thead>\n",
              "  <tbody>\n",
              "    <tr>\n",
              "      <th>6706</th>\n",
              "      <td>6</td>\n",
              "      <td>TRANSFER</td>\n",
              "      <td>17246.00</td>\n",
              "      <td>C1034673425</td>\n",
              "      <td>17246.00</td>\n",
              "      <td>0.00</td>\n",
              "      <td>C1379589736</td>\n",
              "      <td>0.00</td>\n",
              "      <td>101717.84</td>\n",
              "      <td>1</td>\n",
              "      <td>0</td>\n",
              "    </tr>\n",
              "    <tr>\n",
              "      <th>7154</th>\n",
              "      <td>6</td>\n",
              "      <td>TRANSFER</td>\n",
              "      <td>13704.00</td>\n",
              "      <td>C1735554279</td>\n",
              "      <td>13704.00</td>\n",
              "      <td>0.00</td>\n",
              "      <td>C12793273</td>\n",
              "      <td>0.00</td>\n",
              "      <td>1658746.09</td>\n",
              "      <td>1</td>\n",
              "      <td>0</td>\n",
              "    </tr>\n",
              "    <tr>\n",
              "      <th>18771</th>\n",
              "      <td>8</td>\n",
              "      <td>TRANSFER</td>\n",
              "      <td>222.00</td>\n",
              "      <td>C1961506277</td>\n",
              "      <td>222.00</td>\n",
              "      <td>0.00</td>\n",
              "      <td>C378841819</td>\n",
              "      <td>0.00</td>\n",
              "      <td>267095.19</td>\n",
              "      <td>1</td>\n",
              "      <td>0</td>\n",
              "    </tr>\n",
              "    <tr>\n",
              "      <th>25875</th>\n",
              "      <td>8</td>\n",
              "      <td>TRANSFER</td>\n",
              "      <td>1078013.76</td>\n",
              "      <td>C1026280121</td>\n",
              "      <td>0.00</td>\n",
              "      <td>0.00</td>\n",
              "      <td>C277510102</td>\n",
              "      <td>0.00</td>\n",
              "      <td>970749.68</td>\n",
              "      <td>1</td>\n",
              "      <td>0</td>\n",
              "    </tr>\n",
              "    <tr>\n",
              "      <th>47144</th>\n",
              "      <td>9</td>\n",
              "      <td>TRANSFER</td>\n",
              "      <td>350705.74</td>\n",
              "      <td>C1452168793</td>\n",
              "      <td>350705.74</td>\n",
              "      <td>0.00</td>\n",
              "      <td>C399194578</td>\n",
              "      <td>0.00</td>\n",
              "      <td>1184633.07</td>\n",
              "      <td>1</td>\n",
              "      <td>0</td>\n",
              "    </tr>\n",
              "    <tr>\n",
              "      <th>49825</th>\n",
              "      <td>9</td>\n",
              "      <td>TRANSFER</td>\n",
              "      <td>2539898.07</td>\n",
              "      <td>C394488466</td>\n",
              "      <td>2539898.07</td>\n",
              "      <td>0.00</td>\n",
              "      <td>C575638324</td>\n",
              "      <td>0.00</td>\n",
              "      <td>261290.69</td>\n",
              "      <td>1</td>\n",
              "      <td>0</td>\n",
              "    </tr>\n",
              "    <tr>\n",
              "      <th>49885</th>\n",
              "      <td>9</td>\n",
              "      <td>TRANSFER</td>\n",
              "      <td>361559.69</td>\n",
              "      <td>C1287719145</td>\n",
              "      <td>361559.69</td>\n",
              "      <td>0.00</td>\n",
              "      <td>C352239275</td>\n",
              "      <td>0.00</td>\n",
              "      <td>141302.12</td>\n",
              "      <td>1</td>\n",
              "      <td>0</td>\n",
              "    </tr>\n",
              "    <tr>\n",
              "      <th>56477</th>\n",
              "      <td>9</td>\n",
              "      <td>TRANSFER</td>\n",
              "      <td>1154353.99</td>\n",
              "      <td>C670587931</td>\n",
              "      <td>1154353.99</td>\n",
              "      <td>0.00</td>\n",
              "      <td>C150406565</td>\n",
              "      <td>0.00</td>\n",
              "      <td>10872.90</td>\n",
              "      <td>1</td>\n",
              "      <td>0</td>\n",
              "    </tr>\n",
              "    <tr>\n",
              "      <th>60853</th>\n",
              "      <td>9</td>\n",
              "      <td>TRANSFER</td>\n",
              "      <td>994453.20</td>\n",
              "      <td>C1121789613</td>\n",
              "      <td>1437370.87</td>\n",
              "      <td>442917.67</td>\n",
              "      <td>C254839817</td>\n",
              "      <td>194812.76</td>\n",
              "      <td>665743.67</td>\n",
              "      <td>1</td>\n",
              "      <td>0</td>\n",
              "    </tr>\n",
              "    <tr>\n",
              "      <th>102607</th>\n",
              "      <td>10</td>\n",
              "      <td>TRANSFER</td>\n",
              "      <td>9217.19</td>\n",
              "      <td>C184586799</td>\n",
              "      <td>9217.19</td>\n",
              "      <td>0.00</td>\n",
              "      <td>C812377986</td>\n",
              "      <td>0.00</td>\n",
              "      <td>96795.60</td>\n",
              "      <td>1</td>\n",
              "      <td>0</td>\n",
              "    </tr>\n",
              "    <tr>\n",
              "      <th>138559</th>\n",
              "      <td>11</td>\n",
              "      <td>TRANSFER</td>\n",
              "      <td>1933920.80</td>\n",
              "      <td>C1706582969</td>\n",
              "      <td>0.00</td>\n",
              "      <td>0.00</td>\n",
              "      <td>C461905695</td>\n",
              "      <td>1283762.85</td>\n",
              "      <td>3217683.65</td>\n",
              "      <td>1</td>\n",
              "      <td>0</td>\n",
              "    </tr>\n",
              "    <tr>\n",
              "      <th>141634</th>\n",
              "      <td>11</td>\n",
              "      <td>TRANSFER</td>\n",
              "      <td>313418.28</td>\n",
              "      <td>C711446907</td>\n",
              "      <td>313418.28</td>\n",
              "      <td>0.00</td>\n",
              "      <td>C888769567</td>\n",
              "      <td>0.00</td>\n",
              "      <td>97980.88</td>\n",
              "      <td>1</td>\n",
              "      <td>0</td>\n",
              "    </tr>\n",
              "    <tr>\n",
              "      <th>167556</th>\n",
              "      <td>12</td>\n",
              "      <td>TRANSFER</td>\n",
              "      <td>2066467.64</td>\n",
              "      <td>C1223631235</td>\n",
              "      <td>2066467.64</td>\n",
              "      <td>0.00</td>\n",
              "      <td>C1281019843</td>\n",
              "      <td>0.00</td>\n",
              "      <td>81209.81</td>\n",
              "      <td>1</td>\n",
              "      <td>0</td>\n",
              "    </tr>\n",
              "    <tr>\n",
              "      <th>182861</th>\n",
              "      <td>13</td>\n",
              "      <td>TRANSFER</td>\n",
              "      <td>408.00</td>\n",
              "      <td>C2021466585</td>\n",
              "      <td>408.00</td>\n",
              "      <td>0.00</td>\n",
              "      <td>C1864486913</td>\n",
              "      <td>0.00</td>\n",
              "      <td>226013.18</td>\n",
              "      <td>1</td>\n",
              "      <td>0</td>\n",
              "    </tr>\n",
              "    <tr>\n",
              "      <th>217978</th>\n",
              "      <td>13</td>\n",
              "      <td>TRANSFER</td>\n",
              "      <td>123194.95</td>\n",
              "      <td>C2143112877</td>\n",
              "      <td>79466.45</td>\n",
              "      <td>0.00</td>\n",
              "      <td>C1755380031</td>\n",
              "      <td>535933.16</td>\n",
              "      <td>263908.84</td>\n",
              "      <td>1</td>\n",
              "      <td>0</td>\n",
              "    </tr>\n",
              "    <tr>\n",
              "      <th>271116</th>\n",
              "      <td>15</td>\n",
              "      <td>TRANSFER</td>\n",
              "      <td>696763.08</td>\n",
              "      <td>C968403759</td>\n",
              "      <td>696763.08</td>\n",
              "      <td>0.00</td>\n",
              "      <td>C1524019269</td>\n",
              "      <td>0.00</td>\n",
              "      <td>69861.26</td>\n",
              "      <td>1</td>\n",
              "      <td>0</td>\n",
              "    </tr>\n",
              "    <tr>\n",
              "      <th>410905</th>\n",
              "      <td>18</td>\n",
              "      <td>TRANSFER</td>\n",
              "      <td>1102133.90</td>\n",
              "      <td>C590103740</td>\n",
              "      <td>1102133.90</td>\n",
              "      <td>0.00</td>\n",
              "      <td>C1610372134</td>\n",
              "      <td>0.00</td>\n",
              "      <td>746575.95</td>\n",
              "      <td>1</td>\n",
              "      <td>0</td>\n",
              "    </tr>\n",
              "    <tr>\n",
              "      <th>421585</th>\n",
              "      <td>18</td>\n",
              "      <td>TRANSFER</td>\n",
              "      <td>11481.00</td>\n",
              "      <td>C370107492</td>\n",
              "      <td>11481.00</td>\n",
              "      <td>0.00</td>\n",
              "      <td>C1680789799</td>\n",
              "      <td>0.00</td>\n",
              "      <td>263492.28</td>\n",
              "      <td>1</td>\n",
              "      <td>0</td>\n",
              "    </tr>\n",
              "    <tr>\n",
              "      <th>729660</th>\n",
              "      <td>37</td>\n",
              "      <td>TRANSFER</td>\n",
              "      <td>503793.25</td>\n",
              "      <td>C140477383</td>\n",
              "      <td>503793.25</td>\n",
              "      <td>0.00</td>\n",
              "      <td>C1169138113</td>\n",
              "      <td>0.00</td>\n",
              "      <td>95709.62</td>\n",
              "      <td>1</td>\n",
              "      <td>0</td>\n",
              "    </tr>\n",
              "    <tr>\n",
              "      <th>919658</th>\n",
              "      <td>43</td>\n",
              "      <td>TRANSFER</td>\n",
              "      <td>350789.59</td>\n",
              "      <td>C1709961291</td>\n",
              "      <td>350789.59</td>\n",
              "      <td>0.00</td>\n",
              "      <td>C1364728606</td>\n",
              "      <td>0.00</td>\n",
              "      <td>276871.71</td>\n",
              "      <td>1</td>\n",
              "      <td>0</td>\n",
              "    </tr>\n",
              "    <tr>\n",
              "      <th>920521</th>\n",
              "      <td>43</td>\n",
              "      <td>TRANSFER</td>\n",
              "      <td>1395850.55</td>\n",
              "      <td>C1296215617</td>\n",
              "      <td>0.00</td>\n",
              "      <td>0.00</td>\n",
              "      <td>C1429415136</td>\n",
              "      <td>260806.21</td>\n",
              "      <td>1656656.77</td>\n",
              "      <td>1</td>\n",
              "      <td>0</td>\n",
              "    </tr>\n",
              "    <tr>\n",
              "      <th>1021951</th>\n",
              "      <td>47</td>\n",
              "      <td>TRANSFER</td>\n",
              "      <td>202978.65</td>\n",
              "      <td>C1932446672</td>\n",
              "      <td>0.00</td>\n",
              "      <td>0.00</td>\n",
              "      <td>C966173999</td>\n",
              "      <td>2122336.55</td>\n",
              "      <td>2325315.19</td>\n",
              "      <td>1</td>\n",
              "      <td>0</td>\n",
              "    </tr>\n",
              "    <tr>\n",
              "      <th>1089055</th>\n",
              "      <td>129</td>\n",
              "      <td>TRANSFER</td>\n",
              "      <td>1864022.05</td>\n",
              "      <td>C1076727002</td>\n",
              "      <td>1864022.05</td>\n",
              "      <td>0.00</td>\n",
              "      <td>C192399554</td>\n",
              "      <td>0.00</td>\n",
              "      <td>149522.78</td>\n",
              "      <td>1</td>\n",
              "      <td>0</td>\n",
              "    </tr>\n",
              "    <tr>\n",
              "      <th>1579067</th>\n",
              "      <td>155</td>\n",
              "      <td>TRANSFER</td>\n",
              "      <td>682309.83</td>\n",
              "      <td>C1780509155</td>\n",
              "      <td>682309.83</td>\n",
              "      <td>0.00</td>\n",
              "      <td>C393947373</td>\n",
              "      <td>0.00</td>\n",
              "      <td>99994.39</td>\n",
              "      <td>1</td>\n",
              "      <td>0</td>\n",
              "    </tr>\n",
              "    <tr>\n",
              "      <th>1641996</th>\n",
              "      <td>157</td>\n",
              "      <td>TRANSFER</td>\n",
              "      <td>813775.73</td>\n",
              "      <td>C798159363</td>\n",
              "      <td>813775.73</td>\n",
              "      <td>0.00</td>\n",
              "      <td>C808528635</td>\n",
              "      <td>0.00</td>\n",
              "      <td>39888.47</td>\n",
              "      <td>1</td>\n",
              "      <td>0</td>\n",
              "    </tr>\n",
              "    <tr>\n",
              "      <th>2201885</th>\n",
              "      <td>185</td>\n",
              "      <td>TRANSFER</td>\n",
              "      <td>63009.43</td>\n",
              "      <td>C1562667189</td>\n",
              "      <td>63009.43</td>\n",
              "      <td>0.00</td>\n",
              "      <td>C2129142994</td>\n",
              "      <td>0.00</td>\n",
              "      <td>122454.16</td>\n",
              "      <td>1</td>\n",
              "      <td>0</td>\n",
              "    </tr>\n",
              "    <tr>\n",
              "      <th>2552298</th>\n",
              "      <td>206</td>\n",
              "      <td>TRANSFER</td>\n",
              "      <td>998110.47</td>\n",
              "      <td>C433588108</td>\n",
              "      <td>998110.47</td>\n",
              "      <td>0.00</td>\n",
              "      <td>C1877856948</td>\n",
              "      <td>0.00</td>\n",
              "      <td>685216.50</td>\n",
              "      <td>1</td>\n",
              "      <td>0</td>\n",
              "    </tr>\n",
              "    <tr>\n",
              "      <th>2976140</th>\n",
              "      <td>231</td>\n",
              "      <td>TRANSFER</td>\n",
              "      <td>317787.12</td>\n",
              "      <td>C1356517693</td>\n",
              "      <td>317787.12</td>\n",
              "      <td>0.00</td>\n",
              "      <td>C284348292</td>\n",
              "      <td>0.00</td>\n",
              "      <td>372227.52</td>\n",
              "      <td>1</td>\n",
              "      <td>0</td>\n",
              "    </tr>\n",
              "    <tr>\n",
              "      <th>3697321</th>\n",
              "      <td>277</td>\n",
              "      <td>TRANSFER</td>\n",
              "      <td>149656.36</td>\n",
              "      <td>C2072045528</td>\n",
              "      <td>149656.36</td>\n",
              "      <td>0.00</td>\n",
              "      <td>C519434104</td>\n",
              "      <td>0.00</td>\n",
              "      <td>162310.05</td>\n",
              "      <td>1</td>\n",
              "      <td>0</td>\n",
              "    </tr>\n",
              "  </tbody>\n",
              "</table>\n",
              "</div>"
            ],
            "text/plain": [
              "         step      type      amount  ... newbalanceDest  isFraud  isFlaggedFraud\n",
              "6706        6  TRANSFER    17246.00  ...      101717.84        1               0\n",
              "7154        6  TRANSFER    13704.00  ...     1658746.09        1               0\n",
              "18771       8  TRANSFER      222.00  ...      267095.19        1               0\n",
              "25875       8  TRANSFER  1078013.76  ...      970749.68        1               0\n",
              "47144       9  TRANSFER   350705.74  ...     1184633.07        1               0\n",
              "49825       9  TRANSFER  2539898.07  ...      261290.69        1               0\n",
              "49885       9  TRANSFER   361559.69  ...      141302.12        1               0\n",
              "56477       9  TRANSFER  1154353.99  ...       10872.90        1               0\n",
              "60853       9  TRANSFER   994453.20  ...      665743.67        1               0\n",
              "102607     10  TRANSFER     9217.19  ...       96795.60        1               0\n",
              "138559     11  TRANSFER  1933920.80  ...     3217683.65        1               0\n",
              "141634     11  TRANSFER   313418.28  ...       97980.88        1               0\n",
              "167556     12  TRANSFER  2066467.64  ...       81209.81        1               0\n",
              "182861     13  TRANSFER      408.00  ...      226013.18        1               0\n",
              "217978     13  TRANSFER   123194.95  ...      263908.84        1               0\n",
              "271116     15  TRANSFER   696763.08  ...       69861.26        1               0\n",
              "410905     18  TRANSFER  1102133.90  ...      746575.95        1               0\n",
              "421585     18  TRANSFER    11481.00  ...      263492.28        1               0\n",
              "729660     37  TRANSFER   503793.25  ...       95709.62        1               0\n",
              "919658     43  TRANSFER   350789.59  ...      276871.71        1               0\n",
              "920521     43  TRANSFER  1395850.55  ...     1656656.77        1               0\n",
              "1021951    47  TRANSFER   202978.65  ...     2325315.19        1               0\n",
              "1089055   129  TRANSFER  1864022.05  ...      149522.78        1               0\n",
              "1579067   155  TRANSFER   682309.83  ...       99994.39        1               0\n",
              "1641996   157  TRANSFER   813775.73  ...       39888.47        1               0\n",
              "2201885   185  TRANSFER    63009.43  ...      122454.16        1               0\n",
              "2552298   206  TRANSFER   998110.47  ...      685216.50        1               0\n",
              "2976140   231  TRANSFER   317787.12  ...      372227.52        1               0\n",
              "3697321   277  TRANSFER   149656.36  ...      162310.05        1               0\n",
              "\n",
              "[29 rows x 11 columns]"
            ]
          },
          "metadata": {
            "tags": []
          },
          "execution_count": 20
        }
      ]
    },
    {
      "cell_type": "markdown",
      "metadata": {
        "id": "49roj1uDJfc2"
      },
      "source": [
        "PROVAVELMENTE OS SALDOS DAS CONTAS DE DESTINO ESTÃO ZERADOS POR FALTA DE CADASTRO DA INFORMAÇÃO MESMO.   /LUIZ\n",
        "\n",
        "PORTANTO, A MAIORIA DAS FRAUDES COM TRANSFERÊNCIA NÃO TEM INFORMAÇÕES SOBRE OS SALDOS DAS CONTAS DE DESTINO.\n",
        "\n",
        "SOMENTE 29 DE 4097 TRANSFERÊNCIAS APRESENTARAM VALORES PARA OS SALDOS DE DESTINO, MAS OS VALORES NÃO TEM CORRESPONDÊNCIA\n",
        "COM OS VALORES TRANSFERIDOS. PORTANTO, OU ESTÃO FALTANDO OU ESTÃO ERRADOS."
      ]
    },
    {
      "cell_type": "code",
      "metadata": {
        "id": "n5ZziR3sJfc2",
        "colab": {
          "base_uri": "https://localhost:8080/",
          "height": 427
        },
        "outputId": "b417e052-9cb0-4417-b280-60b267050f97"
      },
      "source": [
        "# MOSTRA AS TRANSFERÊNCIAS DE SALDO ZERO NO DESTINO QUE NÃO SÃO FRAUDES   /LUIZ\n",
        "df.query('(type == \"TRANSFER\" and (oldbalanceDest == 0 or newbalanceDest == 0) and isFraud != 1 )')\n",
        "# EXISTEM MUITAS OUTRAS TRANSFERÊNCIAS QUE POSSUEM SALDOS DE DESTINO ERRADOS E NÃO SÃO FRAUDES"
      ],
      "execution_count": null,
      "outputs": [
        {
          "output_type": "execute_result",
          "data": {
            "text/html": [
              "<div>\n",
              "<style scoped>\n",
              "    .dataframe tbody tr th:only-of-type {\n",
              "        vertical-align: middle;\n",
              "    }\n",
              "\n",
              "    .dataframe tbody tr th {\n",
              "        vertical-align: top;\n",
              "    }\n",
              "\n",
              "    .dataframe thead th {\n",
              "        text-align: right;\n",
              "    }\n",
              "</style>\n",
              "<table border=\"1\" class=\"dataframe\">\n",
              "  <thead>\n",
              "    <tr style=\"text-align: right;\">\n",
              "      <th></th>\n",
              "      <th>step</th>\n",
              "      <th>type</th>\n",
              "      <th>amount</th>\n",
              "      <th>nameOrig</th>\n",
              "      <th>oldbalanceOrg</th>\n",
              "      <th>newbalanceOrig</th>\n",
              "      <th>nameDest</th>\n",
              "      <th>oldbalanceDest</th>\n",
              "      <th>newbalanceDest</th>\n",
              "      <th>isFraud</th>\n",
              "      <th>isFlaggedFraud</th>\n",
              "    </tr>\n",
              "  </thead>\n",
              "  <tbody>\n",
              "    <tr>\n",
              "      <th>19</th>\n",
              "      <td>1</td>\n",
              "      <td>TRANSFER</td>\n",
              "      <td>215310.30</td>\n",
              "      <td>C1670993182</td>\n",
              "      <td>705.0</td>\n",
              "      <td>0.00</td>\n",
              "      <td>C1100439041</td>\n",
              "      <td>22425.00</td>\n",
              "      <td>0.00</td>\n",
              "      <td>0</td>\n",
              "      <td>0</td>\n",
              "    </tr>\n",
              "    <tr>\n",
              "      <th>80</th>\n",
              "      <td>1</td>\n",
              "      <td>TRANSFER</td>\n",
              "      <td>17231.46</td>\n",
              "      <td>C1243171897</td>\n",
              "      <td>0.0</td>\n",
              "      <td>0.00</td>\n",
              "      <td>C783286238</td>\n",
              "      <td>24672.00</td>\n",
              "      <td>0.00</td>\n",
              "      <td>0</td>\n",
              "      <td>0</td>\n",
              "    </tr>\n",
              "    <tr>\n",
              "      <th>82</th>\n",
              "      <td>1</td>\n",
              "      <td>TRANSFER</td>\n",
              "      <td>224606.64</td>\n",
              "      <td>C873175411</td>\n",
              "      <td>0.0</td>\n",
              "      <td>0.00</td>\n",
              "      <td>C766572210</td>\n",
              "      <td>354678.92</td>\n",
              "      <td>0.00</td>\n",
              "      <td>0</td>\n",
              "      <td>0</td>\n",
              "    </tr>\n",
              "    <tr>\n",
              "      <th>86</th>\n",
              "      <td>1</td>\n",
              "      <td>TRANSFER</td>\n",
              "      <td>554026.99</td>\n",
              "      <td>C1603696865</td>\n",
              "      <td>0.0</td>\n",
              "      <td>0.00</td>\n",
              "      <td>C766572210</td>\n",
              "      <td>579285.56</td>\n",
              "      <td>0.00</td>\n",
              "      <td>0</td>\n",
              "      <td>0</td>\n",
              "    </tr>\n",
              "    <tr>\n",
              "      <th>97</th>\n",
              "      <td>1</td>\n",
              "      <td>TRANSFER</td>\n",
              "      <td>11996.58</td>\n",
              "      <td>C605982374</td>\n",
              "      <td>0.0</td>\n",
              "      <td>0.00</td>\n",
              "      <td>C1225616405</td>\n",
              "      <td>40255.00</td>\n",
              "      <td>0.00</td>\n",
              "      <td>0</td>\n",
              "      <td>0</td>\n",
              "    </tr>\n",
              "    <tr>\n",
              "      <th>...</th>\n",
              "      <td>...</td>\n",
              "      <td>...</td>\n",
              "      <td>...</td>\n",
              "      <td>...</td>\n",
              "      <td>...</td>\n",
              "      <td>...</td>\n",
              "      <td>...</td>\n",
              "      <td>...</td>\n",
              "      <td>...</td>\n",
              "      <td>...</td>\n",
              "      <td>...</td>\n",
              "    </tr>\n",
              "    <tr>\n",
              "      <th>6362076</th>\n",
              "      <td>718</td>\n",
              "      <td>TRANSFER</td>\n",
              "      <td>6991.38</td>\n",
              "      <td>C951478923</td>\n",
              "      <td>21547.0</td>\n",
              "      <td>14555.62</td>\n",
              "      <td>C2006411056</td>\n",
              "      <td>0.00</td>\n",
              "      <td>6991.38</td>\n",
              "      <td>0</td>\n",
              "      <td>0</td>\n",
              "    </tr>\n",
              "    <tr>\n",
              "      <th>6362124</th>\n",
              "      <td>718</td>\n",
              "      <td>TRANSFER</td>\n",
              "      <td>113826.86</td>\n",
              "      <td>C448540919</td>\n",
              "      <td>99349.0</td>\n",
              "      <td>0.00</td>\n",
              "      <td>C895719835</td>\n",
              "      <td>0.00</td>\n",
              "      <td>113826.86</td>\n",
              "      <td>0</td>\n",
              "      <td>0</td>\n",
              "    </tr>\n",
              "    <tr>\n",
              "      <th>6362136</th>\n",
              "      <td>718</td>\n",
              "      <td>TRANSFER</td>\n",
              "      <td>162431.60</td>\n",
              "      <td>C558504539</td>\n",
              "      <td>71315.0</td>\n",
              "      <td>0.00</td>\n",
              "      <td>C477069651</td>\n",
              "      <td>0.00</td>\n",
              "      <td>162431.60</td>\n",
              "      <td>0</td>\n",
              "      <td>0</td>\n",
              "    </tr>\n",
              "    <tr>\n",
              "      <th>6362151</th>\n",
              "      <td>718</td>\n",
              "      <td>TRANSFER</td>\n",
              "      <td>141375.27</td>\n",
              "      <td>C927100278</td>\n",
              "      <td>22377.0</td>\n",
              "      <td>0.00</td>\n",
              "      <td>C1765610550</td>\n",
              "      <td>0.00</td>\n",
              "      <td>141375.27</td>\n",
              "      <td>0</td>\n",
              "      <td>0</td>\n",
              "    </tr>\n",
              "    <tr>\n",
              "      <th>6362322</th>\n",
              "      <td>718</td>\n",
              "      <td>TRANSFER</td>\n",
              "      <td>82096.45</td>\n",
              "      <td>C614459560</td>\n",
              "      <td>13492.0</td>\n",
              "      <td>0.00</td>\n",
              "      <td>C855350324</td>\n",
              "      <td>0.00</td>\n",
              "      <td>82096.45</td>\n",
              "      <td>0</td>\n",
              "      <td>0</td>\n",
              "    </tr>\n",
              "  </tbody>\n",
              "</table>\n",
              "<p>62041 rows × 11 columns</p>\n",
              "</div>"
            ],
            "text/plain": [
              "         step      type     amount  ... newbalanceDest  isFraud  isFlaggedFraud\n",
              "19          1  TRANSFER  215310.30  ...           0.00        0               0\n",
              "80          1  TRANSFER   17231.46  ...           0.00        0               0\n",
              "82          1  TRANSFER  224606.64  ...           0.00        0               0\n",
              "86          1  TRANSFER  554026.99  ...           0.00        0               0\n",
              "97          1  TRANSFER   11996.58  ...           0.00        0               0\n",
              "...       ...       ...        ...  ...            ...      ...             ...\n",
              "6362076   718  TRANSFER    6991.38  ...        6991.38        0               0\n",
              "6362124   718  TRANSFER  113826.86  ...      113826.86        0               0\n",
              "6362136   718  TRANSFER  162431.60  ...      162431.60        0               0\n",
              "6362151   718  TRANSFER  141375.27  ...      141375.27        0               0\n",
              "6362322   718  TRANSFER   82096.45  ...       82096.45        0               0\n",
              "\n",
              "[62041 rows x 11 columns]"
            ]
          },
          "metadata": {
            "tags": []
          },
          "execution_count": 21
        }
      ]
    },
    {
      "cell_type": "code",
      "metadata": {
        "scrolled": true,
        "id": "7uDyXpJWJfc9",
        "colab": {
          "base_uri": "https://localhost:8080/",
          "height": 427
        },
        "outputId": "d633b92a-4f49-40bd-f557-75d51a9fe9c0"
      },
      "source": [
        "dfCashOut = dfFraud.loc[df.type == 'CASH_OUT']\n",
        "dfCashOut"
      ],
      "execution_count": null,
      "outputs": [
        {
          "output_type": "execute_result",
          "data": {
            "text/html": [
              "<div>\n",
              "<style scoped>\n",
              "    .dataframe tbody tr th:only-of-type {\n",
              "        vertical-align: middle;\n",
              "    }\n",
              "\n",
              "    .dataframe tbody tr th {\n",
              "        vertical-align: top;\n",
              "    }\n",
              "\n",
              "    .dataframe thead th {\n",
              "        text-align: right;\n",
              "    }\n",
              "</style>\n",
              "<table border=\"1\" class=\"dataframe\">\n",
              "  <thead>\n",
              "    <tr style=\"text-align: right;\">\n",
              "      <th></th>\n",
              "      <th>step</th>\n",
              "      <th>type</th>\n",
              "      <th>amount</th>\n",
              "      <th>nameOrig</th>\n",
              "      <th>oldbalanceOrg</th>\n",
              "      <th>newbalanceOrig</th>\n",
              "      <th>nameDest</th>\n",
              "      <th>oldbalanceDest</th>\n",
              "      <th>newbalanceDest</th>\n",
              "      <th>isFraud</th>\n",
              "      <th>isFlaggedFraud</th>\n",
              "    </tr>\n",
              "  </thead>\n",
              "  <tbody>\n",
              "    <tr>\n",
              "      <th>3</th>\n",
              "      <td>1</td>\n",
              "      <td>CASH_OUT</td>\n",
              "      <td>181.00</td>\n",
              "      <td>C840083671</td>\n",
              "      <td>181.00</td>\n",
              "      <td>0.0</td>\n",
              "      <td>C38997010</td>\n",
              "      <td>21182.00</td>\n",
              "      <td>0.00</td>\n",
              "      <td>1</td>\n",
              "      <td>0</td>\n",
              "    </tr>\n",
              "    <tr>\n",
              "      <th>252</th>\n",
              "      <td>1</td>\n",
              "      <td>CASH_OUT</td>\n",
              "      <td>2806.00</td>\n",
              "      <td>C2101527076</td>\n",
              "      <td>2806.00</td>\n",
              "      <td>0.0</td>\n",
              "      <td>C1007251739</td>\n",
              "      <td>26202.00</td>\n",
              "      <td>0.00</td>\n",
              "      <td>1</td>\n",
              "      <td>0</td>\n",
              "    </tr>\n",
              "    <tr>\n",
              "      <th>681</th>\n",
              "      <td>1</td>\n",
              "      <td>CASH_OUT</td>\n",
              "      <td>20128.00</td>\n",
              "      <td>C1118430673</td>\n",
              "      <td>20128.00</td>\n",
              "      <td>0.0</td>\n",
              "      <td>C339924917</td>\n",
              "      <td>6268.00</td>\n",
              "      <td>12145.85</td>\n",
              "      <td>1</td>\n",
              "      <td>0</td>\n",
              "    </tr>\n",
              "    <tr>\n",
              "      <th>724</th>\n",
              "      <td>1</td>\n",
              "      <td>CASH_OUT</td>\n",
              "      <td>416001.33</td>\n",
              "      <td>C749981943</td>\n",
              "      <td>0.00</td>\n",
              "      <td>0.0</td>\n",
              "      <td>C667346055</td>\n",
              "      <td>102.00</td>\n",
              "      <td>9291619.62</td>\n",
              "      <td>1</td>\n",
              "      <td>0</td>\n",
              "    </tr>\n",
              "    <tr>\n",
              "      <th>970</th>\n",
              "      <td>1</td>\n",
              "      <td>CASH_OUT</td>\n",
              "      <td>1277212.77</td>\n",
              "      <td>C467632528</td>\n",
              "      <td>1277212.77</td>\n",
              "      <td>0.0</td>\n",
              "      <td>C716083600</td>\n",
              "      <td>0.00</td>\n",
              "      <td>2444985.19</td>\n",
              "      <td>1</td>\n",
              "      <td>0</td>\n",
              "    </tr>\n",
              "    <tr>\n",
              "      <th>...</th>\n",
              "      <td>...</td>\n",
              "      <td>...</td>\n",
              "      <td>...</td>\n",
              "      <td>...</td>\n",
              "      <td>...</td>\n",
              "      <td>...</td>\n",
              "      <td>...</td>\n",
              "      <td>...</td>\n",
              "      <td>...</td>\n",
              "      <td>...</td>\n",
              "      <td>...</td>\n",
              "    </tr>\n",
              "    <tr>\n",
              "      <th>6362611</th>\n",
              "      <td>742</td>\n",
              "      <td>CASH_OUT</td>\n",
              "      <td>63416.99</td>\n",
              "      <td>C994950684</td>\n",
              "      <td>63416.99</td>\n",
              "      <td>0.0</td>\n",
              "      <td>C1662241365</td>\n",
              "      <td>276433.18</td>\n",
              "      <td>339850.17</td>\n",
              "      <td>1</td>\n",
              "      <td>0</td>\n",
              "    </tr>\n",
              "    <tr>\n",
              "      <th>6362613</th>\n",
              "      <td>743</td>\n",
              "      <td>CASH_OUT</td>\n",
              "      <td>1258818.82</td>\n",
              "      <td>C1436118706</td>\n",
              "      <td>1258818.82</td>\n",
              "      <td>0.0</td>\n",
              "      <td>C1240760502</td>\n",
              "      <td>503464.50</td>\n",
              "      <td>1762283.33</td>\n",
              "      <td>1</td>\n",
              "      <td>0</td>\n",
              "    </tr>\n",
              "    <tr>\n",
              "      <th>6362615</th>\n",
              "      <td>743</td>\n",
              "      <td>CASH_OUT</td>\n",
              "      <td>339682.13</td>\n",
              "      <td>C786484425</td>\n",
              "      <td>339682.13</td>\n",
              "      <td>0.0</td>\n",
              "      <td>C776919290</td>\n",
              "      <td>0.00</td>\n",
              "      <td>339682.13</td>\n",
              "      <td>1</td>\n",
              "      <td>0</td>\n",
              "    </tr>\n",
              "    <tr>\n",
              "      <th>6362617</th>\n",
              "      <td>743</td>\n",
              "      <td>CASH_OUT</td>\n",
              "      <td>6311409.28</td>\n",
              "      <td>C1162922333</td>\n",
              "      <td>6311409.28</td>\n",
              "      <td>0.0</td>\n",
              "      <td>C1365125890</td>\n",
              "      <td>68488.84</td>\n",
              "      <td>6379898.11</td>\n",
              "      <td>1</td>\n",
              "      <td>0</td>\n",
              "    </tr>\n",
              "    <tr>\n",
              "      <th>6362619</th>\n",
              "      <td>743</td>\n",
              "      <td>CASH_OUT</td>\n",
              "      <td>850002.52</td>\n",
              "      <td>C1280323807</td>\n",
              "      <td>850002.52</td>\n",
              "      <td>0.0</td>\n",
              "      <td>C873221189</td>\n",
              "      <td>6510099.11</td>\n",
              "      <td>7360101.63</td>\n",
              "      <td>1</td>\n",
              "      <td>0</td>\n",
              "    </tr>\n",
              "  </tbody>\n",
              "</table>\n",
              "<p>4116 rows × 11 columns</p>\n",
              "</div>"
            ],
            "text/plain": [
              "         step      type      amount  ... newbalanceDest  isFraud  isFlaggedFraud\n",
              "3           1  CASH_OUT      181.00  ...           0.00        1               0\n",
              "252         1  CASH_OUT     2806.00  ...           0.00        1               0\n",
              "681         1  CASH_OUT    20128.00  ...       12145.85        1               0\n",
              "724         1  CASH_OUT   416001.33  ...     9291619.62        1               0\n",
              "970         1  CASH_OUT  1277212.77  ...     2444985.19        1               0\n",
              "...       ...       ...         ...  ...            ...      ...             ...\n",
              "6362611   742  CASH_OUT    63416.99  ...      339850.17        1               0\n",
              "6362613   743  CASH_OUT  1258818.82  ...     1762283.33        1               0\n",
              "6362615   743  CASH_OUT   339682.13  ...      339682.13        1               0\n",
              "6362617   743  CASH_OUT  6311409.28  ...     6379898.11        1               0\n",
              "6362619   743  CASH_OUT   850002.52  ...     7360101.63        1               0\n",
              "\n",
              "[4116 rows x 11 columns]"
            ]
          },
          "metadata": {
            "tags": []
          },
          "execution_count": 22
        }
      ]
    },
    {
      "cell_type": "markdown",
      "metadata": {
        "id": "oBZGxaGJJfdA"
      },
      "source": [
        "SE A OPERAÇÃO É SAÍDA DE DINHEIRO, TAMBÉM PODE ESTAR OCORRENDO TRANSFERÊNCIA DE DINHEIRO PARA OUTRA CONTA.\n",
        "EMBORA OS SALDOS DE DESTINO POSSAM APRESENTAR INCONSISTÊNCIAS DE VALORES COM A TRANSAÇÃO.  /LUIZ"
      ]
    },
    {
      "cell_type": "code",
      "metadata": {
        "id": "_gM9V6CLJfdA",
        "colab": {
          "base_uri": "https://localhost:8080/"
        },
        "outputId": "dcd71dc0-ff0c-4f59-f042-873ede765a8d"
      },
      "source": [
        "# QUANTIDADE DE SAÍDAS DE DINHEIRO FRAUDOLENTAS QUE NÃO RESULTARAM EM SALDOS ZEROS NA ORIGEM  /LUIZ\n",
        "# OU SEJA, QUE NÃO SACARAM TODO O DINHEIRO DA CONTA \n",
        "np.sum(dfCashOut.newbalanceOrig != 0 )"
      ],
      "execution_count": null,
      "outputs": [
        {
          "output_type": "execute_result",
          "data": {
            "text/plain": [
              "1"
            ]
          },
          "metadata": {
            "tags": []
          },
          "execution_count": 23
        }
      ]
    },
    {
      "cell_type": "markdown",
      "metadata": {
        "id": "KjGdE-YsJfdD"
      },
      "source": [
        "PORTANTO, COM EXCESSÃO DE 1 OPERAÇÃO, TODAS AS SAÍDAS DE DINHEIRO FRAUDOLENTAS RESULTARAM EM NOVO SALDO DE ORIGEM ZERADO  /LUIZ"
      ]
    },
    {
      "cell_type": "code",
      "metadata": {
        "id": "DD8rYmDPJfdE",
        "colab": {
          "base_uri": "https://localhost:8080/"
        },
        "outputId": "4c1b07ab-f722-4145-dc36-29ca2d117112"
      },
      "source": [
        "# QUANTIDADE DE SAQUES QUE NÃO RESULTARAM EM NOVOS SALDOS ZEROS NA ORIGEM /LUIZ\n",
        "np.sum(df.newbalanceOrig != 0 )"
      ],
      "execution_count": null,
      "outputs": [
        {
          "output_type": "execute_result",
          "data": {
            "text/plain": [
              "2753054"
            ]
          },
          "metadata": {
            "tags": []
          },
          "execution_count": 20
        }
      ]
    },
    {
      "cell_type": "markdown",
      "metadata": {
        "id": "cRSuK7gMZJSJ"
      },
      "source": [
        "POREM, TAMBÉM EXISTEM 2.753.054 SAÍDAS DE DINHEIRO QUE RESULTARAM EM NOVOS SALDOS ZEROS NA ORIGEM   /LUIZ"
      ]
    },
    {
      "cell_type": "code",
      "metadata": {
        "id": "C4A-pphvJfdH",
        "colab": {
          "base_uri": "https://localhost:8080/"
        },
        "outputId": "b41522a9-68f5-47e5-f922-75174a8226c3"
      },
      "source": [
        "# QUANTIDADE DE OPERAÇÕES QUE ZERARAM O SALDO DA CONTA DE ORIGEM /LUIZ\n",
        "oz = np.sum(df.newbalanceOrig == 0); oz"
      ],
      "execution_count": null,
      "outputs": [
        {
          "output_type": "execute_result",
          "data": {
            "text/plain": [
              "3609566"
            ]
          },
          "metadata": {
            "tags": []
          },
          "execution_count": 21
        }
      ]
    },
    {
      "cell_type": "code",
      "metadata": {
        "id": "KDLaXf6zJfdK",
        "colab": {
          "base_uri": "https://localhost:8080/"
        },
        "outputId": "4078df0f-d786-4ba1-c0c0-cfd7f49b363d"
      },
      "source": [
        "# QUANTIDADE DE FRAUDES QUE ZERARAM O SALDO DA CONTA DE ORIGEM /LUIZ\n",
        "f0 = np.sum((df.newbalanceOrig == 0 ) & df.isFraud); f0"
      ],
      "execution_count": null,
      "outputs": [
        {
          "output_type": "execute_result",
          "data": {
            "text/plain": [
              "8053"
            ]
          },
          "metadata": {
            "tags": []
          },
          "execution_count": 22
        }
      ]
    },
    {
      "cell_type": "code",
      "metadata": {
        "id": "dafSPsB-nVlP",
        "colab": {
          "base_uri": "https://localhost:8080/"
        },
        "outputId": "9ee3fe4d-ded1-4114-862d-67ebb95a4b94"
      },
      "source": [
        "#TOTAL DE FRAUDES   /LUIZ\n",
        "tf = np.sum(df.isFraud); tf"
      ],
      "execution_count": null,
      "outputs": [
        {
          "output_type": "execute_result",
          "data": {
            "text/plain": [
              "8213"
            ]
          },
          "metadata": {
            "tags": []
          },
          "execution_count": 23
        }
      ]
    },
    {
      "cell_type": "code",
      "metadata": {
        "id": "kZTy1gAR--zG",
        "colab": {
          "base_uri": "https://localhost:8080/",
          "height": 374
        },
        "outputId": "2d809194-cb95-45ff-8182-6de927c7200e"
      },
      "source": [
        "#gráfico  FRAUDES QUE ZERARAM O SALDO X  FRAUDES QUE NÃO ZERARAM  /LUIZ\n",
        "plt.rcParams['figure.figsize'] = (6,6)\n",
        "plt.pie([tf-f0, tf], labels=['FRAUDES QUE NÃO ZERARAM ', 'FRAUDES QUE ZERARAM O SALDO'], colors=['blue', 'red'], autopct=lambda p: '{:.2f}'.format(p * 100.0 / 100)+'%')\n",
        "plt.title('FRAUDES QUE ZERARAM O SALDO X  FRAUDES QUE NÃO ZERARAM')\n",
        "plt.show()"
      ],
      "execution_count": null,
      "outputs": [
        {
          "output_type": "display_data",
          "data": {
            "image/png": "[encoded data removed]",
            "text/plain": [
              "<Figure size 432x432 with 1 Axes>"
            ]
          },
          "metadata": {
            "tags": []
          }
        }
      ]
    },
    {
      "cell_type": "markdown",
      "metadata": {
        "id": "vbGt40DkJfdO"
      },
      "source": [
        "Nota-se que das 8.213 fraudes, 8.053 pertencem ao conjundo de operações que zeraram o saldo na conta de origem, composto por 3.609.566 operações   /LUIZ"
      ]
    },
    {
      "cell_type": "markdown",
      "metadata": {
        "id": "1Sg7HyOanvVs"
      },
      "source": [
        "**ANÁLISE DO VALOR ENVOLVIDO NAS OPERAÇÕES** /LUIZ"
      ]
    },
    {
      "cell_type": "code",
      "metadata": {
        "id": "m7n1NPCbJfdO",
        "colab": {
          "base_uri": "https://localhost:8080/"
        },
        "outputId": "343e1030-e771-4d08-c420-722b3af85a50"
      },
      "source": [
        "# QUANTIDDADE OPERAÇÕES QUE O SALDO INICIAL DE ORIGEM É IGUAL AO VALOR DA OPERAÇÃO  /LUIZ\n",
        "so = np.sum(df.amount == df.oldbalanceOrg); so"
      ],
      "execution_count": null,
      "outputs": [
        {
          "output_type": "execute_result",
          "data": {
            "text/plain": [
              "8034"
            ]
          },
          "metadata": {
            "tags": []
          },
          "execution_count": 65
        }
      ]
    },
    {
      "cell_type": "code",
      "metadata": {
        "id": "9SrFBg4rJfdR",
        "colab": {
          "base_uri": "https://localhost:8080/"
        },
        "outputId": "149c31e6-3ec9-42aa-9565-ec7ee019ac2c"
      },
      "source": [
        "# QUANTIDADE FRAUDES EM QUE O SALDO INICIAL DE ORIGEM É IGUAL AO VALOR DA OPERAÇÃO  /LUIZ\n",
        "fo = np.sum((df.amount == df.oldbalanceOrg) & (df.isFraud  )); fo"
      ],
      "execution_count": null,
      "outputs": [
        {
          "output_type": "execute_result",
          "data": {
            "text/plain": [
              "8034"
            ]
          },
          "metadata": {
            "tags": []
          },
          "execution_count": 66
        }
      ]
    },
    {
      "cell_type": "code",
      "metadata": {
        "id": "nWJkpgJjpfu_",
        "colab": {
          "base_uri": "https://localhost:8080/"
        },
        "outputId": "b6afc6fa-d64b-4ee4-e656-dffa2c5e7a0a"
      },
      "source": [
        "# QUANTIDADE DE FRAUDES RESTANTES   /LUIZ\n",
        "np.sum(df.isFraud)  - np.sum((df.amount == df['oldbalanceOrg']) & (df.isFraud  ))"
      ],
      "execution_count": null,
      "outputs": [
        {
          "output_type": "execute_result",
          "data": {
            "text/plain": [
              "179"
            ]
          },
          "metadata": {
            "tags": []
          },
          "execution_count": 30
        }
      ]
    },
    {
      "cell_type": "code",
      "metadata": {
        "id": "_y6JHf8oBOrs",
        "colab": {
          "base_uri": "https://localhost:8080/",
          "height": 375
        },
        "outputId": "cc0ae34b-41c9-486e-94a9-2f7d2d9b6f46"
      },
      "source": [
        "#gráfico  OPERAÇÕES COM \"amount\" = \"oldbalanceOrg\" E SÃO FRAUDES X  OP. \"amount\" = \"oldbalanceOrg\" E NÃO SÃO /LUIZ\n",
        "plt.rcParams['figure.figsize'] = (6,6)\n",
        "plt.pie([so-fo, fo], labels=['OP. \"amount\" = \"oldbalanceOrg\" E NÃO SÃO', 'OPERAÇÕES COM \"amount\" = \"oldbalanceOrg\" E SÃO FRAUDES'], colors=['blue', 'red'], autopct=lambda p: '{:.2f}'.format(p * 100.0 / 100)+'%')\n",
        "plt.title('OPERAÇÕES COM \"amount\" = \"oldbalanceOrg\" E SÃO FRAUDES X  OP. \"amount\" = \"oldbalanceOrg\" E NÃO SÃO')\n",
        "plt.show()"
      ],
      "execution_count": null,
      "outputs": [
        {
          "output_type": "display_data",
          "data": {
            "image/png": "[encoded data removed]",
            "text/plain": [
              "<Figure size 432x432 with 1 Axes>"
            ]
          },
          "metadata": {
            "tags": []
          }
        }
      ]
    },
    {
      "cell_type": "markdown",
      "metadata": {
        "id": "Rq2BplEaoSwS"
      },
      "source": [
        "**NOTA-SE QUE DAS 8213 FRAUDES, 8034 POSSUEM O SALDO INICIAL DE ORIGEM IGUAL AO VALOR DA OPERAÇÃO.** /LUIZ\n",
        "\n",
        " NÃO EXISTEM EXITEM OPERAÇÕES CUJO SALDO INICIAL DE ORIGEM É IGUAL AO VALOR DA OPERAÇÃO E NÃO SÃO FRAUDE.\n"
      ]
    },
    {
      "cell_type": "markdown",
      "metadata": {
        "id": "kzOWuBx0pCJm"
      },
      "source": [
        "**PORTANTO, O ALGORÍTMO INSERIU AS OPERAÇÕES DE FRAUDES SINTÉTICAS USANDO UMA REGRA MUITO SIMPLES**\n",
        "\n",
        "**AS FRAUDES SÃO OPERAÇÕES CUJO SALDO INICIAL DE ORIGEM É IGUAL AO VALOR DA OPERAÇÃO.  /LUIZ**\n",
        "\n"
      ]
    },
    {
      "cell_type": "code",
      "metadata": {
        "id": "QEURAjBWwxLc",
        "colab": {
          "base_uri": "https://localhost:8080/",
          "height": 493
        },
        "outputId": "3884eab4-492a-4a3d-b315-055f60d34432"
      },
      "source": [
        "#gráfico de quantidade fraudes com saldo inicial de origem igual ao valor da transação X demais fraudes   /LUIZ\n",
        "plt.rcParams['figure.figsize'] = (8,10)\n",
        "plt.pie([8034, 179], labels=['SALDO = MONTANTE', 'OUTROS'], colors=['blue', 'red'], autopct=lambda p: '{:.2f}'.format(p * 100.0 / 100)+'%')\n",
        "plt.title('FRAUDES COM SALDO IGUAL AO MONTANTE  X  OUTROS CASOS')\n",
        "plt.show()"
      ],
      "execution_count": null,
      "outputs": [
        {
          "output_type": "display_data",
          "data": {
            "image/png": "[encoded data removed]",
            "text/plain": [
              "<Figure size 576x720 with 1 Axes>"
            ]
          },
          "metadata": {
            "tags": []
          }
        }
      ]
    },
    {
      "cell_type": "code",
      "metadata": {
        "id": "XlMQvrznnA3B",
        "colab": {
          "base_uri": "https://localhost:8080/",
          "height": 427
        },
        "outputId": "20989799-5587-47bd-b946-d19c7c9ddcd3"
      },
      "source": [
        "#MOSTRA OS OUTROS CASOS DE FRAUDE  /LUIZ\n",
        "outros = df.query('((isFraud == 1) and (amount != oldbalanceOrg))')\n",
        "outros"
      ],
      "execution_count": null,
      "outputs": [
        {
          "output_type": "execute_result",
          "data": {
            "text/html": [
              "<div>\n",
              "<style scoped>\n",
              "    .dataframe tbody tr th:only-of-type {\n",
              "        vertical-align: middle;\n",
              "    }\n",
              "\n",
              "    .dataframe tbody tr th {\n",
              "        vertical-align: top;\n",
              "    }\n",
              "\n",
              "    .dataframe thead th {\n",
              "        text-align: right;\n",
              "    }\n",
              "</style>\n",
              "<table border=\"1\" class=\"dataframe\">\n",
              "  <thead>\n",
              "    <tr style=\"text-align: right;\">\n",
              "      <th></th>\n",
              "      <th>step</th>\n",
              "      <th>type</th>\n",
              "      <th>amount</th>\n",
              "      <th>nameOrig</th>\n",
              "      <th>oldbalanceOrg</th>\n",
              "      <th>newbalanceOrig</th>\n",
              "      <th>nameDest</th>\n",
              "      <th>oldbalanceDest</th>\n",
              "      <th>newbalanceDest</th>\n",
              "      <th>isFraud</th>\n",
              "      <th>isFlaggedFraud</th>\n",
              "    </tr>\n",
              "  </thead>\n",
              "  <tbody>\n",
              "    <tr>\n",
              "      <th>724</th>\n",
              "      <td>1</td>\n",
              "      <td>CASH_OUT</td>\n",
              "      <td>416001.33</td>\n",
              "      <td>C749981943</td>\n",
              "      <td>0.00</td>\n",
              "      <td>0.00</td>\n",
              "      <td>C667346055</td>\n",
              "      <td>102.0</td>\n",
              "      <td>9291619.62</td>\n",
              "      <td>1</td>\n",
              "      <td>0</td>\n",
              "    </tr>\n",
              "    <tr>\n",
              "      <th>1911</th>\n",
              "      <td>1</td>\n",
              "      <td>CASH_OUT</td>\n",
              "      <td>132842.64</td>\n",
              "      <td>C13692003</td>\n",
              "      <td>4499.08</td>\n",
              "      <td>0.00</td>\n",
              "      <td>C297927961</td>\n",
              "      <td>0.0</td>\n",
              "      <td>132842.64</td>\n",
              "      <td>1</td>\n",
              "      <td>0</td>\n",
              "    </tr>\n",
              "    <tr>\n",
              "      <th>4440</th>\n",
              "      <td>4</td>\n",
              "      <td>TRANSFER</td>\n",
              "      <td>10000000.00</td>\n",
              "      <td>C7162498</td>\n",
              "      <td>12930418.44</td>\n",
              "      <td>2930418.44</td>\n",
              "      <td>C945327594</td>\n",
              "      <td>0.0</td>\n",
              "      <td>0.00</td>\n",
              "      <td>1</td>\n",
              "      <td>0</td>\n",
              "    </tr>\n",
              "    <tr>\n",
              "      <th>14861</th>\n",
              "      <td>8</td>\n",
              "      <td>CASH_OUT</td>\n",
              "      <td>181728.11</td>\n",
              "      <td>C2102265902</td>\n",
              "      <td>0.00</td>\n",
              "      <td>0.00</td>\n",
              "      <td>C789014007</td>\n",
              "      <td>11397.0</td>\n",
              "      <td>184477.77</td>\n",
              "      <td>1</td>\n",
              "      <td>0</td>\n",
              "    </tr>\n",
              "    <tr>\n",
              "      <th>25875</th>\n",
              "      <td>8</td>\n",
              "      <td>TRANSFER</td>\n",
              "      <td>1078013.76</td>\n",
              "      <td>C1026280121</td>\n",
              "      <td>0.00</td>\n",
              "      <td>0.00</td>\n",
              "      <td>C277510102</td>\n",
              "      <td>0.0</td>\n",
              "      <td>970749.68</td>\n",
              "      <td>1</td>\n",
              "      <td>0</td>\n",
              "    </tr>\n",
              "    <tr>\n",
              "      <th>...</th>\n",
              "      <td>...</td>\n",
              "      <td>...</td>\n",
              "      <td>...</td>\n",
              "      <td>...</td>\n",
              "      <td>...</td>\n",
              "      <td>...</td>\n",
              "      <td>...</td>\n",
              "      <td>...</td>\n",
              "      <td>...</td>\n",
              "      <td>...</td>\n",
              "      <td>...</td>\n",
              "    </tr>\n",
              "    <tr>\n",
              "      <th>6362528</th>\n",
              "      <td>736</td>\n",
              "      <td>TRANSFER</td>\n",
              "      <td>10000000.00</td>\n",
              "      <td>C412961249</td>\n",
              "      <td>11314660.84</td>\n",
              "      <td>1314660.84</td>\n",
              "      <td>C253674970</td>\n",
              "      <td>0.0</td>\n",
              "      <td>0.00</td>\n",
              "      <td>1</td>\n",
              "      <td>0</td>\n",
              "    </tr>\n",
              "    <tr>\n",
              "      <th>6362576</th>\n",
              "      <td>741</td>\n",
              "      <td>TRANSFER</td>\n",
              "      <td>10000000.00</td>\n",
              "      <td>C780743034</td>\n",
              "      <td>45674547.89</td>\n",
              "      <td>35674547.89</td>\n",
              "      <td>C491519946</td>\n",
              "      <td>0.0</td>\n",
              "      <td>0.00</td>\n",
              "      <td>1</td>\n",
              "      <td>0</td>\n",
              "    </tr>\n",
              "    <tr>\n",
              "      <th>6362578</th>\n",
              "      <td>741</td>\n",
              "      <td>TRANSFER</td>\n",
              "      <td>10000000.00</td>\n",
              "      <td>C1111699947</td>\n",
              "      <td>35674547.89</td>\n",
              "      <td>25674547.89</td>\n",
              "      <td>C949015157</td>\n",
              "      <td>0.0</td>\n",
              "      <td>0.00</td>\n",
              "      <td>1</td>\n",
              "      <td>0</td>\n",
              "    </tr>\n",
              "    <tr>\n",
              "      <th>6362580</th>\n",
              "      <td>741</td>\n",
              "      <td>TRANSFER</td>\n",
              "      <td>10000000.00</td>\n",
              "      <td>C88849251</td>\n",
              "      <td>25674547.89</td>\n",
              "      <td>15674547.89</td>\n",
              "      <td>C1939028448</td>\n",
              "      <td>0.0</td>\n",
              "      <td>0.00</td>\n",
              "      <td>1</td>\n",
              "      <td>0</td>\n",
              "    </tr>\n",
              "    <tr>\n",
              "      <th>6362582</th>\n",
              "      <td>741</td>\n",
              "      <td>TRANSFER</td>\n",
              "      <td>10000000.00</td>\n",
              "      <td>C1945606464</td>\n",
              "      <td>15674547.89</td>\n",
              "      <td>5674547.89</td>\n",
              "      <td>C625944676</td>\n",
              "      <td>0.0</td>\n",
              "      <td>0.00</td>\n",
              "      <td>1</td>\n",
              "      <td>0</td>\n",
              "    </tr>\n",
              "  </tbody>\n",
              "</table>\n",
              "<p>179 rows × 11 columns</p>\n",
              "</div>"
            ],
            "text/plain": [
              "         step      type       amount  ... newbalanceDest  isFraud  isFlaggedFraud\n",
              "724         1  CASH_OUT    416001.33  ...     9291619.62        1               0\n",
              "1911        1  CASH_OUT    132842.64  ...      132842.64        1               0\n",
              "4440        4  TRANSFER  10000000.00  ...           0.00        1               0\n",
              "14861       8  CASH_OUT    181728.11  ...      184477.77        1               0\n",
              "25875       8  TRANSFER   1078013.76  ...      970749.68        1               0\n",
              "...       ...       ...          ...  ...            ...      ...             ...\n",
              "6362528   736  TRANSFER  10000000.00  ...           0.00        1               0\n",
              "6362576   741  TRANSFER  10000000.00  ...           0.00        1               0\n",
              "6362578   741  TRANSFER  10000000.00  ...           0.00        1               0\n",
              "6362580   741  TRANSFER  10000000.00  ...           0.00        1               0\n",
              "6362582   741  TRANSFER  10000000.00  ...           0.00        1               0\n",
              "\n",
              "[179 rows x 11 columns]"
            ]
          },
          "metadata": {
            "tags": []
          },
          "execution_count": 74
        }
      ]
    },
    {
      "cell_type": "code",
      "metadata": {
        "id": "LnFqVWVisE5z",
        "colab": {
          "base_uri": "https://localhost:8080/"
        },
        "outputId": "1d6805ba-17ea-4b95-8d3b-30bd9f585d7b"
      },
      "source": [
        "# QUANTIDADE DE OPERAÇÕES COM MONTANTE IGUAL A 10.000.000 E SALDOS DE DESTINO ZERADOS /LUIZ\n",
        "np.sum((df.amount == 10000000) & (df.oldbalanceDest == 0)  & (df.newbalanceDest == 0))"
      ],
      "execution_count": null,
      "outputs": [
        {
          "output_type": "execute_result",
          "data": {
            "text/plain": [
              "145"
            ]
          },
          "metadata": {
            "tags": []
          },
          "execution_count": 75
        }
      ]
    },
    {
      "cell_type": "code",
      "metadata": {
        "id": "4YKWG7FctExl",
        "colab": {
          "base_uri": "https://localhost:8080/"
        },
        "outputId": "9391f423-5e31-4cfc-f372-6d0507b48ad8"
      },
      "source": [
        "# QUANTIDADE DE FRAUDES COM MONTANTE IGUAL A 10.000.000 E SALDOS DE DESTINO ZERADOS  /LUIZ\n",
        "np.sum((df.amount == 10000000) & (df.oldbalanceDest == 0) & (df.newbalanceDest == 0) & (df.isFraud) )"
      ],
      "execution_count": null,
      "outputs": [
        {
          "output_type": "execute_result",
          "data": {
            "text/plain": [
              "145"
            ]
          },
          "metadata": {
            "tags": []
          },
          "execution_count": 76
        }
      ]
    },
    {
      "cell_type": "markdown",
      "metadata": {
        "id": "HA11gYi_rw0I"
      },
      "source": [
        "**PORTANTO, destas 179 outras fraudes, 145 possuem \"montante\" = 10.000.000 e ausência de saldos de destino** (oldbalanceDest = 0 e newbalanceDest = 0). /LUIZ"
      ]
    },
    {
      "cell_type": "markdown",
      "metadata": {
        "id": "r5Hv7bcbxc9C"
      },
      "source": [
        "**Restam apenas 34 casos de fraude não incluidas nos dois conjuntos anteriores, que além de insignificantes, podem ter sido inseridas aleatóriamente. /LUIZ**"
      ]
    },
    {
      "cell_type": "code",
      "metadata": {
        "id": "vL1uVyx1vsGW",
        "colab": {
          "base_uri": "https://localhost:8080/",
          "height": 373
        },
        "outputId": "e27a474f-e1f1-4576-f3c9-87b82047e4fc"
      },
      "source": [
        "#gráfico de quantidade fraudes nos 2 padrões encontrados X outras fraudes   /LUIZ\n",
        "plt.rcParams['figure.figsize'] = (8,6)\n",
        "plt.pie([8179, 34], labels=['PADRÕES ENCONTRADOS', 'OUTROS'], colors=['blue', 'red'], autopct=lambda p: '{:.2f}'.format(p * 100.0 / 100)+'%' )\n",
        "plt.title('FRAUDES NOS PADRÕES ENCONTRADOS  X  OUTROS CASOS')\n",
        "plt.show()"
      ],
      "execution_count": null,
      "outputs": [
        {
          "output_type": "display_data",
          "data": {
            "image/png": "[encoded data removed]",
            "text/plain": [
              "<Figure size 576x432 with 1 Axes>"
            ]
          },
          "metadata": {
            "tags": []
          }
        }
      ]
    },
    {
      "cell_type": "code",
      "metadata": {
        "id": "hC_bPfP9IY9x",
        "colab": {
          "base_uri": "https://localhost:8080/",
          "height": 1000
        },
        "outputId": "d89f0cd0-ca94-459e-a1a0-e93957ed130f"
      },
      "source": [
        "#MOSTRA OS OUTROS 34 CASOS DE FRAUDE   /LUIZ\n",
        "outros34 = outros.query('(amount != 10000000)')\n",
        "outros34"
      ],
      "execution_count": null,
      "outputs": [
        {
          "output_type": "execute_result",
          "data": {
            "text/html": [
              "<div>\n",
              "<style scoped>\n",
              "    .dataframe tbody tr th:only-of-type {\n",
              "        vertical-align: middle;\n",
              "    }\n",
              "\n",
              "    .dataframe tbody tr th {\n",
              "        vertical-align: top;\n",
              "    }\n",
              "\n",
              "    .dataframe thead th {\n",
              "        text-align: right;\n",
              "    }\n",
              "</style>\n",
              "<table border=\"1\" class=\"dataframe\">\n",
              "  <thead>\n",
              "    <tr style=\"text-align: right;\">\n",
              "      <th></th>\n",
              "      <th>step</th>\n",
              "      <th>type</th>\n",
              "      <th>amount</th>\n",
              "      <th>nameOrig</th>\n",
              "      <th>oldbalanceOrg</th>\n",
              "      <th>newbalanceOrig</th>\n",
              "      <th>nameDest</th>\n",
              "      <th>oldbalanceDest</th>\n",
              "      <th>newbalanceDest</th>\n",
              "      <th>isFraud</th>\n",
              "      <th>isFlaggedFraud</th>\n",
              "    </tr>\n",
              "  </thead>\n",
              "  <tbody>\n",
              "    <tr>\n",
              "      <th>724</th>\n",
              "      <td>1</td>\n",
              "      <td>CASH_OUT</td>\n",
              "      <td>416001.33</td>\n",
              "      <td>C749981943</td>\n",
              "      <td>0.00</td>\n",
              "      <td>0.00</td>\n",
              "      <td>C667346055</td>\n",
              "      <td>102.00</td>\n",
              "      <td>9291619.62</td>\n",
              "      <td>1</td>\n",
              "      <td>0</td>\n",
              "    </tr>\n",
              "    <tr>\n",
              "      <th>1911</th>\n",
              "      <td>1</td>\n",
              "      <td>CASH_OUT</td>\n",
              "      <td>132842.64</td>\n",
              "      <td>C13692003</td>\n",
              "      <td>4499.08</td>\n",
              "      <td>0.00</td>\n",
              "      <td>C297927961</td>\n",
              "      <td>0.00</td>\n",
              "      <td>132842.64</td>\n",
              "      <td>1</td>\n",
              "      <td>0</td>\n",
              "    </tr>\n",
              "    <tr>\n",
              "      <th>14861</th>\n",
              "      <td>8</td>\n",
              "      <td>CASH_OUT</td>\n",
              "      <td>181728.11</td>\n",
              "      <td>C2102265902</td>\n",
              "      <td>0.00</td>\n",
              "      <td>0.00</td>\n",
              "      <td>C789014007</td>\n",
              "      <td>11397.00</td>\n",
              "      <td>184477.77</td>\n",
              "      <td>1</td>\n",
              "      <td>0</td>\n",
              "    </tr>\n",
              "    <tr>\n",
              "      <th>25875</th>\n",
              "      <td>8</td>\n",
              "      <td>TRANSFER</td>\n",
              "      <td>1078013.76</td>\n",
              "      <td>C1026280121</td>\n",
              "      <td>0.00</td>\n",
              "      <td>0.00</td>\n",
              "      <td>C277510102</td>\n",
              "      <td>0.00</td>\n",
              "      <td>970749.68</td>\n",
              "      <td>1</td>\n",
              "      <td>0</td>\n",
              "    </tr>\n",
              "    <tr>\n",
              "      <th>60853</th>\n",
              "      <td>9</td>\n",
              "      <td>TRANSFER</td>\n",
              "      <td>994453.20</td>\n",
              "      <td>C1121789613</td>\n",
              "      <td>1437370.87</td>\n",
              "      <td>442917.67</td>\n",
              "      <td>C254839817</td>\n",
              "      <td>194812.76</td>\n",
              "      <td>665743.67</td>\n",
              "      <td>1</td>\n",
              "      <td>0</td>\n",
              "    </tr>\n",
              "    <tr>\n",
              "      <th>77745</th>\n",
              "      <td>10</td>\n",
              "      <td>CASH_OUT</td>\n",
              "      <td>277970.88</td>\n",
              "      <td>C489647033</td>\n",
              "      <td>0.00</td>\n",
              "      <td>0.00</td>\n",
              "      <td>C571514738</td>\n",
              "      <td>0.00</td>\n",
              "      <td>277970.88</td>\n",
              "      <td>1</td>\n",
              "      <td>0</td>\n",
              "    </tr>\n",
              "    <tr>\n",
              "      <th>138559</th>\n",
              "      <td>11</td>\n",
              "      <td>TRANSFER</td>\n",
              "      <td>1933920.80</td>\n",
              "      <td>C1706582969</td>\n",
              "      <td>0.00</td>\n",
              "      <td>0.00</td>\n",
              "      <td>C461905695</td>\n",
              "      <td>1283762.85</td>\n",
              "      <td>3217683.65</td>\n",
              "      <td>1</td>\n",
              "      <td>0</td>\n",
              "    </tr>\n",
              "    <tr>\n",
              "      <th>169998</th>\n",
              "      <td>12</td>\n",
              "      <td>CASH_OUT</td>\n",
              "      <td>149668.66</td>\n",
              "      <td>C227115333</td>\n",
              "      <td>0.00</td>\n",
              "      <td>0.00</td>\n",
              "      <td>C460735540</td>\n",
              "      <td>44170.11</td>\n",
              "      <td>193838.76</td>\n",
              "      <td>1</td>\n",
              "      <td>0</td>\n",
              "    </tr>\n",
              "    <tr>\n",
              "      <th>178668</th>\n",
              "      <td>12</td>\n",
              "      <td>CASH_OUT</td>\n",
              "      <td>222048.71</td>\n",
              "      <td>C265790428</td>\n",
              "      <td>0.00</td>\n",
              "      <td>0.00</td>\n",
              "      <td>C1700442291</td>\n",
              "      <td>2979.00</td>\n",
              "      <td>225027.71</td>\n",
              "      <td>1</td>\n",
              "      <td>0</td>\n",
              "    </tr>\n",
              "    <tr>\n",
              "      <th>200845</th>\n",
              "      <td>13</td>\n",
              "      <td>CASH_OUT</td>\n",
              "      <td>454859.39</td>\n",
              "      <td>C1274887619</td>\n",
              "      <td>0.00</td>\n",
              "      <td>0.00</td>\n",
              "      <td>C2146670328</td>\n",
              "      <td>0.00</td>\n",
              "      <td>454859.39</td>\n",
              "      <td>1</td>\n",
              "      <td>0</td>\n",
              "    </tr>\n",
              "    <tr>\n",
              "      <th>217978</th>\n",
              "      <td>13</td>\n",
              "      <td>TRANSFER</td>\n",
              "      <td>123194.95</td>\n",
              "      <td>C2143112877</td>\n",
              "      <td>79466.45</td>\n",
              "      <td>0.00</td>\n",
              "      <td>C1755380031</td>\n",
              "      <td>535933.16</td>\n",
              "      <td>263908.84</td>\n",
              "      <td>1</td>\n",
              "      <td>0</td>\n",
              "    </tr>\n",
              "    <tr>\n",
              "      <th>291459</th>\n",
              "      <td>15</td>\n",
              "      <td>CASH_OUT</td>\n",
              "      <td>95428.32</td>\n",
              "      <td>C947728507</td>\n",
              "      <td>0.00</td>\n",
              "      <td>0.00</td>\n",
              "      <td>C1720721903</td>\n",
              "      <td>0.00</td>\n",
              "      <td>95428.32</td>\n",
              "      <td>1</td>\n",
              "      <td>0</td>\n",
              "    </tr>\n",
              "    <tr>\n",
              "      <th>296686</th>\n",
              "      <td>15</td>\n",
              "      <td>CASH_OUT</td>\n",
              "      <td>39713.28</td>\n",
              "      <td>C1404885898</td>\n",
              "      <td>0.00</td>\n",
              "      <td>0.00</td>\n",
              "      <td>C1795377601</td>\n",
              "      <td>1274866.51</td>\n",
              "      <td>1314579.79</td>\n",
              "      <td>1</td>\n",
              "      <td>0</td>\n",
              "    </tr>\n",
              "    <tr>\n",
              "      <th>377151</th>\n",
              "      <td>17</td>\n",
              "      <td>CASH_OUT</td>\n",
              "      <td>42062.82</td>\n",
              "      <td>C897869440</td>\n",
              "      <td>340830.43</td>\n",
              "      <td>298767.61</td>\n",
              "      <td>C616721459</td>\n",
              "      <td>398931.35</td>\n",
              "      <td>678419.64</td>\n",
              "      <td>1</td>\n",
              "      <td>0</td>\n",
              "    </tr>\n",
              "    <tr>\n",
              "      <th>408955</th>\n",
              "      <td>18</td>\n",
              "      <td>CASH_OUT</td>\n",
              "      <td>314251.58</td>\n",
              "      <td>C1462280812</td>\n",
              "      <td>75956.47</td>\n",
              "      <td>0.00</td>\n",
              "      <td>C90486891</td>\n",
              "      <td>7962205.25</td>\n",
              "      <td>8276456.84</td>\n",
              "      <td>1</td>\n",
              "      <td>0</td>\n",
              "    </tr>\n",
              "    <tr>\n",
              "      <th>424928</th>\n",
              "      <td>18</td>\n",
              "      <td>CASH_OUT</td>\n",
              "      <td>508782.20</td>\n",
              "      <td>C576782065</td>\n",
              "      <td>0.00</td>\n",
              "      <td>0.00</td>\n",
              "      <td>C2090737806</td>\n",
              "      <td>1082007.65</td>\n",
              "      <td>1590789.85</td>\n",
              "      <td>1</td>\n",
              "      <td>0</td>\n",
              "    </tr>\n",
              "    <tr>\n",
              "      <th>479636</th>\n",
              "      <td>19</td>\n",
              "      <td>CASH_OUT</td>\n",
              "      <td>122101.57</td>\n",
              "      <td>C149845822</td>\n",
              "      <td>0.00</td>\n",
              "      <td>0.00</td>\n",
              "      <td>C1200316948</td>\n",
              "      <td>0.00</td>\n",
              "      <td>639940.20</td>\n",
              "      <td>1</td>\n",
              "      <td>0</td>\n",
              "    </tr>\n",
              "    <tr>\n",
              "      <th>543928</th>\n",
              "      <td>21</td>\n",
              "      <td>CASH_OUT</td>\n",
              "      <td>23292.30</td>\n",
              "      <td>C1861214292</td>\n",
              "      <td>0.00</td>\n",
              "      <td>0.00</td>\n",
              "      <td>C1834461593</td>\n",
              "      <td>392364.62</td>\n",
              "      <td>415656.92</td>\n",
              "      <td>1</td>\n",
              "      <td>0</td>\n",
              "    </tr>\n",
              "    <tr>\n",
              "      <th>559979</th>\n",
              "      <td>22</td>\n",
              "      <td>CASH_OUT</td>\n",
              "      <td>89571.46</td>\n",
              "      <td>C1022920965</td>\n",
              "      <td>4505.60</td>\n",
              "      <td>0.00</td>\n",
              "      <td>C1460548505</td>\n",
              "      <td>1929428.01</td>\n",
              "      <td>2018999.47</td>\n",
              "      <td>1</td>\n",
              "      <td>0</td>\n",
              "    </tr>\n",
              "    <tr>\n",
              "      <th>643671</th>\n",
              "      <td>35</td>\n",
              "      <td>CASH_OUT</td>\n",
              "      <td>112280.88</td>\n",
              "      <td>C609821524</td>\n",
              "      <td>0.00</td>\n",
              "      <td>0.00</td>\n",
              "      <td>C708118422</td>\n",
              "      <td>40512.49</td>\n",
              "      <td>152793.36</td>\n",
              "      <td>1</td>\n",
              "      <td>0</td>\n",
              "    </tr>\n",
              "    <tr>\n",
              "      <th>694551</th>\n",
              "      <td>36</td>\n",
              "      <td>CASH_OUT</td>\n",
              "      <td>234377.29</td>\n",
              "      <td>C1737133410</td>\n",
              "      <td>0.00</td>\n",
              "      <td>0.00</td>\n",
              "      <td>C877378703</td>\n",
              "      <td>34937.86</td>\n",
              "      <td>269315.15</td>\n",
              "      <td>1</td>\n",
              "      <td>0</td>\n",
              "    </tr>\n",
              "    <tr>\n",
              "      <th>732891</th>\n",
              "      <td>37</td>\n",
              "      <td>CASH_OUT</td>\n",
              "      <td>112486.46</td>\n",
              "      <td>C124687089</td>\n",
              "      <td>0.00</td>\n",
              "      <td>0.00</td>\n",
              "      <td>C179706450</td>\n",
              "      <td>257274.47</td>\n",
              "      <td>369760.93</td>\n",
              "      <td>1</td>\n",
              "      <td>0</td>\n",
              "    </tr>\n",
              "    <tr>\n",
              "      <th>750755</th>\n",
              "      <td>38</td>\n",
              "      <td>CASH_OUT</td>\n",
              "      <td>577418.98</td>\n",
              "      <td>C1907944035</td>\n",
              "      <td>0.00</td>\n",
              "      <td>0.00</td>\n",
              "      <td>C541373010</td>\n",
              "      <td>0.00</td>\n",
              "      <td>577418.98</td>\n",
              "      <td>1</td>\n",
              "      <td>0</td>\n",
              "    </tr>\n",
              "    <tr>\n",
              "      <th>764187</th>\n",
              "      <td>38</td>\n",
              "      <td>CASH_OUT</td>\n",
              "      <td>407005.78</td>\n",
              "      <td>C1948189565</td>\n",
              "      <td>0.00</td>\n",
              "      <td>0.00</td>\n",
              "      <td>C1059308371</td>\n",
              "      <td>0.00</td>\n",
              "      <td>407005.78</td>\n",
              "      <td>1</td>\n",
              "      <td>0</td>\n",
              "    </tr>\n",
              "    <tr>\n",
              "      <th>920521</th>\n",
              "      <td>43</td>\n",
              "      <td>TRANSFER</td>\n",
              "      <td>1395850.55</td>\n",
              "      <td>C1296215617</td>\n",
              "      <td>0.00</td>\n",
              "      <td>0.00</td>\n",
              "      <td>C1429415136</td>\n",
              "      <td>260806.21</td>\n",
              "      <td>1656656.77</td>\n",
              "      <td>1</td>\n",
              "      <td>0</td>\n",
              "    </tr>\n",
              "    <tr>\n",
              "      <th>1021951</th>\n",
              "      <td>47</td>\n",
              "      <td>TRANSFER</td>\n",
              "      <td>202978.65</td>\n",
              "      <td>C1932446672</td>\n",
              "      <td>0.00</td>\n",
              "      <td>0.00</td>\n",
              "      <td>C966173999</td>\n",
              "      <td>2122336.55</td>\n",
              "      <td>2325315.19</td>\n",
              "      <td>1</td>\n",
              "      <td>0</td>\n",
              "    </tr>\n",
              "    <tr>\n",
              "      <th>2058343</th>\n",
              "      <td>181</td>\n",
              "      <td>CASH_OUT</td>\n",
              "      <td>332729.54</td>\n",
              "      <td>C645124798</td>\n",
              "      <td>0.00</td>\n",
              "      <td>0.00</td>\n",
              "      <td>C1797918851</td>\n",
              "      <td>613712.35</td>\n",
              "      <td>946441.90</td>\n",
              "      <td>1</td>\n",
              "      <td>0</td>\n",
              "    </tr>\n",
              "    <tr>\n",
              "      <th>2242699</th>\n",
              "      <td>186</td>\n",
              "      <td>CASH_OUT</td>\n",
              "      <td>229909.57</td>\n",
              "      <td>C260366436</td>\n",
              "      <td>0.00</td>\n",
              "      <td>0.00</td>\n",
              "      <td>C1620159110</td>\n",
              "      <td>0.00</td>\n",
              "      <td>229909.57</td>\n",
              "      <td>1</td>\n",
              "      <td>0</td>\n",
              "    </tr>\n",
              "    <tr>\n",
              "      <th>2622102</th>\n",
              "      <td>208</td>\n",
              "      <td>CASH_OUT</td>\n",
              "      <td>291519.84</td>\n",
              "      <td>C485214392</td>\n",
              "      <td>0.00</td>\n",
              "      <td>0.00</td>\n",
              "      <td>C1138105020</td>\n",
              "      <td>0.00</td>\n",
              "      <td>291519.84</td>\n",
              "      <td>1</td>\n",
              "      <td>0</td>\n",
              "    </tr>\n",
              "    <tr>\n",
              "      <th>2946481</th>\n",
              "      <td>230</td>\n",
              "      <td>CASH_OUT</td>\n",
              "      <td>40611.22</td>\n",
              "      <td>C1617773163</td>\n",
              "      <td>0.00</td>\n",
              "      <td>0.00</td>\n",
              "      <td>C478307499</td>\n",
              "      <td>0.00</td>\n",
              "      <td>40611.22</td>\n",
              "      <td>1</td>\n",
              "      <td>0</td>\n",
              "    </tr>\n",
              "    <tr>\n",
              "      <th>2983493</th>\n",
              "      <td>231</td>\n",
              "      <td>CASH_OUT</td>\n",
              "      <td>94372.61</td>\n",
              "      <td>C1451318490</td>\n",
              "      <td>0.00</td>\n",
              "      <td>0.00</td>\n",
              "      <td>C421443093</td>\n",
              "      <td>471783.48</td>\n",
              "      <td>566156.08</td>\n",
              "      <td>1</td>\n",
              "      <td>0</td>\n",
              "    </tr>\n",
              "    <tr>\n",
              "      <th>5996409</th>\n",
              "      <td>425</td>\n",
              "      <td>TRANSFER</td>\n",
              "      <td>9585040.37</td>\n",
              "      <td>C452586515</td>\n",
              "      <td>19585040.37</td>\n",
              "      <td>19585040.37</td>\n",
              "      <td>C1109166882</td>\n",
              "      <td>0.00</td>\n",
              "      <td>0.00</td>\n",
              "      <td>1</td>\n",
              "      <td>1</td>\n",
              "    </tr>\n",
              "    <tr>\n",
              "      <th>6281484</th>\n",
              "      <td>646</td>\n",
              "      <td>TRANSFER</td>\n",
              "      <td>399045.08</td>\n",
              "      <td>C724693370</td>\n",
              "      <td>10399045.08</td>\n",
              "      <td>10399045.08</td>\n",
              "      <td>C1909486199</td>\n",
              "      <td>0.00</td>\n",
              "      <td>0.00</td>\n",
              "      <td>1</td>\n",
              "      <td>1</td>\n",
              "    </tr>\n",
              "    <tr>\n",
              "      <th>6362462</th>\n",
              "      <td>730</td>\n",
              "      <td>TRANSFER</td>\n",
              "      <td>7316255.05</td>\n",
              "      <td>C1869569059</td>\n",
              "      <td>17316255.05</td>\n",
              "      <td>17316255.05</td>\n",
              "      <td>C1861208726</td>\n",
              "      <td>0.00</td>\n",
              "      <td>0.00</td>\n",
              "      <td>1</td>\n",
              "      <td>1</td>\n",
              "    </tr>\n",
              "  </tbody>\n",
              "</table>\n",
              "</div>"
            ],
            "text/plain": [
              "         step      type      amount  ... newbalanceDest  isFraud  isFlaggedFraud\n",
              "724         1  CASH_OUT   416001.33  ...     9291619.62        1               0\n",
              "1911        1  CASH_OUT   132842.64  ...      132842.64        1               0\n",
              "14861       8  CASH_OUT   181728.11  ...      184477.77        1               0\n",
              "25875       8  TRANSFER  1078013.76  ...      970749.68        1               0\n",
              "60853       9  TRANSFER   994453.20  ...      665743.67        1               0\n",
              "77745      10  CASH_OUT   277970.88  ...      277970.88        1               0\n",
              "138559     11  TRANSFER  1933920.80  ...     3217683.65        1               0\n",
              "169998     12  CASH_OUT   149668.66  ...      193838.76        1               0\n",
              "178668     12  CASH_OUT   222048.71  ...      225027.71        1               0\n",
              "200845     13  CASH_OUT   454859.39  ...      454859.39        1               0\n",
              "217978     13  TRANSFER   123194.95  ...      263908.84        1               0\n",
              "291459     15  CASH_OUT    95428.32  ...       95428.32        1               0\n",
              "296686     15  CASH_OUT    39713.28  ...     1314579.79        1               0\n",
              "377151     17  CASH_OUT    42062.82  ...      678419.64        1               0\n",
              "408955     18  CASH_OUT   314251.58  ...     8276456.84        1               0\n",
              "424928     18  CASH_OUT   508782.20  ...     1590789.85        1               0\n",
              "479636     19  CASH_OUT   122101.57  ...      639940.20        1               0\n",
              "543928     21  CASH_OUT    23292.30  ...      415656.92        1               0\n",
              "559979     22  CASH_OUT    89571.46  ...     2018999.47        1               0\n",
              "643671     35  CASH_OUT   112280.88  ...      152793.36        1               0\n",
              "694551     36  CASH_OUT   234377.29  ...      269315.15        1               0\n",
              "732891     37  CASH_OUT   112486.46  ...      369760.93        1               0\n",
              "750755     38  CASH_OUT   577418.98  ...      577418.98        1               0\n",
              "764187     38  CASH_OUT   407005.78  ...      407005.78        1               0\n",
              "920521     43  TRANSFER  1395850.55  ...     1656656.77        1               0\n",
              "1021951    47  TRANSFER   202978.65  ...     2325315.19        1               0\n",
              "2058343   181  CASH_OUT   332729.54  ...      946441.90        1               0\n",
              "2242699   186  CASH_OUT   229909.57  ...      229909.57        1               0\n",
              "2622102   208  CASH_OUT   291519.84  ...      291519.84        1               0\n",
              "2946481   230  CASH_OUT    40611.22  ...       40611.22        1               0\n",
              "2983493   231  CASH_OUT    94372.61  ...      566156.08        1               0\n",
              "5996409   425  TRANSFER  9585040.37  ...           0.00        1               1\n",
              "6281484   646  TRANSFER   399045.08  ...           0.00        1               1\n",
              "6362462   730  TRANSFER  7316255.05  ...           0.00        1               1\n",
              "\n",
              "[34 rows x 11 columns]"
            ]
          },
          "metadata": {
            "tags": []
          },
          "execution_count": 78
        }
      ]
    },
    {
      "cell_type": "markdown",
      "metadata": {
        "id": "cgELh4AdZYBn"
      },
      "source": [
        "**COM AS \"ASSINATURAS\" DAS 34 OUPERAÇÕES RESTANTES, É POSSÍVEL INCLUÍLAS EM UM CONJUNTO DE 34 OPERAÇÕES. /LUIZ**"
      ]
    },
    {
      "cell_type": "markdown",
      "metadata": {
        "id": "cLovRZ7rZrAv"
      },
      "source": [
        "**ENTÃO, UMA SIMPLES ÁRVORE DE REGRAS QUEBRA O ALGORITMO QUE INSERIU AS FRAUDES, DETECTANDO TODAS AS FRAUDES DESTA BASE DE DADOS /LUIZ**"
      ]
    },
    {
      "cell_type": "markdown",
      "metadata": {
        "id": "UEc5XYhraLjD"
      },
      "source": [
        "![image.png](data:image/png;base64,iVBORw0KGgoAAAANSUhEUgAAAfAAAAHnCAYAAABHfw/FAAAgAElEQVR4AexdB9gVxdm1l9h7ASmCFBWwAipYsPfee68hxBIVG2pUrDGKUWM0imIPSCyxob8lNqygEqMS7Ag2UEQQmf85i+fyfvPt7i3f3b177559nr2zO+Wd9z0z856duVvmcdqEgBAQAkJACAiBukNgnrrTWAoLASEgBISAEBACTgSuTiAEhIAQEAJCoA4REIHXYaNJZSEgBISAEBACInD1ASEgBISAEBACdYiACLwOG00qCwEhIASEgBAQgasPCAEhIASEgBCoQwRE4HXYaFJZCAgBISAEhIAIPOU+MG3aNHfcMcc22YfeNjRlLRq3uvHjxzfBFufasonAk088UWir64YMyaaSOdEK+NMvqS3qp9FF4Cm3FZzW6m3bNdtB7NpajsDYsWObYItzbdlEABeuHAsgD221QwD4qy1qh3+lNYvAK0WuwnL77LVXYaBwwCAEsWtrOQIi8JZjmJYEEXhaSBevRwReHKMs5hCBp9gqk76c1IS8LZnjWFvLERCBtxzDtCRgPKC9sOuvjrRQD69HBB6OS9ZjReApttCI4SMKBN5vs83dSy++WDjHLBwOLWrDAOMOZwdZPMfxGX84vXAOhxi22Tyo299QP2ZFlIv8kB21vG//N8MKAmSyDqRZeyDD6knZNo+vT9w55VFX1lcKgft2XnLRRcEKSJSdUXqkYT/sgX6wE5hxpQahtZ06+vHoKyyP0O8byM901hHX5sSd7cwykFMufr6utAGhxRY2sF7aHGYL+p9Nt/J4bPPABn8DPrZuHIeNFZSz+WBLXP/35UJPlC924VJu+/j2+OdR/Qn6cEUQx2Eb28C2PfxFpWM4rA7FlYeACLw8vFqUG6TNQYLBiy0sLqwSlkNoBxvj4dDssS8DjoLpCH1nC31sun8c5sSsHvaYZemcEFo7mc4QTqqczbeFchBaHHAeRlg2vz2GjtS5FH2szfaYMimrUvuj2gQ2Ri0/23i7wkOdQM7Y0P5h6cyHkPoTC5zbdP+4XPysrsDPbhZP6OzXxXNgwQ1EwniEYcQC8mEejkGWj8Ib+aGPP2asjvaY8omf3yeZztDXA/pU0j60IyqM0gP9wPYF2OJvGKPUNyxEW2pLHwEReEqY+86Pg9s6DTjAqC1s0DAOMkBUPEfoOxtbjz/ziBrYVh6OfTIMc1osA4eAzXeqTPdDX3YUDrDLLxt3buXiIiQuL9N87KJ0SdL+ONKingytw7WkyHQb0jbb5ugPwMnHh21I++1FGOphGev8/TIsGxZaXa0NyBuHrbUHxxxLfjmfGP2+Y8vZ8eHL53k5OhIHS3yIA8bAzdoO+f4FciXtE4Yx4/z6aFNY6NtpbQjLzzjUoS1dBETgKeFtHYQlap/Y/YFM9ThIGNLpWoKyDtaf1bIcQlsHyts0OBmUDXMyVm/o5TtZ66DCiAL1gJggG3VYfenwaG9U6BMbdKBTtE6PNkXhE2en7/ijdEnSfurPEM6RuDGOoXW4YY6a7ckZqX9RZe3z8WWa7ad+W/nEaPsXy4eFVldrA/LGYWtn0cDAEgdsJS5+f7W2WRt8PCA/qk9Z2+J0ZP+3utqysNH6hDh9LHbWBthZ6kZMGNr+ZMch0m1b+G2LdOjAvuiXZR8rVS/laxkCIvCW4VdyadvRfYKwaSChsI0DDyHyh23WIcJxcIPjsOUZj9A6GMil42EeDFRbFg6Sm+/AwgavLes7MN9xhpVnXQxtndbRMN1igLpJ4JaAEO/bGef4KdsPrS6QGaZ/Jfb7mNMG1u/bYnHw7bftxfKwHTKxQ5bd/LqZ5seDcODIaTPkUCbjWDYqtLpaG5DfYhvWLy2ukMPNJxxrH3RmOejOzZKiJVKm2wtDOz6tjlHt7+dBeY4D2w7AjpuNt/oj3W8HlokL/TK2LpTzMbNtYbGBjb4+flmLT5xOSqsOAiLw6uAYK8UfQP4g8AcJBoW/0fEg9C8AmBeO0+ajnCgHhHI2v3WElInQOj5bt3VOYY4Pdlr5yIMydrfpvmOxOvDY5rdOmOl+nZTpY2x1wLG1EXWUsqEc9amm/ZbYonSxdeOYm1+WfYDpYSEwA9HbfkK7bH7G+SEIFmWJtS0Td2x1tTagjLUvjBRsut9vrR3sr/7YsBcZ9iIWtkG23WEfbUY8N6tDWPsjn9/vKIf1IL1YG5XaPtTLDy3OqDdssxhYG6PirQxgTLuicLD5dVw9BETg1cMyUpJ1KBy41kH45BE2a+IAQeg7LFuxdSqUY8vCGdjNpkU5YCvTDu6oeMqHPCu/2DH1Zfmw0MqI0jcsj+/EbJ6wY+vgw/RAXFL2W10t3laPqLptWdgVtcE+v1+G4WDLo33C8tg46FWMkCjT6urbae1DPn+LS7f9DuSLzRIpSMluVpa1JeyY8lDelsNx2AYsbL4wmYjz+34l7RNWP+LicGaZqDxW97B28OXDFm3pISACTwHrqEEbFR92FWvzRg0kmGKdLByVXT63zodmW7m+E2EeO4it87PxOPY360hRD87j9lJIs5i+cJg2D+rDZh0U8I3TA2mlkFBS9vu6+rjiPKpuWxY4hG3A2WLEY7StT+p+eZTFjMvOSlmeIWSUslld/f5j7UM+fyuWbvXDRau9SPb7uZUF3Yv1Depiy+E4bkOdwJcYhYXs/y1pnzAdLM5hPgBl7Cza2mJtjGpXKx92aUsPARF4wlhbAg0btFFxHMxUz+YLc2jMh9DmtU4DsxB/s44tbID6hGjrtoPbDnrW4Tsi/vfH9EpCqy+XR60cewEDHEjgfnwpBG3lhh0nZX8pulqCstiX4kyts7YYwUbgZftPmN2MAzGiT9k+xrLMExdaXa0NKGOxtX2O8oql+zNu6oXQ39DvmY7+VepmdfD1j5KBfodxEHYRxPFZrfahDr4PCuv7Uf3J6hJF/pXgQN0UtgwBEXjL8Cta2jo3DICoq3t/kGHg2I0OBmGYQ7N5rUOy5fyLApSxThR5QR7cMNB9WVZGKQPXOgY4R+s8UBdkcGe9caGvDwkaZaCbrQ/2MN2/mIAcuwFv6uFjb/PZ46TsD9PV4uZjAD24+e3JeBtavX1bLfEBP26Ij8OnlHopi6EtY21AutUR+fytWLqPIceB3+6Q618w+WMAY5i22zSrA479DW3Gcgj9v6+Qn3ohJIFbuaW2j1+3PfexgD22P9l2gB7WFv+CzsfP7y8WH6uDjpNBQASeDK6BVAwSO0D9wehXbWeX/tWulRPm0KwsOAqbH8cYtGGbryPyom7rRCjL19/msYPe1uM7R8hCXmsr4nzHYGXYY98ZoSxkWV2oL0ISOGT4xId0lPNJv1QnZOvEcdhWqf1WNu0Ji6MNrNt3xoy3oX9RSWcObH0sWM535BZX5LEyS21Lq6uPn7U1rL8XS/d1IoZhJIq8vt1RYwAYcbM6+PqH5fGJ0x+nlG2xhB6ltA/riwpL7ft+f4I8aydxRJyPGcahtnQREIEniLfvvH2n51ftX83aJWcOHIRhDs2X5Q+uOFLyHYmti8cYsHQkrMsObBxHbWHOg3IRYuD7sqNkId46fisn7Nhijjr8Cwe/TKnkAz2StD/sQsXqau2Aw+fmY8N4G/pkHEVWqM8Snt8/oQMw8PtaqW1pdfX7j8U2rL8XS4e9/viDnlFbKWPAH0NWB19/1gMsfHyQ15YFztbGStuHdYaF0MP2n7hj35ZSxg1stH0lTAfFVR8BEXj1MS1ItFfSGDDFNn+QWTKxA84O9iiZvrONysd4EEYU0UbVZ52QP+gplyFkWBt4jDphd7mb75whDzr4jtgSOOpAXeXaGaVb0vbDFlsHbURb2XjbPj7OUbqH4QcnjItG22+tbMhCur14YDsiLLctra6wx25R9jFPsXTms/phTMRtYXijPHHxy1odfP1t3rg+FyW70vax9frH0MPqTGzQDnFtATkoa/OwLMJy293XS+eVIyACrxy7oiVBHtxLvTpFPpax5GPjuNQWpwAGHMuUWjfllVrO6lpqHbYM62tJSF0tJoxDCByiNuYrVXdfjrWlVBm2jC8v6hy2QVdbh3XEcKzcmJe2MT4qZD6Ln5Vh67QybP+CjEq2uHosTlY31lMsPSxfXF9gfoTWtrC6mdfqEIUT8zK0ZeJkM3+l7cPyYaHFnek2rpgt1gaWV1gbBETgtcFdtQqBWARA0Nwxw7EbHKidARWbWdqyOhYCQqBxEBCBN05bypIGQsASNI6x1EpC99NKmck1EDQyRQgIgV8REIGrKwiBDCIQ9X+jT97+kwEZNEUqCQEhkBACIvCEgJVYIdBSBHAjE2bePmlzRm7/+25pXSovBIRA/SEgAq+/NpPGOUPA3lSFm5q0ZJ6zDiBzhUAEAiLwCGAULQSEgBAQAkIgywiIwLPcOtJNCAgBISAEhEAEAiLwCGAULQSEgBAQAkIgywiIwLPcOtJNCDQIArhb3t58x//1Eaeb8RqkkWVG6giIwItAjpuG7F3ARbJnJjnqTV1UEA4UjrPSt2hRTpZD/1GsJHUthneSdWddtv+lPTuecJyVF9Gk2V/QZrgZ0b62FljgNbUYm/W4pY1fPWJUbZ1F4EUQbUQCh0Pl40ki8CIdoMRkEXg0UHTs6HcgJzwex/epA7esEBb15AVGtEUtT4HNrMcPWy69NhLSxK82FmavVhF4kTZpRAK3DkMEXqQDlJgsAi8RqAxnS5OA/FUJvn88KxczlTRTmvhVol8jlhGBF2nVeiXwOLNE4HHoKC2vCKRJQGnWlVZ7NqJNaWFXaT25I3Bc4aKjcQmPZIYZFJb2/K0UAsfVtJWH/7X4xR7KRxi24X8wfKyCS9rIB1nQMexq3A4S6syyCGlD2IzQxlm9cIw0bDYP6oId9n866GZn7f7bwop9WrBce8Mw8+Pskixsgb7Q0WKF+LANeWzb4Rg3XIVhH1aecT5ujLf9B3nY/9hmVl+WsSHKW/yRHztw5qzN5uex326sB301bKNchMhj68SxxQOyUb8tE9dnUV+YHcAAcuJeTNOo/aVY37TYxrUH+5PtwyiLvkZf4Le3lY128bdi6WmOt7B+A/2K9X/fpkY9zxWBo7P7Hd12VnYM29joQDaPTcOx78hs3mLf5MZAsPn9Yzg430nbgW9JgGU5aMMIxcYxP0OkYbN54rACLlG2o1zYVom9YXJsXJQOsMvX35YrpS/42Nvy/rHFDW3EzfYf6OPrRPwR+uRaDK+wMqi3WDlg5m9WD79f4ZxbMdmwz5I9yhUrg7rDsC5WLmx8UM+osNb9xfYHizmPkY6N5wij2qOUPlysrVmfxcvW7aeniV+x9oee/pixduThOFcEbskPHZGOxu+UdkbgDzjbKdB5bGcvdlxJWQxe6ony1ga/PutowwjFxvllkYYtLo8t4zsVm4Zjf2CVipVvr8XMPy5lgFu9bPlS7CxHFysvisCtLmHHID+72Tx0pOgLfn+1/cPvr1aGPfbv/LZp/jFwxlaqbOjHDbpZebQDhG3jbRmUbdT+UgxD4mOx8Y/ZHtYXAD/2A79/WH8GbK081sf2iktPe7yF6Vms/1s78nCcKwK3HcJ2ahzbNNup/QFnO4U/m+LACutkkG83nwBJeChrBybKWULw06CDtYV1RBEK0qNsRZoth3zWMdhlVcogVj5OVmfIrdRe2hMWxuHv4wR9ufnkATKj8/OdFNuUZaNCi5u13ccFehAztJtvA+XbcmEXEsQfodXRthFkc2aLumwaZNrNysOxT/DIa21Enjg72CftKpRP0pZoINtujd5f/P5pbcdxKe1h8xBvlMWxTWM7sY64NL9uW9bvq+x3YT4LdXCrZLxV2v9ZZ17CXBF4VKPGdXjbkWynRKe1A4Gd2dbhOzym+TLtIGEe69xsvf7AJ/GzHENbtyUUpFu9/bptOeQjsaGcr7fv5O0At3X65fw6ITvKXtrjh6XgHyXTYugTB+rhS0dgP0ivlM3iFme7317oN7Y9WJfv9KgL8ltnzfwMrSwfZx8zkjvK2nJox7DN5vH7O2ShHLCzcsPkMM62j22HPPQX2weBq79ZrKPawy/D8zh/hjxWtt9HotL9vuO3P8rZ9rQ2WVttO1PfsPFWaf+nzLyEuSRwdHB0QHQcSzrs2LZT+86EHcOPD3OqtuNGdWgbT9kIo+RHybRlcRxFKEijnQitrX45f7D5OsWVhZ7cStHZlx2GJ+UhLCU/2tjayvIWG5seduxjQBl+aGVa23097QVRmB1Wrj8LtfohDfVYeX5dNn/YMfJzs+lWf6b7sm29zFMshAzItisBrNfijDyMRxi2+frUW38pZqO1P6w9LCbl+DOUs7JtH6DMsPRS8K72eCu3/1P/PIW5InBc1VlHazuqPbad2u+47BxR8UxHGDVIbbx1XLasL5862bLQOWqzdvoOIMpWyLLlfN2idKIOtqyt0+rsy2TZYrKZj6Gfn/E2jMpj9bRYRB1bmVHHVqa1PUoHyolL56w2Si/Gc8bry2J6VGhXUGweq38pejJPVGjb39Zjj22/sPltvJXv24rzuM3PH5Y3Ko9tW6tz1HGYbD/O2gg5/mZlh7UH8lfiz1DOyg7DLSw9Churd1SeSvErt/9bXfJynBsC95eA0EnRsTA4/I5nO7Wfxo7hx4fNAKIGaVQ8ZSOMkl9KWZS3gwZl7BY2QJluy+HYbr5OOLebLWvrLEVnX3YYnrYuPz9JzOYpZUaAVZhqbFG2+3r6dRVLR34su/vLk7YNuczvyypnlmzl2bajvr7sYu3Dcn7bY1YFW9A21ibb1/wylGXDcvXx89e6vxSzsVh7VOrPgKGVDVzsBlzC0muJX6n939qRl+PcELjvzP0BHNZp0Qn8jsuO4Q8gyPc369Qhn5sv0x9EyGedmy1bbOCzDls3ytgtylbkseWsU0VaMb1tWVtnsXKQHWWv1ds/tnbY2STzWX0shvY/NxBKNTZbV5ztfl0+Nn66f45+C1v95UXkK6VP+vJ4brG0+jMdoc0T1t/xdxTa0f7Pb/XkhQZloh7KtH3NxwTn/lbv/cXabvsm7SQuCMPao1J/BvlWtt+OvlyLvS1Xq/EW1/+JXZ7C3BC4HTD+TSFwOLZz2k7rOxPbOfz/zzkYMDvxHQzk2806NqTR6cEJW12RZgewn2Zl2uMoQkEeaysHIi9obDnrVFHOx8LihHRb1uqMtErtRdmozdYHm4h/GIZI5+bbgbbijNJPIz4sGxVaXaztvjy/fFS6vcjw+ytk2H4AbLlZPWCz7Vd+n2QZhLZPWP1tnnJksy2sXOpCmXb8QLbdGr2/2PazfZMYWNzC2sOW9/tHnD+DfCsbZdn3/XLIh/7JzW9/tnES463S/k9d8xLmhsDR2WzHZedDB7WOxO+0UQ4WHSSsw9s6/GPbqUotC0eGAcLNDlzIj9rsYPMdgK8XzulAbTnGsQ4fCzu4kceW9eus1F7WHRb6+oTZZeOsDKurzeMfW+xtef/YyrO2+zr65aLS4VStLpBJXZBm+2xcfVaGPbZloFNcGnX2dbVl7LG9oLBEDJ1hA3bUb8v4fa3R+4tvPzFmaLHx2wp5KvVnKBt2E6Gtzx6jzbmV2v4sz3II7fhgelho+7hNBwY2Lar/2zrzcJwbAkdj2ka3nQPH1tHYAeN3Wr9T+LMaK9emWadGGf4gtGVxDH05M2aZYgOf+eyAsfYgPWwAoy5stpzvVH0s7OD2y/p1Ir0SewOlYn58PCyGfntbMXAGfroti2Mfe1veP7a4Wdt9zPxycel+mq8fzv02gvxiOKNf+puVbfX38xWT7eMWR8R2zKGcvxWrK2x8+DL886z0F18PX89S2iOu/1ps/faM61eQaeUir918va2etpzfnpWMtzg9WW9Y/7f6NvpxrggcnciSKjoByAwdxToLS7Z+JwrrEChrOy/qQF22s0d1NMymkN8OOMhCWcjwNyvTHyQ2bxShII+PA+qmU7flfJ19LHBuN1sWeoZt5dobJsOPA0lY/HGMNvH19cuxjWxZYgE9y9mibC+mQ7F06IHlRKsj2h31wcaoDXL9C7W4MnSICKPajnXhwsYfR9APeob12bD2Yf+2/T7MnkbtL8XGcSnt4Y9jlCnmz9iGfv9A+7FNbF9GPn8La8+kxlul/d/XuVHPc0XgaTeiHaQYFNqEQKMgAPKw5AsCKGfFolFwkB1CoJYIiMBbgL69UsXVr71axbG9iuYMtwXVqagQyAwCdqZtL1Qzo6AUEQI5QEAE3oJG9pcRLWH7x5bcW1CligqBzCFAAscsXJsQEALpISACbwHW+H/GJ+qwc82+WwCyimYOAX91ifcN2Fl55pSWQkKgAREQgbewUeG0MAPxl9NB5LihJOzGnBZWqeJCQAgIASEgBJwIXJ1ACAgBISAEhEAdIiACr8NGk8pCQAgIASEgBETg6gNCQAgIASEgBOoQARF4HTaaVBYCQkAICAEhIAJXHxACQkAICAEhUIcIiMDrsNGkshAQAkJACAgBEbj6gBAQAkJACAiBOkRABF6HjSaVhYAQEAJCQAiIwNUHhIAQEAJCQAjUIQIi8DpsNKksBISAEBACQkAErj4gBISAEBACQqAOERCB12GjSWUhIASEgBAQAiJw9QEhIASEgBAQAnWIgAi8DhstTOVZs2a5H374wX333Xfuq6++cl9++aX77LPP3EcffeQ+/vjj4Bhx33zzjZs6daqbOXNmmBjFCQEhIASEQJ0gIALPYENNnjzZvfvOO+6Z//s/d+8997gh11zrLjz/AnfKySe7Iw473O2x2+5uy823cL179nTrdOvuOndco6TvkvvfKl9j9Q6u+1pru14bbOg277up232XXd1hhxzqBvT/nTt/0CB37Z+vcXffdbcb9eQoN2bMGDdx4kT3yy+/ZBAxqSQEhIAQyB8CIvAatPnPP//sPvzgA/f4Y4+5G6+/wZ098KyAOLfqt6Xr2rlLRWTsk3NS57hY2GLTzdzBBx7ozjz9dDfk2iHukYcfce+9956b8dNPNUBTVQoBISAE8omACDzhdscyNmawmEWfePzxDiTdqUPHFpN0h3ZtXfc127jeG7R2W/Rp5XbYelW35y4ru/32WNkduPdK7tD9VnJHHLSiO+rgFYMQ54hHOvLtuM2qbstNWwXlIadj+7Yt1qlj+9WDmfzRRx7lrrriioDYJ0yY4GbPnp0wyhIvBISAEMgfAiLwKrb5lClTgmXvq//0p2Cpe/111i2LFEGifXq1Dki2/7EruIvOWcbddM2SbsSwxdxzjy7ixrywkPv4nQXc1E/nc7O/m8e5KdXdIffTcQu4d19ZyL345CLuwXsWc7dct6QbPGgZd/KJywcXALhY6NyxPLLHMv2B+x/gLht8abDqMHnSpCqiLlFCQAgIgXwiIAJvQbvjZjEsHw8691y3w7bbuQ7t2hclbMyc+27U2h12wEruwrOWdcNuWsI9/9gibsLbC7iZX1WXkKtN8JT3y7fzBET/0qhF3D23Lu4uOW8Zd/ShK7qtNm/lOnUojdyxDI8l+OH/+If79JNPWtAKKioEhIAQyCcCIvAy2n3GjBnuhX+/EMwkd9x+h6KEvVaXNm6f3VZ2g85Y1t118+LujecWdj9OnLfqM2cSaxZCXIRgBn//0MWDFYSD913JrdNttaIXNiB0XAjh74Yff/yxjFZRViEgBIRAPhEQgRdpdyyLjxg+Ivj/eu2ua8YSEWagZ/5+uYCsQWKzvqmPGXUaxP/hmwu64XcsFlzM4P93rERE3WjXZY1O7tCDD3HD7rgjeByuSBMpWQgIASGQSwRE4CHNjmelQR4HHXBA7A1nW23Wyp192nLBf8WTx8/f0DPrapP8lE/mc0+OXDRYfg8IvW04oeNvCTw299cbbnSff/55SGspSggIASGQTwRE4L+2+/Tp090DIx4Ibj6Luku8W9c27tjDVwz+t/7k3QVE2FW8iQ4XQJih42a59XuEL7mDzPfbe5/g4govrNEmBISAEMgzArkn8LfefDN4DrvH2t1Cl3R7rd86mGU//dCibsbkxv7/utqz7Erl4SY53CCHu/A379MqtF26duocvHDm+eef12NqefZgsl0I5BiBXBI4Ztt33Xmn23G77UPJATNALI2/8tTCiTyuVSmx5bUc7ifAo2yb9God2l6b9ukbvBBHs/IcezKZLgRyiECuCBwvVRl8ySVu3e49mhEBnm0+6ZgVHGbaP3+tm8+yerHwytMLBzcK4u8M/ya4NTt3cQPPPDN4K1wOx7JMFgJCIGcI5ILA3//v++60U04NvSFtmy1WdX+7dkn3zUfz6T/tKv6nnfQFwLSJ87p7b108eKucT+T4r/yoI45wr45+NWfDWeYKASGQJwQamsDHvfuuO+6YY5s9r403nuFmtBeeWESkXUekHXVR8PZLC7nT+i/vuoS8IW6/ffZ1L77wQp7GtGwVAkIgJwg0JIGPHz8+uMHJfzPamp3buEFnLut0B3lj/kXw9YT53J8HL+XW6978LvZDDzrY4YZFbUJACAiBRkGgoQgcz2+fe/Y5Dp/JtMuqeBPYVRct7eDgo2Zxim8cUsfb7vAOd/+mN1zQnXDcccH30RtlAMsOISAE8otAQxD4zJkz3U03/jX4NrYlbnxl60+XLO2mfqbHv/J4gTLjq3ncrdcv4Xqt13RGjkfQ8GGV77//Pr8jX5YLASFQ9wjUPYGPHj3abbPVVk1m3F3XaBu84evbjzXjziNx+zZP/3Jed+PVS7p11m5653rvnj2Dj9HU/SiWAUJACOQSgbol8KlTpgSPDPn/c5941ArBJzd9J67zxlkir7Qt8aTBuX9Yttm3z4856mj3xRdf5NIByGghIATqF4G6JHC8fWvjXr2bzLrxOBje3lWpc1e5/BD8f15d0O27+8pN+s863boHH62p36EszYWAEMgbAnVF4DN++sldeP4FTR4Lw3L5kMuXqptvaetCITsXCnf/fXG3rnfH+onHH+++/fbbvPkB2SsEhEAdIusbtr4AACAASURBVFA3BP7RRx+5nXbYscmsafedVnHjx+ijIrooqPyiYPL4+dzRh67YpF/12Whj9+Ybb9ThcJbKQkAI5AmBuiDwJx5/vMkd5mus3tZdPXhpfW+7AV7CkpWLj7tuXtytbV7P2rnjGm7orbflyRfIViEgBOoMgcwT+JBrrm2yZI5ne19/dmH91y3yrnof+N/YBdyOW6/aZDZ+5umnu59//rnOhrXUFQJCIA8IZJbA8Wz3qSef0sSZHnbASnpnuYi76sRtVwF+mjSvO33Ack363UEHHODw1IM2ISAEhECWEMgkgf/444/ukAMPauJE8TnJ2d9V/l+nddI6Fo7F+sCwm5Zw+KuGLwbafptt3eRJk7I0dqWLEBACOUcgcwSOmc5ee+xZcJydOrR199y6eKKzrmLOXOn5JPxn/7WI67HW3Je/bLHpZu7TTz7JucuQ+UJACGQFgUwR+NSpU90uO+1UIO+1urRxzz2qZ7t1AVG7C4hxoxds8irWTXpvJBLPiveSHkIg5whkhsCnT5/u9tlrrwJ547WXrz6jm9VE3rUjb2KPRxX79Gpd6JuYiWs5PeeeU+YLgQwgkAkCnzVrljv80MMKDhIfIRnzwkJaNtcNa5npA5+9N38TEsd/4lgx0iYEhIAQqBUCmSDwQeeeWyDvrp3auFee0sybsz+FtZ+Bsw0wE+9pvmyGi85ffvmlVmNX9QoBIZBzBGpO4HfdeWeBvDu2b+ueHLloZmZddNwKs0OitW6Ld15eqMkLXy7+40U5dyEyXwgIgVohUFMCf+ftt12XNToVCPyma5YUeWvZPPN94IkHFnUd2s19xOyxRx+t1fhVvUJACOQYgZoROJ713qrflgXyPvW3y2fecdd69qf6s7MScN2VSxX67no91tHnSHPsRGW6EKgVAjUj8HPPPqfgALfavJX7ceK8InDNvuumD+ClQofst1KhD+PFQ9qEgBAQAmkiUBMCf+P11wvvN+/Ssa179xXdca7ZdXZm16W2xaQP53cbrLNagcQfGPFAmmNXdQkBIZBzBFIncNy1u+N22xecHr4qVqrDVL76I7lGb7ORdy1W6Msbrre+m6J3pufcpcp8IZAeAqkT+H333ltweP36tnIzJmvpvNFJrtHtO3jfuUvplw2+NL3Rq5qEgBDINQKpEviMGTNc3403KRD4Uw/qkbFGJ7c82PfBmws6PAKJD5+s1aWr3tKWa5cq44VAegikSuB3DhtWIO+9d11ZS+e6aa1h+sBp/Zcv9O2LLvxjeiNYNQkBIZBbBFIl8G233rrg5F54Qh8pycPsNC82fjpugcLnR9fp1t3hMUltQkAICIEkEUiNwF984YUCee+w9aoNM/PKC0HJzuI3EJ541AqFPo43DGoTAkJACCSJQGoEftoppxac29236PveIsTihFhvGL08auFCH8c37bUJASEgBJJEIBUC//nnn9063XsEzg3PfX//ue48rzdykr6lXXD03WjOZ0c7tGvvJk6cmOTYlWwhIARyjkAqBP7cc88VZiZHH7Kils9181rD9oGLzlmm0NeH3jY05+5F5gsBIZAkAqkQ+BWXXV5wanf/XcvnSc9mn310Edd7g9buyj+GvyQH8Ta9WP5i+uKVopBXLF8a6ZP/N587+7RlA32g0247rOIeuHOx1HTDp3DxOBn2E48/PsmxK9lCQAjkHIFUCHy/ffYtOLXxby2QmjNNgzBsHSBGkKGNq8UxCAsEctIxK4TqgnibXix/MRtAlJBXLF/S6SDv7mu2CXRBW8Au2gpST7p+yMeLifA3EfDotWHPnLsXmS8EhECSCKRC4Hi5BRwa3hudhhOtRR1bbtoqsDHN2V6UncUImaRGgi+WP6oexmeFwDHbRj/z2yAqnvpXO9xzl5UDPaDLF198keT4lWwhIARyjEDiBI4beeDIsO+3Z3kvb7FLoVimxQwLzpZLvkgHCXGpFPFw1jhHPPOjDI651AuyveW6pt8eRxmk05njHLs9RzrKIR71jBu9YJCO2R5txAwQ5yyXVBhnTxghQyfqDTugr0/giCeePn6wG7hRhl1pQBzk0VbbDj7WqAP5kQdp2H3CxbmtizhDPuxmG9s2QBp0AP7UgyHqQhryIw7n0AH9B/UwHvVQtu17lFNqeObvlwvqQ50vvfhijt2LTBcCQiBJBBIn8FdefrngzE4fsFwz5xrlFEEgcIAgDuw4hrNFfhIU00lIOAdRsSycMPLD6SMNzh2ymI6Q9SMdTt2eI84/h0zsSKM+cPxcukWaJRyUJ2FAvr8jrVg6dWBYzB7iQ/t4gQFyIpbQn+nMjzjkpX0kNqYjP447dZizREx9YBOxom7ABnkRIg02Ij/zos2sLpTFONSN8sQVcrGjbsQhjbKAN+SjHsRRlg1tGsriHDvqwzny0i7EoX7msXJKOb7hT3P6K8rffdfdSY5fyRYCQiDHCCRO4A8/9FDBEZbz5TE4ZDhWOFMSNJ0zHbBPMH46z1kesuiALTEgDs6W+XmOOObHMRy8PbfpKItzkgHzIQTxID5sJzGFpSEO6VYWjovZg3LQhQTt20qCZjrzE0/UYcuAIKkfykB2mO2+raiHclAe6cSJFzk899ORFzvrBg68EEGINOrNCwvoZNuQMhDaNJazedE3kAfYshzOsfO81NB+oWzINdfm2L3IdCEgBJJEIHECv/eeewInCEd40zVzCbSYM6SzBmmScOhw6YB9AvLTeY7Qd8QkIhIH0pkfuuHclimWzjooz9pXbIZdLN3KwjHrsvHWHh8f3xY/3T+3dSCNs1vIAcGRlFm/1QdEy3RcEHAGDjlWrl+W6b6uzIeQNkI+6mQ9OEa9fhuxrJ8WZi9lI2Q5axfjSglH/XPRQv+5dPDgJMevZAsBIZBjBBIn8Nv+fmvBmd35t9IfIYMzhoOmw7TO2XfAPIfDRX7/nCTCWR/ycIkU5IRzK5/niMMxzymf5zadzh51swxDEAjiw3akFUunHIbF7KH9JCMuDbM8Z5tM9/MjH+0BZjyGnjaN8piOcxIhVzt4jjriyjLd15V1WNm4oEN+7mxDlqWeLMuLQZRDHMqh7Wg/4niRaON4gUA5pYZ4zz/kYx907rk5di8yXQgIgSQRSJzA77j99oIzG3rDEs3ILcopwvnBISOdDhdEYc/pbKPSmZ8OnPnh4CHfv0BAHOSDtHDMc8ThmPJ4btNJqtAF6UnuxewhHrSXFyvUjboynfmBN7DBjmPiT4IGLsTO2s502AyZSIOOOGca6+Y58eE5031dQazIg3TqSb1xkYA0XizwwgQyKB860xbojnhfDuLY5pCHc7vqQFmlhs/9+n88cLjw/AuSHL+SLQSEQI4RSJzAR/xjeIEMr79qqYJjLeYM+T8vSBYOGM6QpOE7YJ7T+frnqMvKgxzI5czNT4ccWx/ScU75PKc+OCd5QC5neohPao+zh/aT6EhitBs64pjpzA/7LN6It7aRCNkeTCdeyEsiZF3My7psXuTnOWWBZBnH0BIy7WYaQosxL25Qr80DvZiP9lInxuOceqMsdWd6qeGjw39T6D9XXXFFjt2LTBcCQiBJBBIn8Ccef7zgzAYPWqbgREtxhiBYOFs4dThgHuMcx3TKPCch++esKyqe6awP55CPnWk4pvywdMSxPOphuSTDKHsYT3yoAzEjlky3+XmMkOUQ2jLMw/K0m/mZTrwsdn5envv1MZ51ULbVhfJtGo/jylO/ONmQUymB33Pr4oU+/9cbbkxy/Eq2EBACOUYgcQJ/9513Cs7shCPn3iBER6swuVm6sC0dWxA+Zt2c0YPkMRvH3w3l4nj5hXPfC/DIww/n2L3IdCEgBJJEIHEC/+GHHwoEvqO+A142GZRLHspfOmn7WPHeAPs3Qtws3y/P85OOnvuo3dtj305y/Eq2EBACOUYgcQIHtpv03iggcSxJTv9SnxKlo1dYOdkmhR3/KrB/n5Rb16Ybz3l5Tcf2q7tp06bl2L3IdCEgBJJEIBUC/+2JJxVm4S+Nqv3HPsp1yMqfPaLNapt8+cH8hb6+0w47Jjl2JVsICIGcI5AKgdtnwf90SfLvCc+qc5dejX8hMGLY3Ne0DjrvvJy7F5kvBIRAkgikQuDjx48vzEq27beq/gdO8PEyXSTU9iLh2MNXLPT1p0Y9leTYlWwhIARyjkAqBA6Md9h2u4Jje/+Nuc/kinBqSzjCv3r4//DFvK5rpznP2PdYu5ubMWNGzt2LzBcCQiBJBFIj8CHXDikQ+PkD57zSUuRRPfIQlrXHcuiNSxT6+Cknn5zkuJVsISAEhIBLjcC//PJL16lDx8DB4TEdzFZEOrUnHbVB9dpgq83n3H2O58dfHf2q3IsQEAJCIFEEUiNwWGHvRr/x6tK/TCaSqR7JCMtksHx8xNzXp+ru80R9loQLASHwKwKpEvhbb77pOrRrH8zC1+u+mpv6mWbhItRkCDVNXGd/N4/bbstVC8vnI4aPkIMRAkJACCSOQKoEDmuOPvKogqO74kI9UpYm0aiuZC4W7h86993n2229jZs9e3biA1cVCAEhIARSJ/D//Oc/hVl4545t3Qdv6o50EWsyxJoGrt99Mp/bYJ3VCheljz/2mLyKEBACQiAVBFIncFg16NxzCw5vvz1X1s1sei68bvvAGQOWK/TlQw86OJVBq0qEgBAQAkCgJgQ+depU12vDngXHd9M1uqEtjdmi6qjuTP/JkYu6Dm3nfKu+a+cubsKECfIqQkAICIHUEKgJgcM6LDXicRvsWEof++JCdTsLEzFWlxjrAc+J78/vcCMm+7C++52az1JFQkAI/IpAzQgc9Z898KyCA+y7UWv31f/mE4lrOT3zfWDG5HndnrusXOi7Bx94oG5ck0sVAkIgdQRqSuDTp0932269dcER7rPbym7GV/mbzdXDjFM6zu2Xvz9h+UKf3XC99R1eUqRNCAgBIZA2AjUlcBj70UcfufV6rFNwiL87bnmH52pFGMIgi33gqouXLvTVLmt0cqNHj057zKo+ISAEhECAQM0JHFq89OKLhdes4j/FgacsJwLXUnrm+gButuR/3gjvv+8+uREhIASEQM0QyASBw/oHRjxQeD4czvHCs/TBkyzOQPOqEz5UwjvO0T//fPXVNRu0qlgICAEhAAQyQ+BQ5vahQ5vMcDAT13K6ltJrfdGA9/Zb8r7w/AvkPYSAEBACNUcgUwQONPA4Dt+XjplO/2NX0I1tWk6v2XL6ZRcs0/Si8swzaz5opYAQEAJCAAhkjsCh1LA77mhC4nvvurL7eoIeMav1TDRP9eNRsd8eu0IT8r74jxfJawgBISAEMoNAJgkc6OA/8c4d1yg40M37tHLvvab3pueJRGtlK17SsvtOqxT6HlaEhlw7JDODVooIASEgBIBAZgkcyuHu9HW79yg40jU7t3HD71isZsuptSIU1ZvefQDPP7aI23DduW9Yw6NiuJjUJgSEgBDIGgKZJnCA9b///c9ttUW/Aonjf3F8QGLaRH1LXMRePWKf9c087k+XLO06tp/zbnP0s57rb+BeHf1q1sas9BECQkAIBAhknsCh5Q8//OBOOuGEJiSOJfXXnllYs3Hd4NbiPjB+zAJu9x3nLpmDvPfec083ceJEuQkhIASEQGYRqAsCJ3q33vL3Jv+LY7Y0eNAybvqXmo1rNl7+bPyXb+dxNw9Z0uGvGZA2dvzfjZvVfv75Z3Y7hUJACAiBTCJQVwQOBMe9+67bfpttCw4XTnezTVq55x5dpMUzMZFg+SRYr5i9/dJCbpftm866N+7V2z3//POZHKhSSggIASHgI1B3BA4DZsyY4S656CLXsf3qTYgc71H//L35ReRaVo/sA999Mp87f+Cybo3V5/7XjYvA3/9ugJs6ZYo/PnQuBISAEMgsAnVJ4ETzrbfecjtuv0MTEu/aqU1wM9KPusktksTqddbcEr1xk9rQG5Zo8g1vEHffjTdxTz/1NLuUQiEgBIRA3SBQ1wQOlGfNmuVuuvGvrtuaazUh8l7rreZuvX4JvcUt57NxvIp35F2LuS03bdWkf3Tq0DFYxfnxxx/rZrBKUSEgBISARaDuCZzGTJ40yZ15+unNltX79Grt7rp5cTdT3xnP1YwcxP3o8N+47bZctQlxY9Z99JFHufHjx7PrKBQCQkAI1CUCDUPgRP+dt992hx50cDOnvdGGrR0+B/nDF7pjvSVL0Vkv+/PX87j7hy7utt6iOXHvstNOukmNA0WhEBACdY9AwxE4W+SVl192++y1VzMiX7f7au6KC5fWzW4NtrSOm9Pw1bBNerVu1ubbbr21e/Rfj7JrlBxilj527Ngm+7Rp04LyTJv05aQm8hAfN7unPBaCPMbZkOkKhYAQEAJRCDQsgdPgZ595xu2/737NnDruQj7pmBXcK0/pZTBZn1XH6Tdu9IIOn521z3JjmRz7jttt7x785z/dL7/8wu5QVnjcMccGchByJzn322zzIA0XiXZjPhvHY6ShHHYcYwNpQ1fIYVmmsZxCISAEhEAYAg1P4DT6jddfd8ccdXSTr5zR0W+1Watg9jZ5vL54FkeWWUn7/vN5g/sa/LensT3X6dbdjXpyFJu+4pCE6gsAiaOuobfN+X49SR35osogDWVA2MiPfJi9k8ARahMCQkAIlINAbgicoEyYMMFdeP4Frsfa3QKHSqePsFOHtu6og1d0I4YtpnetZ2yJHTchjnpwUff7E5YPnW3joyOnnXKq22v3PYJ23XC99d3HH3/MZq8oBMliZgxyJfFC0HVDhgSzaByj3+CcWzECh7wRw0cE5I0yJHDE+fVQpkIhIASEQBgCuSNwgoD/Hu+4/Xa38447NSNyOOW1urQJvgf9yP2/EZnXiMxB2s88sqg78/fLOdy7YC+2eLzFppu56//yF/f111+zad2llwwO8uJRsZEPjCzEl3sAMkY9JGUSNZbAz/jD6QHhIg3n3JiX5zbEjBvlqLudgdsldNZjy+pYCAgBIeAjkFsCt0Dg9aznDxrU5NOldLIIu64xZ2Z+z62Lu0kf6k1vSS6lT/10PvfQvb9x/Y9dwXVfc+47ym17rNWlqzvl5JMdblSM2v7973+7rp06B2R5ysmnRGWLjQ8jYy6fk3ARQjcuo4eVQSW8WQ3HIG6UwRI8Z+AItQkBISAEykFABG7QmjlzpnvyiSdc/5N+60ASljR43KFtW7fjNqu6yy5Yxr345CJuxmQ9ltYSQscHRd54bmF39eCl3V67rtzsFafEvXPHNdxRRxzhRj7wgCv15Svffvut27zvpkE7YpY8pcxXpYaRMWbH0IkbiBnnnDWjDEidy+EkZhI/lsrxnXuUYR4c2yV0xEOuNiEgBIRAHAIi8Ah0QBKPPPywO3nAAIebouBkw3bMzvffa+Xg9a3PP7aIltuLLLfP+Goe9/qzC7vrr1rKHXbASq5b1/BZNrBes3MXd+zRx7j777vPgYwr3dCGkIcZOWbmpW4gZRIzy+Ad/Jg52w15EI8NxyR+hswL4mYcLhSx8YY2xjPkjJ5lFQoBISAEfARE4D4iIef4tCS+UjXovPPclptvEUrkJHc8noYZ+tmnLRe8UOS91xZ0eA93S2ap9VoWb0Ob8PYC7sF7FnMXnrWs22PnVVyXjk0/IkLcGOKLYHij3uOPPeamT58e0hqVRQ0fPtytsXqH4CmEKy+/ojIhKiUEhIAQyBACIvAKGuOTjz9xw+64wx1/7HEOdz+TfKJCzNJ33m4Vd1r/5YPvT+PGrE/HLeBAcPVKzr7eX34wv3tp1CLujpuWCC5eQNa4ETAKE8bjHfaHHnxI8D779957r4LWKL0I7krfYL31A5323G13ffO7dOiUUwgIgQwiIAKvsFHwfyrugAYR9dl444CAfvfb/q7vJn2KkhbJCy8fwWz9xKNWcJect0zwtaynH1rUffDmgg43c/kkWctzfN3tf2MXcPibAO+Wxz0AuNFs1x1WiV0Gp60Me23YM1gWxwdoxowZU/FLVipstqC+A/fbP2gj/DWS9EVDpXqqnBAQAkKgGAKZIfDeG/Z0/o6lzmeffbZZ/EknnFiwC2Xskqg9P+Sgg5qVtXkLQso8KHaH8+TJk4Ob4VDXEYcd7rAsTAIrJ8QMdos+rdw+u63sTjhyheBxqsGDlgn+P77zb4sHX9l6cuSiAam+9szCDm8le/+NBd34MQu4j99ZwH323vzui//OH4Q4RzzSkQ83jr3wxCIO5fG1LpAy/pcGMWP5H2+pw3/7W23eKvJu8GK2rL/Ouu7gAw8M/h9++KGH3KeffFIm0sllv/66vwTL6fim/LDb70iuIkkWAkJACCSEQGYI/IERIxx2kMJuO+8SHI97d1wh7uyBZwXHt9x8c5AH59iQ3xK6PQeZd19r7aAc5UNmSzY+Y4z/U8t5xvibb74J/kf/+y23OOiO17v22mDDioi9GHGmnQ6ixp3X+O8aM2t8X/uLL75oCcyplH3zzTfd2l3XDNoAXyjTJgSEgBCoJwQyQ+AEzRIw4kjqCLmBlEnafn57zhk9y7UknDFjhtt9110DZ1+Nt3xRl6lTp7p333knuGkLFyd4SxzuRN5jt92D5Xg+y5w2KbM+vAwFKwi77rSzO/rII92gc88NSPqRhx8JlsBbcnc4MahliMe1dth2u6BdN+7d202a1PTjJLXUTXULASEgBOIQqBsCB2lzRg1S4UzaEjYMtefIj3MSOUIsyZe7/WfcONfj10fJDjrgwNT/t8XsffyHH7rXXn0teMc3nhm+7e+3Bo8sXXHZ5cFLaDD7HdD/d8GFDW6uw4wSy/eHHHhQ8HlVHCPuxOOPd/iv/vTT/hCUu2zwpe6aq//scPGAx7XweNPo0aPd+/99P3i72ezZs8uFqy7zn3fOOUFfwfPmT/z6iFddGiKlhYAQyA0CdUPgWHbG0joI2c7GLWGj1ew5CZ/L5wjx/3Q529DbbnP4n7RDu/buxhtuKKeo8tYZAiBuEDj6EAhdmxAQAkIgywjUDYGTtDmrJhFjNo6b1bAhDs6X/49z5l1pA2DGCnn4nxT/l2prfASwhI6ldLQ7ltb1RrTGb3NZKATqFYG6I3AsncO5brlFvwBz3OmNc5A1yBxL7SR3kj2JHCHJPq7BJk6c6Dbq2SuQu+P228uJx4HVoGm6eGvQhpVZQqCBEMgcgWOmzf+3gTPI2F/6xv/YnJHbPDYO8cyHeO7F/gPHG8C4jIobtrTlFwE8Xsa/T/DYmTYhIASEQJYQyByB1xIcLL1jNg8CH/XEk7VURXVnBAG86IXvwscLYH755ZeMaCY1hIAQyDsCInDn3A/ff++223qbgLw36b2RHiXK+6jw7Me78PHqVVzc4VWseCWrv9057E4/SudCQAgIgUQRyD2Bv/7664WXeRx7zDGJgi3h9Y0A7rfA0wh4iQ8+jsINNzhiqb3en4mnPQqFgBCoDwRyTeB/GTKk8DpNzaDqo8PWWkv7Gl18phQb362OdwRoEwJCQAikhUAuCRz/Y+6/777Bkui63Xu4999/Py28VU8DIIAP2fTbbPOg/2zce6MgxPI6drz0R5sQEAJCIA0EckfgEyZMcHh3N5zt3nvsqU9KptHLGrSO3/9uQBPyRp/aut+WDWqtzBICQiBrCOSKwP9x//3B/5f4H/OqK6/MWltInzpCAI83Rn2MBo8iahMCQkAIJI1AwxE47hgO2wb07x/Mltbs3MW9/NJLYVkUJwRKQuDaP18TvDSIy+Z+iBUebUJACAiBpBFoKAL/7NNP3eGHHtoEM9wZvFnfvgF599t8C4f/L7UJgZYggP+5zz9vkNt6yy0jiRw3SGoTAkJACCSJQEMR+G677Bo4VAKGt67xc5x/OPVURisUAlVF4PVXX3Vn/OF0t3nfTYPHyTAjR7+LWg2qauUSJgSEQG4RaBgCf3X06MINRX+68io3+OJLgnO8H/3Bkf/MbQPL8PQRwIUj/rLR2/zSx141CoE8IdAwBN5no40LBI6b1DAL6rn+Bg7L6tqSQwDfCx/37rsO3yi/6oorXP+Tfht8h3y/vfdxu+60s3ZhULQP7Ln7HsE36/Ede3x/YOitt7kX/v2CPiKU3LCV5AZBoCEI/L577imQN28owvvMp0+f3iDNlC0zfvzxx4CwjzvmWIfn6Im5wjnPgguH6uCAMbzPXns53DQY9vrabI0KaSME0kegIQgcnxANc5r4CIX9sln68DZWjR9+8IE7/bQ/FF49G4a54qpDXsKxKY5YVcOqzqP/etRh1UebEBACztU9gV9y0cWh5E0HuHbXNd0rL7+itm4BApj9nHTCicFrZ4krwzU7t3GH7reS+/PgpdyD9yzm3nl5IffZe/O77z6Zz82YPK92YVC0D/zwxbzuyw/md+PfWsA988ii7pbrlnSnnLS827hn69CxjQ8PPfH44y3o0SoqBBoDgbom8GnTpjV7jAcfmsDjYvg06NixYxujlWpkxcyZM911Q4Y4PDtPwkYI0h5w/PLu/x5e1M38ah7npmgXBsn0gfffWNBdceHSrk+v5mR+9JFH6h6XGvkGVZsNBOqawPH1MCyt4QY2fFhCL2ipXqf65ONP3O677NqEuLuv2SZwpl9PmE+krYuWVPvAL9/O40betZjbtt+qTfpkj7W7uUcefrh6HV+ShEAdIdCMwHFD2BabblYXOz4kUS+64lOU9bI9/dTTDvcPcNbdoW1bd/qA5ZyIO5lZpmbvpeM6+7t53F03L+7W7b5aoX+in54/aJDDR4q0CYE8IdCMwC84//wmA4NOXGHTm2rKxePA/Q+oi351/333Be+Lp334H/LlUQunOtsSoZVOaHnFCheTRx+yYhNfhcfQZvz0U12MMykpBKqBgAj8189AkrCSCuuBwO+4/fYmN6rh5rRvPtJyeV5Jsh7s/uufl3Qd27ctEPlBBxzgZsyYUQ3fKBlCIPMIxBL4yau1d8+0Wl17hRhcttqcF8rgOOoIFAAAIABJREFUoiDrBI7/EfkCHOiLu4B//lozwXogsbzr+K9//MZ1XWMuiZ90wgl61Czz1CMFq4FALIGDgL5u1UF7hRjc1Xr1wswgywQ+ZswY12WNTgVdzz5tOS2Zp3iT2ohhi7knRy7aDPOxLy7kht64RGiaT9pxeadNnNehDsia9OH8zepB3UiDDF+uf55WPX69xc6ff2wR16XjXBK/dPDgavhHyRACmUZABF4hOZdyYVMPBD51ypTC19ow8z7hyBUc7vgt5jAbNb0UEqum7Zect0xw4XTcESs0wRyEiva47sqlghD5ouqNywvyhpx9dlvZnTFgueB4/JgFCrJQr60n7EKC9aZVD+srN3zkvt+4Du3mkDhWk3AzpjYh0MgIiMBzTuAD+v8ucOBw4ttvtar7adK8BedergOt9/wkszTswIVCv76tCthbAifpkrQxe0b7WOKljsXy8gKAM2/IAZGj/EujFgnkkrRJ8JRtw7TqsXVWcowXCsFG7Pgu+9dff93I/lu25RwBEXiOCfz5558vOLu1urRxH765YNXJGySBmRt2S0BcigWx2CVcEEXUci/SmBchzunkIQd1cAbNc5IT8iEd52FpiKfjRz7koewkQtSB+kjOlsBhA9KQB3X751YfP80/9y9K7Dl1QBnI9M9rUY+ts5JjrB4dsNdKhbb8w6mn5dzFy/xGRkAEnlMCnzVrltuq35YFR3fzkCWrTlic/YEYOLsDoVuywCwU6ZyNIkQ5LPmCxEikCJFm8+OY6T5x8dwSI+ShDGa21Iez3GIEjnqgZ9iONNQXloa4MCLCxQwuQML0JKmzLPPw3Morlhc2Y2cZS+DEAPJtm/CcZRCmVY+ts9LjT8ctELwtEHZjKf2N119vZB8u23KMgAg8pwQ+4h/DC+S949arulnfVP9/bxAOCJvkB4dKEkKIcxADHDXPQd72nOkkGxI2QpRHPPL7JMdzn8BRhsSA47hz5kNIG6CnvyMN9fnxPLdy/OMwPVEOeiFEfubhuZVRLK9voyVwHkM+ZFIWz2tRj62zJcd/+fXeAdh/6MGH5NjFy/RGRkAEnkMCx9ectt5yq4Ak4OCeerD5HdAtcZ4si1ktZryog2RBEvLJgud+Os8hA7NyykbIWTqOfZLjuU/g/jnkUiaO7TnjEYrA4y8qfOzY3sCOx7wwYFvz3OJcrWPcy9Frvblva8OTFtqEQKMhIALPIYE/99xzBfLeadtVCgRWLecJOVgihlPHDNkuFZOQfSfOcz+d55CVFwLnxQdt989tO/lp/jnJk2XsOTFHGaT75yyD0Jfrn1u5yG/Pfbn+ua2nmsc3XbNkoZ+fevIpjea7ZY8QaP45UfsqVT0H3rJn4LP6GBk+/MIZ0323LZ4IgdPBc0mc/zHDecNJ+06c5346z0tdQud/2rzDGkRCUoDN/jnibLo9Z3ySIXGyeuGCB3rQFv7/zJsAgSVxKZaX9yFgBQF2QC7/diBGkIc0Ykx706qH9VU7nPrZvK5rpzaBzfis8I8//iiXLwQaCgHNwHM2A//pp5/cWl26Bk4NnwXFt5ir7Tghj8QCwiA5W/JgHAgM+XlOYvLPOaOPuokNMiCf9XF53RIj0vxzxNF+EhjqJlkyLakwjMBRF+0nAZPMkQYbrN5xedkOwIP2Wdsoi/WQzNOsJylsIbf/sXOwAl7/HDmyoZy3jBECIvCcEfi/n/93gehOOnru7DQJJ2r/N8YxZpK8KQ3EBeLhzJDnJHT/HPqBjDgrRIhzqzfrQx0gKci3hBR2jjjKgDycY/dlM0+1Q+ps9WQdxMBPw7nVG/mj8iINtgATlCHerAMh5RF7pjGe5wiTqMfKr/bxEw/MfTxQj5SJ8BoNARF4zgj8issuLxD4nX9LZvm82k5Y8qr/hEBeMMUyOj920nfjTRrNf8uenCNQFQLv2aadi9r/+Ov71KPS92/Tzg1rFf7O9YdbtS/IfTEkD8pCLvL5rzZlfYznuQ03b9POUT/ms3XavDxGncxbLMzif+D4WhOWE7HbpdS8OHTZmb+LgV13WKXQ5ydPmpRzly/zGwmBqhA4CSEsPGa1OYQXlmbjwkgYZMk8YcQJUkV62AUAy5FkeR4WgsiZD7LC8jAOdTJvsTCLBL5Rz16Bfbi5Z/Z3+XPmIvD8tfnpv74DHmP4pRdfbCT/LVtyjkBVCRzk5++cOZMAbfqQ1u1dt19J2JIoiRFlOhkSZzzDSgjc1o+LC+p12q8rBUhHHPSyeXkcdqFBffwwawQ+bdq0widD8fIWkVn+yCyPbX7j1XMfJ7vrzjtz7vJlfiMhUFUC9wnMnpMobRyOSZj+zBbkjjKYeXMm7i93V0Lgfv2QiXpwoRCnj1+ulPOsEfgnH39SuGA58uAVReAJfzKUN3zxxjgb+jeM5ZFY07L5n3fP+RgMxvmQa65tJP8tW3KOQFUJHIRqd7vsHUXgmPkizZ+B4xzxmMFjx7FP8tUgcBCx1Y0XFKzP2oNj/yIijsizRuDjxo0r2Pq745YXgSdM4CBs9CM8AmbJG8ci8PRWP0Y9OPdO9MGXXJJzly/zGwmBqhI4iZChJVwbR1Lk8jnSMOMmGb7favXA8SGdcSiDfFySRzzjQLrMx5D1RZ0zHqHNawmc8Tbkf/q2fNRx1gj8tVdfK9g68OQ57xBPaxaUx3pI4CLr9Mg6rJ/xhTUYx+eefU4j+W/ZknMEqkrgID+72/+LLQnaY5C0JW+QIWflWNYm2fO/cDurT5LAo/4DtxcQUcTN+KwR+CuvvFIg8LNOFYGHOftqxonAa0vcbMtXnl54br8/c2DOXb7MbyQEqkrgJK6wkKQNgrc3r4GEMeO2ZUjWLOOHzEsCD1vWZhnm9c8Zz+V5pCOOM3DIZp5KQxF4Nhw4HXnaIQk8bAk9bV3yXJ8IvJEoS7ZYBFIncJIhSJtL6JYsMWsHmYbNgH3C5s1tiLcXAZzBk5RRZxSB7+TdBS8CzzfpVpPoRODZ6EsicOvyddxICNSMwEGqdvbL/5ZJqHysi4SPkHemk/BJtiRnxPOiAHF2ud3mQT7sjEPI5X4rk/n80OoUd6wZeDYceDVJuRxZJHD9B17bfiACbyTKki0WgZoSOMjPzpY5+wahRv3XTNJlOh8DYzxDkLedlTPeD7FcD9ImEVsC9/PynHmLhSLw2jrucsg2ibwi8Gy0vwjcunwdNxICVSFwkJ4lwTBii8vDNJAyj8NkIA4kjzwkcOZjPNIscTOdcm3IWTfzIERZmyfs2OaPOxaBZ8OBJ0HOpcgUgWej/UXgjURZssUiUBUCjyOxPKeJwLPhwEsh2yTykMDDbmLTsnp6fUMEbl2+jhsJARF4jr5GpsfI0iMNXBCApEHiYbsIPL22EIE3EmXJFouACFwErjeyJfxGtiRm95JZ+gWACNy6fB03EgIicBG4CFwE3tB9QATeSJQlWywCInAReEM7b81US5+pNipWInDr8nXcSAiIwEXgInDNwBu6D4jAG4myZItFQAQuAm9o592os0rZVfrKggjcunwdNxICInAReKYI/LgjVnDXXblUqE5PjlzUIR0hCGz8mAWanJdLaqgH8sotV+38tAu6cMejZ7Cv2nWlJY82nTFguZrbIQJvJMqSLRaBWALfvk0713+19torxGAv87rWA/c/wOJek+N6eIwMb7uLIlU+V40QRIRHsZCf5+WSE+pB+XLLVTs/7RoxbLHAJtgF4oNu1SLxaRPnrRincu2FHdAdIS5EcDzpw/lrhrMIvCbuRpWmgEAsgWPgaa8OBiLw0pY80d/ySuD+s+H9+rZy2Msl0LD8HMdhadWOg8777LZyoDeIG3VHrapUu+4weSLwFJhEVdQEARF4ShcpIvA5BI6ZIJeuMct8adQiTQjKJ3AuxWImh3JI54ybM3DEIw7EjxB10JFjBouySPPr82fgcXmpB+qkPMSxHoScOUMu8thZJ3RiOT+NM3CfwJEP9lJOnAzUTwyIA3UjbsS2WrN6yvdD1sN4/5zxaYUi8JpwiypNAYFmBD5hwgR3z913a68yBmPHjk2hOeOrqPUSOggIzhyzMxA3iQshnbl19iBInIPIkB/H2JmfBI445OXSLfJDHusDcZNckZcEZgm8WF7qijKQBRusLOqHum065GLnrBRprJfETNlIIw4IbXypMqAHcQBxQw7sha7YUQdk2Xp4cQK9/B35IMePxznlW1mQj3qQznj/nPFphSLweL+g1PpFoBmB168p0rwYArUmcM4EQTJ03iRCkop19n4aickncBI2ZNoykAlCwY6yTMM58oJkUB+Oi+UlmXLWzXPqYmVBHsgZ9UAuL0RYFvGol2Upi3qhPHYbX0wG68fFCggbsnihAlmoj7ZSPkPqijL+jjyU56dZ+ZSFPKhHBF5sNCpdCLQcARF4yzGsGwm1JnCSDJ09QktSOLfO3ycdkgOJzz9HedaBNJAnSRskD3KDTKTZvDgultfXk+fUxdcVMrkzL3SBftSJJMd06uWXQzzzRMngCgD1gGwrj/GUbUNcHCB/2I585czAQeqoi7ahvH9u607jWDPwunFRUrRMBETgZQJWz9lrTeAkUC4dw3mDWOHgOZuzzh7LzjinkydJkTRBUEjnOfKBOBCHOkh6nPHznMTGvCjHtKi8TGdZniNEeV9X6mxlYxUA5bnTZsqibJalfri4YJ4oGSgDm+1Kg8UOx/acdbAcdfJDpENPPx7n1N/KwjHq8Qkcbe/nS+tcBF7PXku6xyEgAo9Dp8HSak3gXAYm6YGY4Owxq6Qzt86f5A6yQDovAFge8cgP8oQs7DjGjvwkPS5dkxApj+el5KUsluU5dfF1BZFCPvJTT+bFRQLSoi4WoA/IEbbxf+ZiMoCNJUlrG+RBFnYcJ72zndAesBH1sg2SrjtMvgi8wRyZzCkgIAIvQNH4B7UmcDhX/g/OZWSEdiYHZw/yQV7MKDmzRT6WIRGS1JAfacyLeJYncdl0lrckh7ri8qIM0imb55QFsqI8hiB1EgrtZhpCplEWdEQ886A85DJfnAxiAQyIEy4iwsrSBqZVO2S7sT0sDtWuqxR5IvDG9215tVAEnqOWzwKBw+GClEAilrjpiMPiEQdSwM5jKwfxlGkJz+ZhXVY+4nDOuikjLC/rpnyeI2R5hJTpxyONZSif5RgPXbizHuZhyLy+DKbHlWca8yYdor4oPZOu28oXgefIyeXMVBF4jho8KwRunauOk1/SzjvGIvAcObmcmSoCz1GDi8BFlnkkcxF4jpxczkwVgeeowUXgInAR+MAcjXiZ2ugIiMAbvYWNfSJwEbgIXARuXIIO6xwBEXidN2A56ovAReAicBF4OT5DebONgAg82+1TVe1E4CJwEbgIvKpORcJqioAIvKbwp1u5CDxdAsdjVHjGO2xHWh7JtBY26ya2dP2MaksPARF4eljXvCYReLoEzhe04EUmPomLwNNrCxF4zV2PFEgIARF4QsBmUawIPD3SwEyTBC6yThd3f5YvAs+iN5JO1UBABF4NFOtEhgg8XSIRgaeLt0/cPBeB14mDkpplIyACLxuy+i0gAk+XUEjgYUvoJBeFybeJCLx+fZY0j0dABB6PT0OlisCTJwtLyCLwdPG22NtjEXhDuTEZYxAQgRswGv1QBJ4uoZDA9R94urhb8saxCLzRPVt+7ROB56jtReDpEokIPF28feLmuQg8R04uZ6aKwHPU4CLwdAlFBJ4u3iRsPxSB58jJ5cxUEXiOGlwEni6hkMDDbmLTsnp6bSECz5GTy5mpIvAcNbgIPD3SwCwQJA0SD9tF4Om1hQg8R04uZ6aKwHPU4KNHj3art20X7ANPWU6v8pySHon4y7o6Tw/7V55auNDvzx54Vo5GvExtdARE4I3ewsa+t8e+XXBkJ5+4vAhcBJ6LPvDMI4sW+v3Ff7zIjAgdCoH6RkAEXt/tV5b2EyZMKDiyYw5bMRfOWzPd9Ga6WcX6kft+U+j3f7766rLGjDILgSwjIALPcutUWbdvv/224Mj22HkVEbhm4LnoA0NvWKLQ72+95e9VHlUSJwRqh4AIvHbY16Tmdbv3CJzZOt1Wy4XzzuqsUHqltzIw6IxlCwT+f08/XZNxp0qFQBIIiMCTQDXDMvfcfY+CM5v04fwNQ+JPjlzUHXfECm78mAUqsgllr7tyqYrKVpOMoQN0sTvipk2ct+a6VWIn9MZd+LAHj9PVwo4D916p0Oc//vjjDI9OqSYEykNABF4eXnWf+7xzzi04s4fu/U1dkkIYkfCZ60ofz8Ld+SCZMNlpxkEH6AI7sL80ahG3z24ru359W1WN/HDhNmLYYqnYesaA5QJ7aAdsSRPPmV/N49bs3CbQAatPs2fPrvsxLAOEABEQgROJnIT/euRfBQJvpEfJGo3ALcmBcEHqmMHa+EqOsUKR1sUK9ebKBlZJUDfIvBLdKyljHyE7/tjjcjLKZWZeEBCB56Wlf7UTN7J1bL964Eh7rream/VNsv9Fcmkbs0kQEGaYiLPOGKSCmRrSQMRcZsUsEXFc6qcslkc5yiOBIy2qHhAH60Eeu9zuk1pcXi5zU2/I9Gf+1NW3CXazXFga4qCLxQfHmIFjZ3ycDOBHDCDPEiZmwJDv20u51QyBCepB20Cuf17NuqJknT9w7v/fQ28bmrPRLnMbHQEReKO3cIh9hx50cMGJP/VgUzKNcoSVxpNYQSRw4CQQkidCOHkQDogGJMVlVpwjjcu9JDcQJvRBPNIhg/WgPMpBHtJI9pY8cIx8SKddOIZ8nBfLSz1A5NTRykI8zqEf0yk7zl7UTdnUi6GNL0UG7IMdxAF6QBYxA8ZIp3yGvDhBfXZHPPLYOHtMnCkHIdukVgT+89fzuA3WWS1oizVW7+AmT5oUMhoUJQTqFwEReP22XcWaPzDigcCpgWSOOjjZ58HpxOngeU6nToLhLJvpJBfoCMLGrBLH3EkmOLdkwXqYnxcDkA+Z2FkHy6I8jkFIOC6WF/mQnzrz3OpMWZAHwmVaMXspC+XsbuOLyYBu2GEn66au0MPaauuwuiKf3SEH6TbOHlO+lUecEbIs9bL5kjp+8J45F3io8/BDD6t4vKigEMgqAiLwrLZMgnpNnz7dbbDueoEj79C2rRs3esEmZFFNh0onDmcPuTynUycxIcTOmTHTQd5wwJzJcnbLc5CZlct6EIdy2HHMWSvOIYMrAUhjXtRfSl7qzLI8J6GhDspiHobMixC7by/TmZ+hjecxQuy+DGJE+4ERCRY6xumHspRrQ8RDFxtnj3nhRH0RcrbPtmTdPLd5kzjeYetVC33g8cceS3BESbQQqA0CIvDa4F7zWq8bMqTg3I4+NLlZOJw1CIPEynM6cZAA00mACEk4IAakk3DtzBrxXBqmXNYDQkA6yA3HrAfl7TmJA3mRx6ZF5aUsluU59baymIehzRtmL9OZnyFkcjWBeWx51s38uGAB6ZLc+bcD8sXpxxm7L7uSGTjrYlvzHMROPZMKH7537tvXttt6G919XnOPIwWSQEAEngSqdSDz+++/d3ypCxz6qIT+C/eJled06jyHc4czxzkIigROwrakQzJHHAmAckhUnHFzhk7Sg1wrk+Wt/GJ5mc6yPKcNJE1eAEAH5ME59WRe317KomyEnMlGXaxYGbAPMhBHGdY24oI8TE8ytHVzZYBtm1S9P3wxr9tow9bBhQrqf+jBB+tgREpFIVA+AiLw8jFrmBJ3DhtWcHJ9e7d2Uz6Zr+pOPYyw4FRJMCA1khZDptHBk7A5c6NMkjXy2TjmB5GSRLnkjjju0INEaommWF7qSf14TlkgSdZBXbjEXMxeykKIneUtJsVkkPBRFnpYO6EzZSKkDUmFxJJ1Eoek6oPcc06be+f5fnvv0zDjVYYIAR8BEbiPSI7O8VKL3XfZtUDiIIxqO1bMtkBsJFKe+7MwkB7y+fHQh2UoA6Gf1+bhsW8L4xH6MiAPOrBMXF7qyrw8p36Mh0zsfjzSWQb1ML+NZ1mENt0eR8lAHtoXVp5pKG/lJXXM+nxbk6jvX/+Yu3TeqUNH99577+VoRMvUvCEgAs9bi3v2jv/wQ7d21zULJP6XDLxONAnHLplN72pvRDz+8+qCrsdac966hlWHG6+/wevtOhUCjYWACLyx2rMia0Y+MPexMtyVfu+ti6cyM2tEEpFNtblQ+Ow/8zf53/vIww+vaCyokBCoJwRE4PXUWgnqeungwYVZeMf2bd1dN4vERca1IeNycf/wzQUd7uHArBv79tts66ZOmZLgaJFoIZANBETg2WiHTGhx2imnFpwgHOFVFy3tZn9XH068XKev/I3Rrq88vbBbv8ect62hz/bdeBM3ceLETIwnKSEEkkZABJ40wnUk/5dffnEDzzijCYkfst9K7qv/Vf/udBFoYxBordoRF5bXX7WUW2P1toX+utUW/dxnn35aRyNOqgqBliEgAm8Zfg1Z+qorr3Qd2rUvOEbMcPS/uAi3VmTt14s3B+6969yPsmDmvcduu7tvvvmmIcejjBICUQiIwKOQyXn8qCefbPKiFzjJ3XdaxT39ULIfP/Gdtc514cA+8PE7C7iBJy/XZNaNC80Lz7/AzZw5M+cjVubnEQEReB5bvUSbP/vss+AjECBvu++83Sru9r8u4b79WEvrJBeFyVxo4HO3uGj87bErNCFu9MdNem/kcKGpTQjkFQEReF5bvgy7H3n4Edd3kz5NSBwOtHPHtm7/vVZ211y6lPv344u4L/7b9KUkIrVkSK2RccVrUMe8sFDwFET/Y1dwG6479wY1XkR27dTZXXLxxW7atGll9GJlFQKNh4AIvPHaNBGLfv75Z3fvPfc43ChERxoWrt21jevTq7XbZotV3S7br+J23UG7MIjvAztuvarbbJNWwbe78R6CsH6FuG5rruUuuvCP7ssvv0ykj0uoEKg3BETg9dZiGdD3tVdfc2cPPMv1XH+DSGcb5YQV3/TvCOERjwdm24cefIgbMXyE+/HHHzPQ+6WCEMgOAiLw7LRFXWqCd00PvW1o4GRxQ1Hnjmu47mut3eQudpFUPEkJn3Zuzc5d3PrrrBv0m/V6rOOuuuJK98K/X3AzfvqpLseFlBYCaSAgAk8D5Qav47xzzglm4iDvUU/MvakIzle7MCjWB2bNmlUYIQcdcGDQl3p06+7+M25cIV4HQkAINEdABN4ck5rGXHn5Fa73hj2b7VDKj99t513c5MmTA30POeggh52bPQ+TafOyTLnhD99/77bbepvA4W7cu7ebNGlSuSKUXwg0Q+DGG24IZuId26/uht52W7P0YhFh/R1x2Ji25Rb9mohhfJPIX0+effZZh/wYfyedcGIhiz8ecY682oRAWgiIwNNCusR6xr07zj0wYoQDOWNpFcfYseEc8YzDUjUdEZ0Jq7HncDpWFsq31NG8/vrrha+YHXvMMaxWoRCoCgJj3noruGkN/faow48oS2ZYf8e4woYxg53jgYJZhuc2xBjDfsvNNzcp549HjCteUNvyOhYCSSEgAk8K2RbKDXMocBiI54ZZNIgamyVs/zxMFmVUEv5lyJDCDGnY7XdUIkJlhEBRBPCY2I7bbx+Q5kY9e5X8jvOo/g4SxxgCEeNb4bgY5hZVBukYW7xQBknzYsAfj5SlUAikhYAIPC2ky6wnzKHAYcDxkKzpjCCacazGnlMW4xBySZH5SwnxrvQD99s/cILrdOvucAObNiGQNALnnzco6HO4x+Lxxx4rWl1Yf0chPDmBMYMNF788xjnLBIneD8YK8mIHkXOWjXM7HjGutAmBNBEQgaeJdhl1hTkUOAzMGuiIEHIjOYedUxaX3u0sgvmLhR9//LHbYL31Aye29x57OjwXrk0IpIXAU6OeCp5wwBiw/T6s/rD+jnxcOsdY4TFm49hYJkwe4jDrZh7O3Dke7biKKq94IZAEAiLwJFCtgkw6CysKDgPx2JgO54ENTgVOiRuOuezHvEwrNxw+fLhbY/UOwbJ5JTP3cutTfiEQhgBuksTrUzEOcPMkbqIM28L6O5fPkUbCJQFDRlgZygbhc5zhmOPKjkfmVSgE0kRABJ4m2mXUFeZQfIcBksYSHpb0cFMa0hGHHce8UY2yOEtnWIo6A/r3D2ThOd2XX3qplCLKIwQSReCEY48L+uRaXbq61199tVld7O82gatWXP5GGi56MU6wsQzHBkKOH+ZDHPKTzHHsL6HrAteiruOkERCBJ41whfIxY6CjoAic8wYaxDGPdUrIg93GMR/TGFJuWPjtt9+6zfr2DRxWv802d1OmTAnLpjghUBME7hx2p8NjZnh5EG6qtBv7u40DGZOQGc98GCs85tjwxxDK+nE2L48hR5sQSAsBEXhaSNdRPc8/97zDKywxwzjl5FPqSHOpmicE3n///cInb/ffd1+Hmyy1CYE8ISACz1Nrl2DrpZcMDogbS4MjHxhZQgllEQK1QwA3U+KmSlxs4lWsEyZMqJ0yqlkIpIyACDxlwLNa3YwZM9zuu+4aOMIN11vfffrJJ1lVVXoJgWYIXHXllcFyOm62/Mf99zdLV4QQaEQEROCN2Kpl2oT/7Xqs3S0g72q8YrXM6pVdCFQFAdxkiZstMRvHzZfahECjIyACb/QWLmLfbbfeWrgZ6K83/rVIbiULgWwj8P3UqYVv1uMmTNyMqU0INCoCIvBGbdkS7MI7pjFb6bbmWg7vntYmBBoFgdNPOy3o213W6NTs7vNGsVF2CAEReA77wMSJEx3eLQ3yxrum8c5pbUKg0RB4cOQ/g+e00c8HX3xJo5kne4SAE4E3aCeIetUp3iWNd0rDqeEd09qEQCMj8Nmnn7qeG2wY9He8kAU3a/qbHj/zEdF5vSAgAq+XlipTzz13271ZibPPHBg4MhA43i2tTQjkBQF+vARvKfRftoK3p2G2rk0I1BsCIvB6a7ES9H3koYcDor799tuD3Hhn9DZbbR3E9dlo4yZvaStBnLIEZI18AAAgAElEQVQIgYZA4Oa//a3wGVzcvMlti003C14Iw3OFQqBeEBCB10tLlaHnej3WCcga/3PjXdF4ZzSWzPEOaW1CIM8IjB07NrhpE+PhiEMPC2bjOMZ+9Z+uzjM0sr0OERCB12Gjxal87Z+vCZwRnRJCvDMa747WJgSEgHPTp093O+2wYzBOMDY4VnDHeth/5MJMCGQVARF4VlumAr1w4xqcEB0Sw6G3Da1AmooIgcZGYNNN+jQbK/1/+9vGNlrWNRQCIvAGas6TBwxo5pBA4vhiE141qU0ICAEXPDa5y047R44VPGapTQjUAwIi8HpopRJ0nDRpUrBUzlm3H4LEB555ZgmSlEUINC4CGCcb9+4dSt4cM3vtvkfjAiDLGgoBEXiDNOfee+7VzCltsN76Dm9bw1fF9KxrgzS0zKgKAh9+8IG78IILgqcz+F4EEjjC119/vSr1SIgQSBIBEXiS6KYkG69BxQx73R493EEHHBjcsKabcVICX9U0BAIYQ1ihwiNl+KLZZn36NoRdMqKxERCBx7TvVlv0CwY0BnWW9z4bbxI4nCzrSN1222XXGMSVlGUEpk6Z4t566y333LPPukcefiT4bOf9993nGnEffPHF7t577mlI29JurxH/GO4e/dejQb8Z9+67wVMAWe7n9aSbCDymteySmo7nPCvbUhw6degYg7iSsoTA22Pfdjfd+Fd3xGGHu16/vo60pe2v8tUZR/WMI1YL+27Sx510wolu2B13uAkTJmSp29eVLiLwmOaq50GSVd1F4DEdLgNJn3/+ubvm6j+7fptt3uyeiqz2KelV/xcFu++yqxt6620OqzzaSkdABB6DFR1D7zbt3POtVtfeAgw6/fq2KxF4TIerYRJmQaef9ofC17vY9xl269rG7brDKu73JyzvLjlvGXfNpUu5m65ZUrswKNoHbrx6SfenS5Z2fzx7GXfiUSu47bZc1XXp2Db0ArHH2t3cFZdd7r7++usajob6qVoEHtNWdF6btmnnvm7VQXsLMOgsAo/pabVLwlvJLht8aShx777jKg7Od8wLC7lfvp3HuSnahUF1+sCMyfO6l0Yt4q66aGnXr2+rZmS+Trfu7vahQ/X0TBHXIAKPAUgEXr2LFhF4TEerUdLo0aOD/yLZzxF27dTGnT9wWffBmwuKsHXBklofeO2Zhd1Jx6zgOrRrOjPH0vpHH31UoxGS/WpF4DFtRMemGXjLiVwEHtPRapB0/V/+EjwuxT7esX1bN+iMZd3k8fOl5rQ1m63ObLaRcPzwzQXdcUes0GRGjmX1Rx5+uAajJPtVisBj2ojOTQQuAo/pJnWVNHPmTDeg/++aOEj8t/3OywuJuDXjzkwfePqhRV2fXq0L/RR3rg+55tq6GmtpKCsCj0FZBN5y4ua9A5qBx3S0lJJ++uknd+jBh8x1im3bugvPWtbN/EozwUaaxTaKLd99Mp87+pAVC/0V/vj8QYNSGi31UY0IPKadROAi8JjuUVdJs2bNcsccdXTBGXbq0NYNv2OxzMy4GoV0ZEf1LwYvu2CZQr+FT7780svqauwlqawIPAZdEbgIPKZ71FXSwDPOKDjBrmu0dU89uKjIW0vmddMH/nbtkoX+C7+sTyTPcT8i8Bg3LAIXgcd0j7pJwitB2Zdxs9rjI35TN45bM9rqz2jrFdMhly9V6Md4n8Qb+uCME4HHuGE6Pd3E1nIi13/gMR0twaT//ve/bs3OXQqO7/a/LhFJ3mNfXMgV2+Ocf7Gyfvr4MQs00QXnfh7/3C/j61OKjCiZfnyxc18XW7efZvW0+SZ9OH8TDGw+e1xOmWkT5y2Ko29bqXpYnWpxPPCU5Qp9uc9GG7spOX9zmwg8xnmKwFtO3LqJLaaDpZC09557Fhze745bPpYs2N+LhWcMWM6BJHwHXqycn47HhawM//EhP789hw5hpFOODMqjHjwvNWQ52uDXHaYf8tp8Q2+MvqBCebz1LkofpIXVAXKOKhMVH6cH7ctCiBfA7LTtKgX7zh54VgqjKLtViMBj2oadXTPwlhO5ZuAxHS2hJLt0vkmv1u77z5uTrnXK7O+lhj6Jl1qO+YoRIPPFhb4Olhzjytk06mHjSjlmOWLo1+2nh+WLIs4nRy5aIKliuiAvZSNsZAKHfePfWsDhPg7ggsfL8IW8vG4i8JiW58ARgYvAY7pJJpNm/PST692zZ4EEHhte/H9v9neE++y2cjBTBAlhD3vdJWaAljjiylOODa+7cqkm5ZFGGajP5uUx0xn6OkAm8zJkXoRhcqmHzefbT1k2ZDligDQrA8d4XSjTGdp8YQQeRt5Wb78OnNuZuE/gVueoY/8igLpmNcS71YnDAfvtn8kxmIZSIvAYlNlBSiXwP67W3vVs0y5yx3JyVJ7N27Rzp63W3r3favXQd65T7pDW7ZulP9xqTr37h7yznfUhjKsfZV9s1VQ264wKuTxeSqgZeExHSyAJ75Fm/z1435WakUiYY2Z+hCABP49PDMhn8xQrb/OGHRcjNpQBUfkXE2GybFwpcpG/mvpTFnSNWyXwCRz2sSxD/yIA8lCO6QitHL+dLBbVPkZd3H07o+qCjSwTladYPJbSsapEDF579bUERlH2RYrAY9qInaNUAj9mtfjP+oHoiuUBkfuECNKmLt1C0oe1mpMOovXLsj6EpdQPWZTBOqNC5islFIHHdLQqJ82ePdtt2qdvoc+8PGrhJkQb5RxtO8PBhuXzicPerFVK+TCZjCuVaDHztXWxfFRYqlwrM8r+qDoQb+uxsiy5+vn8NN+2OD1QdsSwxZrMviEfZWz9cTpXkgaijvpvHhjYPmHl40LEv/iCnrC5VPK38m69fu5FzNFHHlXlUVQf4kTgMe3EQVAuge/Upp0DEfq7JVA/D4kWdWJGbUkRpI54kHdYeiUEbuvHBQLIn/aybp77dvCc+UoJReAxHa3KSS++8EKhLffYeZVQIraOkMdsb4RRxOETuM1XSnnWFRZaAvSJzea3+VCnTQs7tvnj5FZTfysLx3aJO04fS3BYxg+zp1hckgQOorW2wRbsVm+k+4Ts9xuUgX2UhWO/TDE7f5o0r1uv+2qBDDxW9tVXX1V5JGVfnAg8po3YucolcM52w4iNRB2WhyQKgmRZLKlDD5A3Z+IgX6YjrITAw+rv9CuJc7md9tu6Kj0Wgcd0tCon/eHU0wqO8e5bFi+ZBNjeCC0xW0dqyQf5rNO15TEzhIy43ZZFHVY2Znh+Wczg/Jmf/x+41ZXHVm6pBF4N/S0e0KEUfWyZOF0pKywEblaOj2PYeZicsDiuEIQRrv3v3v6nbvXx28umQXZYnXFx552+bMHWv99yS5VHUvbFicBj2oiDoFwCBxH6/xtzVh1F4CBqEijzgizxvzj0IKkyj/2vvFoE7utG+31bcB72f3scuYvAYzpalZM2WHe9oM/gTt2pn5b+dTG2N0KfwOCQLREijz9DtOVLOYbzts7Zl1+KDDuztbLssZUbR4ql1GfzxOmPerDb/PwvO0ofS2YoF6ertc8/9uVYHaKOfRlR5yBg6O/bzvycVVvdedGFcsxnQ0v8Nr6U4zefn3uxcuD+B1R5JGVfnAg8po3Y2cslcJazIWfVJEmf5JnX/4+by+YkbJYnoYM0kyZw6mZDkHgcYftpIvCYjlbFpHHvvlsgjQP3Lu3mNTpK276lHPtOvJQyNo9f3hKbzRd2jLxR/7XSHoZWriUWpjMMqycuLk5/1IMVBru0jGPERekDeba+OF2pc1joy7Eyo47D5JQbB9vCCJwY8AImTC718jENy2vjZn83j1u/x5xl9K6dOjs8fZGnTQQe09rsVOUSuP1/GeSK3SdgyrYhyjEfCBAzcaZzFkxCt0SfNIHTBhvaVQKfrMPOReAxHa2KSbfe8vdCnxlyRXlLkuxrpYR2iZQO1ZaDIwdRxe0+AVtig9PHOQnByi7XyVu5caRo62ip/qwHpGXlIj5KH+Dh5yW25YQ+gaO+Yns58pEXuqIPwB68VMdvJ9qPvLQprt2ISVyeKB1POnru43svv/RSFUdT9kWJwGPaiB2vXALHLDmMxBDHGTRJnueoy86qkRd5qENYSBIlgWNW79dL+dTJP7f5WR/zsk6bp9JjEXhMR6ti0sAzzyz0mecfa/4McpQTtI4W7R5GYFgKxdK6/981ZbK/IKzEEdOJo7wlAJ/YkO6TP3UIC6Pk+nmT0t/Wjzo4I/XthD5WB///Yl/fqHOfwKPyVRLvryBYfe2xbT/Gx/UJYhSXJ0rfm66Z+6ETPD6Zp00EHtPa7HhJEDhJEoQI4mZdIGOSpI2zs1/8/4w0EC7yYtbOvPY5ccTzP3P8l468UQRuZ/u8MKBM6tOSUAQe09GqmLTfPvsW+sLn75X2nm06RrY3wkocaUvL04lDjiUA6OeTEvJEXUjQHoZxcpkHYVL6hz3bzbp8O62uxWyM+v/fx8ra2NJjqx8uMKA/6uMFFdOtXbQ1rk9xBh+XJ0r3UQ/OfWtd3r4XLgKPcZ7seEkTOIiRpIw6Qbwk9bDnwi1h4xjlscROfbG8bs8Rz5e0kMDtf/Bclkc+XhRAJuVx+d4PSfSlELsIPKajVTGp78abBO3WtVOb0BuGopwg4tneCCtxpC0tT+cPOZYAqDPvgGY9WLplWlxYTC7LUi7CSuyPqwf2WPk89u20N3QhT9QsHBcvnMkDB/v/MnSnfIS0r6WhXQmJuniiTtYu4mLjrC72AifqosTm94/xalXai2/e52kTgce0NjtFGgRuZ8sgbT777S+rkyz9dJT3SRv6g6jtrJ4ETttsiIsIXhBYArd57LGVS72iQhF4TEerYtK63XsEzqzX+q3Ldty2bSshMFvev4sd8sJ264zp6CEnytmTIFiXJS4ryx6XIhf5KRNhtfW3hGvrCbOTs1Hmg/4gduLnX8ggn5WDfCyLkOXiQs6gLW7+sZXrp+Hc6mX1AZbUJ6weXIAgHW0bJrdY3Ff/m68gP2+vVRWBxzhPdrpSCRyzXJAaZ7thZBaXh2l2udwSqpXHvP4sGPlZ3k9DeZZjHoZh9TAtKgwrY3W0xyLwmI5WxSS80AL9dstNy3eG7O8I4ayLOU4/3ZYv9djKKIVoLYmwjqjZIGWXIhd5Ka+ckHUgLFaPf0Mb6rFER1mwxyfxOJ2Q12IQhlFceaRBd9YfFaIOykF+2IO6cHFhbUce+0y3bw8vjlDelqukz0HX6V/O1WvXnXau4mjKvigReEwbsbOWSuCWsHTc9AMoIvCYjlalJLxClX12+61WLeqQfUfNsggrcaa2fKnHVgfrzMOIjXntTA/1WLJgHhuWKrdUnW2+cuuxukBOlJ0gPc5MbX3+MZbYLXlDn6QIHLL9JX6rD2zBjjjYabHBzDvuogRybf5yjvEoGfXYfpttqzSa6kOMCDymndgpROBNybiSixMReExHq1JSSwkcTpd72FJnMafKsuWEViaImGXjHDrJjXkRxv13WqpcK6/U43L1h55WdpydkI38IEWQOcuBtDGLjbIZbce8pYbFLoKsnbhAgA6UjbLUxdpny/AY9lpb4uxgmWKhCLxKDqTRxIjAW07cJHsRePKjo6UEXsxRKn2eimeJwi457ETgyfuWuqxBBC4Cr6eOKwJPjiREwNnFVgReT14qRV1F4CLwFLtbi6sSgWeXZHQBkFzbiMBb7DoaU4AIXAReTz1bBJ4cSYiAs4utCLyevFSKuorAReApdrcWVyUCzy7J6AIgubYRgbfYdTSmABG4CLyeerYIPDmSEAFnF1sReD15qRR1JYGv3aad679ae+0twKBj2zmvesWLRrQlg4AIPLskowuA5NpGBJ6MP6l7qSRwhXPfs95SLETgyQ0LEXhyJCECzi62IvDkfEpdS24pWal8c+IXgSc3JETg2SUZXQAk1zYi8OR8Sl1LHvnASDd8+HDtVcTg0Ucfres+kWXlReClkQTeFoa3iVXytrlqEnElr6utZv2QlRUsWmKXCDzLXkm6CQEhUBICIvDSCDzqfd0tIZFyy/I95+WWq3b+LGDRUptE4CW5B2USAkIgywiIwEsjcLyPG+/xLuf93y0lGb88/17z49M+F4FneUQX100fMymOkXIIgbpAQAReGoGnTZJh9YnAq9dWmoHXhXuSkkJACMQhkGUC53+t+N/X//xlGMEhD/IWy0+5CCmH5Wwc0xCyjP8fOMv9f3tnAmw3dZ9xEiYN7RDokExIYmOeN4wxeAeHBMoaCEsDJsbYhtQspQmUxTjsAYcl7JS9QDDBhlBwaRsgLIFgZoLBbGWHdOrCEJfNxMYuNpvN4tP57uO77//Ok3R175V0tXxvRu9IZ/n/z/l0dH46kq5k83Ld1odx1pb1RTs2jmXgE+kEOPOGacL8fl1pr5kwqA1xZuDUC3Vtxl9WeQXwqFFBaVJAChRCgTwCHIM+LlcTWAyDvmONAR+gCsqPe8ZBQCSAEOLTlLTPELb8ciyDNAsZlrFxXLfQZRxC2orrP6ht8OvDkXZZJ4Q7b9+v1kbrP846wI3bBdYW1nErgX58LWD38QfXq/n0y8FW2AlHnPoknUcAL8TwpEpKASkQpUDeAA4A2MEfkJi87zfqcVi3g7mFJMohvw88fyZKADXjh2V8aNGGrRPXbd0Yh5C2WJb1Dmsn4GfbxDbadtl0QBvbCOkDJz+2Do3W/bpY+0xDnLUDuNNfWJvyAnEBPGpUUJoUkAKFUCBPAMfgTgD4s23AimkABcBh8wMqFg6YQRM0CC1oLEB9PxZCdobLMj60WCdrn+txAB7XP2yG+WLdkE5tWAd7hQEnR4yPCm0ZqwH0pabwZbWA3qwfylv7dl908iFAWycBvBDDkyopBaRAlAJ5AjjhiZmjHWy5jnRAA8BCHPMDHBbezG+hYmerFnjMa0NCyoKIZSy0UIbQsuW5HgfgzGvDIP9ID/PFmTZ1sbawjpMElMUtBT8taJv2/JMB5LUnTVYLXm4Pq4PdF0E+s44TwKNGBaVJASlQCAXyBHBCIO4sjWCKys/fTluwEMZhQAOYALygMhZagE4YVJHWCODN+A/zZcEYdBKDcvbqBbajFgvoMHvU3WphTzrQ7qCFeZAWVYcs0gTwQgxPqqQUkAJRCuQJ4EHgjBrM4+QnrINgbOOsnyC7tGOhhTLtALwZ/2G+wk4SbHvCyvp5sB3HXpAW1CFOKIBHHZHpp+l34OlrLA9SIBMFBPC+M1IBvPt7BEGAR1wUwDHLhn5Ri72dEeYj7XjNwDMZXuRECkiBNBUoO8B5Wd7OdgkgG2eBUTaA28vitp1B63Eut1M/6EQbnHnnYXbNOkWFAniao4psSwEpkIkCeQI4wRB2bxgDMgBBSDC/BYk/aAc9kMVyCP382G4F4LgX7duyD9nZtFb8ozwhaW3ZeOrip7MeYQ8H+vnpJ8we9bG6My5MU/jAyQFsht1b9+uR5rYAnsnwIidSQAqkqUCeAG5nf0GXWfnzJoLI5g96Ypr5ASQL2FYAyjIWWgAMYef7B6T40BbyWBjRVhjswmBIX9YW1vmgHvz5cMQ2T2Lw8JlfNmibD6nBnp8OALMeVgurddC+s+X8Ovo+stgWwNMcVWRbCkiBTBTIE8AxcBNGgAQAh4EfCy+FI97CkrBBPPIwv433QdkKQFnGQiusvqgfoUnYWSjRll8v5mkEcJRDOwlCeyID6MI/0v16MD/9hIX2yXZrj/Vmm3wtkJdpdl/YfRfW5rC6pBUvgGcyvMiJFJACaSqQN4ADMhbiBAJDwMAO6s3mR1mCKAwmQQBlGR9aFp6sI0M7K7V1pq1m/KM860X79sUs/hvsmAchTiaCZsW2Tv56WLsAaQLZ1wL7wkLc1gHrca8A+HVJY1sAT3NUkW0pIAUyUSBvAOdgjRkkBnxAAgugEQWhZvJjZgqbCOnPhvDlpxO6iLd5sQ5wAdZIw4J1xKG+jLNlWvFPP6wb7FqAM93WAydC8IW6WP9x18PaxfqjLkG2kO7vO+yfoLydihPAMxle5EQKSIE0FcgrwDs1sIf5jQJ4WBnF9/2JXl40EcDTHFVkWwpIgUwUEMDjQYYAx6w2LxBSPeLtuyCdBPBMhhc5kQJSIE0FBPBoCODSLxY+lBZ23zoIEoqL1raT+gjgaY4qsi0FpEAmCgjg0ZAhuPlAlv05WicBJN/R+62RPgJ4JsOLnEgBKZCmAgJ4NAhwyRwPjOGhrKiH6BoBQ+nROmetjwCe5qgi21JACmSigACeL7BkDbKq+hPAMxle5EQKSIE0FRDABfAqQlwAT3NUkW0pIAUyUUAAF8AF8N0zOdby4kSfE83LnlA9pECbCgjgArgALoC3OYyouBSQAp1QIGuA4yluvC0MP8dC2OqDYSifxU+6UF/4wdvFqgg622b8nM5/+5tNL9K6LqF3YrSRTykgBRJVIEuA49Wb/DmWDfGUdzOv+wRQWT5taABa8IU6pu0rz/ZxAgMdsjhpykIHATzRYUTGpIAU6IQCWQHcwhs/yQIIbBw+ghFn4CZQBfBsL/3zpEkA78RRmqxP3QNPVk9ZkwIdUyALgNvPU/qXzLFNGDe6TI1ZOvMyjAP9dvLwhKHqM3ABvGOHaOKOBfDEJZVBKdA5BYYOGlwD46479Is1C24WiIA0ABAGaM7EG83u+JlR+8nKZuvC/KhTnHvxjQCOkwrcF0bdsWA97HYA2o88sIl6UBcbx/rZZwVQLswm88dtj39P3/qBHtimTYTMjxMYnDQhRH2D9iXyso3IgzpZW0HrVrs47Qyy0UrcmmU9J4M/2Hvvzh18HfAsgHdAdLmUAmkpMHrkqNrg/O3x/RsOuK0Mlo3K4JI64IBBPywv4II8gDehiu2w/GHxACFhhPJ2wQmCD0r6CpqBAzi2vF0PetiLftFOttmWQRzqHWY3CIjttAf1sP65Dq2pH9vPNIZWD9SBJ2FMZ4j9FVRvxDGPH6L99J9WuHzxF+v+px4wJa1DK5d2BfBc7hZVSgq0psB2236nNphtMWxA6gOnPyDbgdyf/TGvzYN1CxXmiRMCNHb2znvxFqZIt7boywIL6RayKAMYYrH2fYgT4AQW/dt41oU2LRj9OrTTHtYB73pn3e1739FutDPODJxXRmAT67Bn6414u29Rb/pnO1HG6kD/dl8kuf6nF3tOIA4/7LDWDpyClhLAC7rjVG0pEKTA5EmT6gOqHWiTHDCtLULBDvxhsy4LKc4MCVVAwNpttA5IoAygAbs2f5AfpNOXhacFUFC9LdytDwsoH+5WC0DclmMdUHdb73baA1u+H9gmxGHb1oG+/HjbVl8LqynaR3ssg/3AOIbUweZnWpLhQ/f2XD35+emzgg6L0sYJ4KXdtWpYFRU4+cST6gD3wZLkoElb8AGAcMFAHjbj4kzODugWaLQZJyScwk5SaNeChXEW4ASQD0BbB8La6sk42xaWoU0f0kynVlandtoDe0E6ENS2vagD432AE7hhWlA/2y7eDkH97QkJ/PDkzj8ZoA5JhXOu7rl9cOOcuZU67AXwSu1uNbbsClw/e3YdptddvkGfWVFSgybtYFDnQkBjgPcHbYLeH+gtFGizUQgwEIKAUNjCPLRHXxZogBXyIS7MDmFtgRcU5/uxJw9MQ8h6oT7Ybrc90NTa5zrqy7YxDiHjbXsQ79fLluE6TzSC6o7yOAkA1INOKGgj6XDGEV+r133hIwvLfoj3ap8A3ksObUiBYivwwgsv1Aez6VM3DhzYkx5ArT1CEoM5B3HMzMLgYPNbO1HrtgztRoW0xXIW4ARxVHmmWeCxnI2L8sM0hLSH+mCb9WJ8o5C2WM62h2kICWo/nfF+3emX9bK2uM522zz2igNtIMQJDG+VsHwa4YRx/WuaDhsy1H344YfFPoCbrL0A3qRgyi4F8qzAZ5995vgkOh5k8y9rpjGA+jY5yHPw5qVZDOiAhl04A8aAz3jfnr9NcNkyLBsUsjzLWaCxrgiDyto4Cy2WQzrtMwzywzSEhBztMX8S7bF+UDfYtO1FOuP9uvv1sra4znaz7ozHyRr2N/Yx7TAMuxLBsu2E//Vk99v14OuASfvn+dBMpW4CeCqyyqgU6JwCM445tj6IEqLtDJK2LAZuDPz+AG7zcJAnILjNAb1RaG0Frdsn2YPSw+IISgs0nlywrmFl/Xi2KahckB9bnu2nhkm2x/pB3eDLthfpjPfr7tfL2uK6fwmd8TbESSNumdiTM/+Wis3fzvo5p3ffAkHdf3nNtZ076DrkWQDvkPByKwXSUuChP/yhDvBpk5K9jI4TAgyWUbMqDvIctBECFkGLHeSZHmdAJ2zowy8DiPj2gsDK9oTdR4ZdwAi2CFzEJQlw2EuqPVYH1Bl24wKcJzPYJ9YO16kfbPLKDvet1Yb5EUbpZPO1sv7xO+u4CWM3qbVxyMBBbsmSJWkdUrm1K4DndteoYlKgNQVwGX3bbSbUofD8wu57ra0Mkn4Z+8BV0OzeApmDvG/Dblso2PhG6/aBOcxg/fyEEUKm0ZcFmm1PELjs7Nj6iQJTkB/WASFhbaGXVHusn0YAh0+bHzBm3fwTI+xLXh63+vEECGn+/sa2fzJn/bW7Pm/O+vX6Tj/oR60dLAUvJYAXfAeq+lIgSIHZ1/U8jX749K/3GqjbHTgJBs7usA0YcLBGvA+AMJ+EHcqE5QmKt0BBWYA6qB58kA426MsCCPEWXGgD2gJbPAmAfR92SQM8yfZQL+4nv72MR7uwbveVbbPVFHm5WE1Rb8Zb7Wx/QDzrlFT4yfJ13E7b9av7fuSRR4IOg9LHCeCl38VqYBUV+OCDD9y40WPqA9zD962X6CBqIcABHCEGa/t76UYDNqGKso3y+umAB0Fq68B62BkzytKXDzSkWYj7tnx4Iz/9Qge/XlF+kJf2kc+WTbI9sMt95LfXXnWgVqwH6oD2so42xCzb1xTlEIf9bvNyHb6DytBfq+HsKzao+9tv34lVPMRrbZtethkAABQ+SURBVBbAK7vr1fCyKzD3hjn1QQ4D7Oqlvd9Y1urgyXIY7AE+gAJLM+CmDcCE5RnXbAhA4FIu7fhgpD36sjNOpiFEe3i/G7aQz842bV62O8hXIz+sZ5jtpNqDurEdtu5Yh29qFnQrxKbDRhwI0x/bF6eMX684228uWtdtOXxArW8P7hronnj88bIfyqHtE8BDpVGCFCi2ArgXvveee9Uh/rPje+4HxxkolSfb73RL78Z6f7pinfq9eMzyZ86YUeyDtM3aC+BtCqjiUiDPCuDFLnjBBS9p/nZez9epBIzGwJBG+dLogjN7fja2zbjxbtmyZXk+/FKvmwCeusRyIAU6q8Cvrr++DvDNh2zqHpuf7P1wQS5fkCvr/rh5dvfP4nAyikvnVX1wzY4mArhVQ+tSoKQKHHXkkXWIjxoxwD2z4Mu9HqAq66CvdpXj5AL36YcM3LTeh6+64sqSHqnNNUsAb04v5ZYChVRgzZo1buoBU+oDIF6z+uBdfymIrywH4Mp8ooInzgdv2gPv0079WSGPwTQqLYCnoapsSoEcKrBq1SqHn9zwfjhmNFddtKFb+64gVmYAFrVtH779BXf80T1fGkO/Pe7YGQ4PZ+qvWwEBXD1BClRIAXyt6ZDpB9chjkHxoMkbu//9Y9+3mRV14Fe9i39C9uzDX3a77fStXv307DPPcmvXrq3Q0dq4qQJ4Y42UQwqUSoFPPvnEnXP2L2oPAnE2PnyzAe7y8zd07y9J9rfigmnxYZrlPvzzK+u6U2d+1Q3u6rlkvvnQzdyvb7qpVMdgUo0RwJNSUnakQMEU+P3997uxo0b3muWMGbmJu/LCDd2yV9fV/XHdH8+sD+ClL7NO3MgNH9oDbpxc7rzDju7FF18s2JGVXXUF8Oy0licpkDsFVqxY4U464cRes3EMnEMHbeoOPejr7ra567s3/1swz3IWWhVfi57+kptz9Vfcfn/7zV4nkeh/wzcb5i695BK3ZvXq3B0zeaqQAJ6nvaG6SIEOKYAXvhx+2N/3ATkvsW83ob87eNrG7qxTN3LXXLKh+/V1X3H/ftP6WqRBwz6Ak8C513R/8Oa0E77qpk76hhs/uvszoOxfDHG5/NRTTnGvv/Z6h46EYrkVwIu1v1RbKZCqAosWLXJnnnGG23rsuD6zIg6yCnu+zCUtktFih+23d5ddemklv+ndzgEtgLejnspKgZIqgAfdHl6wwF14/gVu4j77OsyMBKtkYCUdu9yIzYe7A6dOc3ghy3PPPlvSoyj9Zgng6WssD1Kg0AosWbLE/XDfiW6zwUPcz0+f5e684w73Lzff7PDN8dm/vE6LNIjsA3iV76233FLrN3NumOMmjN+69qlbnCDqrz0FBPD29FNpKdCUAnii9qYbb+qzwMj8Bx7oFX/7b253+K43/liOzuw2161d2EriD++bHj9mrNt2mwnu6aeeTsKkbFRcAXyAZNqUqW7IwEHuissub/q33ejn/lUMxOHv8cceq6e9+uqrdaVZph5hVpb+eWntaXfYxFPv2MbfT/7hx3Vb9Ec/pnhHVwXwjsov51VTgLDl4IABgYMC4jCAMG7ypEkOC/4Qh0GEf3ab6yyHMAmA4/ImBtmDpk1z77zzDl0rlAJtK4C3qeH2DD5KcujBh7h33303tk3296AC551zTu2YwXGEdf5FlUEajzOELIfjEUue/wTwPO8d1a20CgQNKP6AAdgT2n5+u23XkxAMg+lhhxxSG1wvvvAivboyCVFlI1ABnGiO3mqk2/672zn8EiLOX1R/x/GCK1f/fNVV9WMHNqPKMA2zd17xQhn/eIxTt6zzCOBZKy5/UiBkQMGA4c/AOQPgIEPx7DbXEXIB/Fv5e+nFlxyeCMag+uD8+a2YUBkp0JQCixcvdnt9f4/ab79xr7zRH/s7L2vzJJeXz3EJHJfPEY84/LFMkG1A++QTT6rlRxlevcKxZ31gvdXjKshvEnECeBIqyoYUaFKBoAGFAOfsAYMK//z8dpvrCLm0MtDMu3VebRDde8+93GuvvUbXCqVA6gqsXr3anXj8CTVg/nTmTPfRRx+F+mR/9zPg0rcPXF4ODytjbQD8hDbisY4lz38CeJ73jupWWgWCBhQ7YOAyIAYjziC4TUFsebvO9GZCO3iectJJevtVM+Ipb6IK8CRyz92/7zAzD/oL6+84XnDyyz8CHdthZZCG444nyyiPq2CMF8BrUuifFJACVoGgAcUCHHmxjUEJl/gwO8A6BhqW5WDFbYR2sf7C1uuXL4dt7v7tttvCsileCmSmAG/jjNpyK3f/fff18cv+bhN4+dw+ec44hCyDY4gLr1KhDKCNeISM5/HH/AjzBnTNwG0v0LoUyEgBDBIYVOwf7r3x/hviAW3k4YCCbczEEWfz0Rbi7WJtB63DBu514573H196KSiL4qRARxSwD1Kef9557tNPP+1IPfLuVADP+x5S/aRAwgrYn/Dg/eerVq5M2IPMSYFkFOBPGaceMMUtW9r9++xkLJfDigBejv2oVkiBWArYl2jwEnysgsokBTqkAF8mNGHrbdyTTz7ZoVrk060Ans/9olpJgcQVeOo/n6q9UQ0fKln4yMLE7cugFEhLgdrrfCfuV3ud7/WzZ6flpnB2BfDC7TJVWAo0rwAGPbzLfNJ+P3Rvv/128wZUQgp0WIGPP/649qU8PEx2xI9/4t57770O16jz7gXwzu8D1UAKpKbA+++/74468sjaE7Znn3mWw1fG9CcFiqzAb++80205fAu3y447OXz+tsp/AniV977aXmoFMLjtutPObqstRrh77r671G1V46qlwMv/87L73i67ui2GbV77ZUa1Wt/TWgG8RwutSYHSKIBPfuKby7vtuqt75eVXStMuNUQKUIHuq0v/WLu6NOu0092aNWuYVJlQAK/MrlZDq6AA7hOeMWtWbVA79uhjen2coQrtVxurp8DcG+a4YUOGuok/2Me9+eabfQTAb8jLeutIAO+zuxUhBfKvQNAbqt566y03cZ99a4MZBjX9SYGqKIBv1eOb9WNHjXYLHnqoV7Off+65Pi9N6pWhwBsCeIF3nqpeTQVw6XCbcePrb2iDCg8vWODGjR7jvvvtbd2zzzxTTWHU6korgG/W49v1+Mb4ZZde6tauXVvT47xzz3Xjx4x1q1atKp0+AnjpdqkaVHYF/umii2uXyE89+eTaIHXFZZe7IQMHuR8deKBbvnx52Zuv9kmBUAXwlkF8wx4QP/jvpte+qjd65Kja8XLB+eeHlitqggBe1D2neldSAVwmHz5s89qANHTQYDd50v61weqSiy92GLz0JwWkgKt9yx7v+cfPzfgxkuGbDXNvvvFGqeQRwEu1O9WYsiuAbyVzQEKImffdd91V9marfVKgaQXO/UXf74PPOObYpu3kuYAAnue9o7pJAaMAPrOIS4MW4FjfY7fd3euvvW5yalUKVFcBPCOC20v+cYJtHD/PP/98acQRwEuzK9WQsiswbcrUwEEJA9PIEVu6ebfOK7sEap8UiFQAPxfDPfDttv1O6LEyZf/JkTaKlCiAF2lvqa6VVeDB+fP7DEi4p3fg1GkOXxXDk+f6ZnJlu4caHqDA4sWL3a233OKOOero2q827Iw86GeYASZyHyWA534XqYJVVwBg3nXnXeofI8EDa48ufNStWb266tKo/TlTYOXKlW7FihW5XJ544gl31ZVX1p5O33uPPd3SpUtzWc8g/cJ2swAepoziS6/A7+79Xe09yrf/5vZchzdc/yt37jnnun+dNy/X9YSO995zT+n7jRoYrgBONO1MV+tdbeuB+/ZhfwJ4mDKKL70CeBmKBpj2BxirId6Epb/qKiCAJ3s84dgSwKt7PKnlEQoI4MkPNgJ4RIerQBIBPnDTLvfNnSdpaUODriHd73sQwCtw4KiJzStAgG8xoMtd0n+gljY0GDGg+2RAAG++H5apRB3gXQPdOv/xf1ra0KD/1jvWrhAK4GU6QtSWxBQgwMcM6HLL+w3W0oYG4wXwxPplkQ0J4MmdtAjgRT4SVPfUFRDAkztpEcBT766FcCCAC+CF6KiqZPEVEMAF8OL34ny1QAAXwPPVI1Wb0ioggAvgpe3cHWqYAC6Ad6jryW3VFBDABfCq9fm02yuAC+Bp9zHZlwI1BQRwAVyHQrIKCOACeLI9StakQIgCArgAHtI1FN2iAgK4AN5i11ExKdCcAgK4AN5cj1HuRgoI4AJ4oz6idCmQiAICuACeSEeSkboCArgAXu8MWpECaSoggAvgafavKtoWwAXwKvZ7tbkDCgjgAngHul2pXQrgAnipO7galx8FBHABPD+9sRw1EcAF8HL0ZLUi9wo0C/CF/Qa5a/sPDF3wPvWwPDf3H+Se7Tco9H3rt/fvtv37/n3zLPrcL/L472ynP4RR/oPsRrUFab6vqG29SjX33T2TCjYL8A2Ou7b+Sd8v3PJWr4+fbLz3obW0v7j80V7x6596s/vWjhPr5bAOO7Y8ytjP3Np12F3vggfqNukHebBuP8Ly10dc3MuOTcO6Tbf+mY+2/TYwPSrUu9Az6bJyUlQFmgU4oGYHAn8dgGuUJwyM1pYPSsAZ6Ydu0heq9Ee73Lb2uL7fgC6HkwHaZ3xYyHxxQgG8qEdBsvVuB+CAsAVaEPw2mj4r9BgEyAnRKICzv6875+WaP/phvK2DPVFAuk3D+ibj/qZen786644+6bQtgCfbz2RNCrhWAQ6QApT+AtARoH4ebHOAsBBFGcysmYbQn2m3AnDr/2LjGxAnkOnTbwe3mS9OKIDrgIIC7QAc/ZFQBRx9+AGQ7LMWlphNMx4zYpQlwGHDQhf2CWWeMNAPYczZOfLSLkNri36/NnlGLR/s2nSs07YAruNDCiSsQKsAB+DCoEaAB+UBPDEQ8HI3bRz3OWDDQB0Wj/K+P3+bPt74fBZv/XNQYp52QgE84c5ZUHOtApzwtMD14Ufw4hK6D0oCG30aady29liGl+19gHN2z5MAnjDQL23TDvN/6drnHCGOdaYj9Ntg0xqt6xJ6QQ8CVTsbBVoFuJ3dAphYOKsOAyjgGARwlMPAAJvIw5k67SEuCYDDDmfiqCO2CXC2wYb+VQDkj1oE8Gz6bN69tApwwJSw4wyY25y9sr/yMrkPQJ4EIH8YwO0MnLN4+rHAhm0C2t7npk/UAfXhrJuzcZRhHoS0zTbYtEbrAnjee7vq11EFWgU4BxIbclZNgPuQJ5hRxoIQD7chjsDk5XTAlvmSAjjrhhC2bf39dZ5QsA6NQgG8o105N87bAThmr+iHADEA6cOPfTQMfDY/Ac4yfgjw8kTAluNJANK4TjjDBn0T9vZqAPPTLvJa2ywbNxTAc9OtVZE8KtAqwH04A4icMROS/oCB7R0GdPV5Eh1xSAOwUdaWJzTTBjj92pAnFKxDo1AAz2MPz75O7QAcYONs187IOXvlMWUBaWHIdOSPAjiga21YyHLWjTywB9BbW/RnL6vTL0PO7JHX2mbZuKEAnn3/lccCKdAqwAG6MKARwIQ8Z95B8CaYeeD7ISHKfPYBNPqnP9bJ32Y+hGGX0G2eVtcF8AJ1/BSr2i7AAVYeB5zREuCEpp31EoY+ZLkNgCKPvXRuZ99Is5DlzJq+cUJBW6gX8vNKAevph7DPelnbjIsbCuApdlSZLr4CaQKcQAUQZ5mnwDlTt/FIR34uzM/L2LxPjoHClocNniDQH0Lk4zaBjIfYONvnb8I58DBPO6EAXvzjIYkWtAtwwI0QZf8kwG28nUXbS9y8B03oEuCwi5MDngTgoTOC1ELWf/IctmkL9UEZXiUIOpEg+Pkwm7VNf3FDATyJHikbpVUgK4Bb0HIWbZ8Kx7oPT8KWwOY2BhFebie8EceXxBDgSMM6FuRnefqHPw6QzOeH9O3XLWhbAC/tYdJUw5IAOABH0KKPEuCI5yVu9l0b2pk1oWsBjvJ29kwA+5AlhGEb0KctbMMGfQL22LYLbCKdJxK0zTJ+aMv66wJ4U11PmaumQJYAt7NogJIPq+EnZEFA5OVuhEgHoP2Dn9t4EI42YJvxfgh4Wyj76f42Lt3TbqNQAK/a0RPc3qQAbqFpAQ7IYSZuAQ/g4p65va/N8j7AUR552dcBYUKWfniSAB/IT1sow9k+03zo2hk86kPb9OeHfnm7LYAH9zHFSoGaAs0CHEADIKPAFpUHl645y+V6mC2AFnktnDFTZzmmWSADsvRPPwx52dyCmGlhoW/blvXXBXAdVFCgWYBbYGm992xeANcxJQUiFGgW4D60tN3z23ABPKKjVShJAO8N4XZOSgTwCh04amrzCgjgPQBu92REAG++/5WxhAAugJexX6tNOVRAABfAc9gtC10lAVwAL3QHVuWLo4AALoAXp7cWo6YCuABejJ6qWhZeAQFcAC98J85ZAwRwATxnXVLVKasCArgAXta+3al2CeACeKf6nvxWTAEBXACvWJdPvbkCuACeeieTAykABQRwAVxHQrIKWIB/8aY/OS2ta8A3wg3uGhi6k9YJTVGCFCi5AgT4iAFdtRem4KUpWlrTYOTnX1UbO2p0yXuNmhelAAHuv3FM291fHWxFBwE8qscprbIKEOCtHFQqEzwgCeCVPZxqDRfAg4+LdsYLAbzax5RaH6KAAJ78YCOAh3S2ikT/dOZMN/WAKVoS1GDalKmhvUeX0EOlUULZFbhxzlx3zdVXa0lQg7k3zCl7t1H7pEBuFBDAc7MrVBEpIAWkgBSQAvEVEMDja6WcUkAKSAEpIAVyo4AAnptdoYpIASkgBaSAFIivgAAeXyvllAJSQApIASmQGwUE8NzsClVECkgBKSAFpEB8BQTw+FoppxSQAlJACkiB3CgggOdmV6giUkAKSAEpIAXiKyCAx9dKOaWAFJACUkAK5EYBATw3u0IVkQJSQApIASkQX4H/BxS8i54XCWbWAAAAAElFTkSuQmCC)"
      ]
    },
    {
      "cell_type": "code",
      "metadata": {
        "id": "4Jbz3to-aINU"
      },
      "source": [
        ""
      ],
      "execution_count": null,
      "outputs": []
    },
    {
      "cell_type": "code",
      "metadata": {
        "id": "DM3C7hqiQsko"
      },
      "source": [
        "# 34 MONTANTES QUE PODEM INDICAR FRAUDES   /LUIZ\n",
        "c34 =  outros34.query('((amount != 10000000) )').amount.to_list()"
      ],
      "execution_count": null,
      "outputs": []
    },
    {
      "cell_type": "code",
      "metadata": {
        "id": "RY3LCVMyhzKR"
      },
      "source": [
        "# 2 \"NOVO SALDO DE DESTINO\" QUE DIFERENCIA 2 OPERAÇÕES NORMAIS QUE POSSUEM O MESMO MONTANTE DE UMA FRAUDE  /LUIZ\n",
        "d2 = [2587228.90, 431223.10]"
      ],
      "execution_count": null,
      "outputs": []
    },
    {
      "cell_type": "code",
      "metadata": {
        "id": "ypkQ-d17SrGE"
      },
      "source": [
        "#FUNÇÃO QUE INDICA 100% DAS FRAUDES NESTA BASE DE DADOS SINTÉTICA  /LUIZ\n",
        "def verificaFraude(amount, oldbalanceOrg, oldbalanceDest, newbalanceDest ):\n",
        "    if (amount == oldbalanceOrg):\n",
        "        return True\n",
        "    if ((amount == 10000000) and (oldbalanceDest == 0) and (newbalanceDest == 0)):\n",
        "        return True\n",
        "    if ((amount in c34) and (newbalanceDest not in d2)):\n",
        "        return True\n",
        "    return False"
      ],
      "execution_count": null,
      "outputs": []
    },
    {
      "cell_type": "code",
      "metadata": {
        "id": "OwVAbymXN2bh",
        "colab": {
          "base_uri": "https://localhost:8080/"
        },
        "outputId": "72575b56-10bc-4113-e0d5-b4d153e90f35"
      },
      "source": [
        "#CÓDIGO MUITO DEMORADO (MAIS DE 10 minutos), RECOMENDADO NÃO EXECUTAR DE NOVO   /LUIZ\n",
        "# TESTE EM TODA A BASE DE DADOS   /LUIZ\n",
        "qtdFraudesDetectadas = 0\n",
        "qtdFraudesConfirmadas = 0\n",
        "for index, row in df.iterrows():\n",
        "    if verificaFraude(row.amount, row.oldbalanceOrg, row.oldbalanceDest, row.newbalanceDest):\n",
        "        qtdFraudesDetectadas += 1\n",
        "    if row.isFraud:\n",
        "        qtdFraudesConfirmadas += 1\n",
        "print('Fraudes detectadas: '+str(qtdFraudesDetectadas) + '\\nFraudes que realmente ocorreram: '+str(qtdFraudesConfirmadas))\n"
      ],
      "execution_count": null,
      "outputs": [
        {
          "output_type": "stream",
          "text": [
            "Fraudes detectadas: 8213\n",
            "Freudes que realmente ocorreram: 8213\n"
          ],
          "name": "stdout"
        }
      ]
    },
    {
      "cell_type": "code",
      "metadata": {
        "id": "2LvfE2vms84k",
        "colab": {
          "base_uri": "https://localhost:8080/",
          "height": 373
        },
        "outputId": "0ca7d111-0ab5-4c2a-8ca3-88db133ffd65"
      },
      "source": [
        "#gráfico de ACERTO DE fraudes DETECTADAS   /LUIZ\n",
        "plt.pie([qtdFraudesDetectadas, qtdFraudesConfirmadas - qtdFraudesDetectadas], labels=['ACERTO', 'ERRO'], colors=['blue', 'red'], autopct=lambda p: '{:.2f}'.format(p * 100.0 / 100)+'%')\n",
        "plt.title('FRAUDES DETECTADAS')\n",
        "plt.show()"
      ],
      "execution_count": null,
      "outputs": [
        {
          "output_type": "display_data",
          "data": {
            "image/png": "[encoded data removed]",
            "text/plain": [
              "<Figure size 576x432 with 1 Axes>"
            ]
          },
          "metadata": {
            "tags": []
          }
        }
      ]
    },
    {
      "cell_type": "markdown",
      "metadata": {
        "id": "n8Z78yMZJfeO"
      },
      "source": [
        "# CONCLUSÃO DA ANÁLISE"
      ]
    },
    {
      "cell_type": "markdown",
      "metadata": {
        "id": "aYNJEfUDJfeR"
      },
      "source": [
        "Apesar de sinalizar de possibilidade de fraude sempre ter acertado a fraude, a sinalização de fraude só foi levantada 16 vezes dentre os 6.362.620 registros. Existem muitas operações com montantes suiperiores à 200.000 que não foram sinalizadas. Portanto esta sinalização não tem consistência, nem representatividade e, então, pode ser descartada do modelo a ser implementado.\n",
        "\n",
        "A maioria das fraudes com transferência não tem informações sobre o saldo da conta de destino.\n",
        "\n",
        "Com excessão de 1 operação, todas as saídas de dinheiro fraudolentas resultaram em novo saldo de origem (newbalanceOrig) zerado.\n",
        "\n",
        "Os saldos de destino podem apresentar inconsistências de valores com a transação.\n",
        "\n",
        "Em um uso real, os campos \"nameOrig\" e \"nameDest\" poderiam ajudar a identificar os fraudadores. Já para a detecção de fraude nesta base de dados específica, eles não tem relevância e aparerentam, inclusive, ter valores aleatórios.\n",
        "\n",
        "**FORAM ENCONTRADOS 2 PADRÕES DO ALGORITMO QUE INSERIU FRAUDES SINTÉTICAS**\n",
        "\n",
        "NOTA-SE QUE DAS 8213 FRAUDES, 8034 POSSUEM O SALDO INICIAL DE ORIGEM (oldbalanceOrg) IGUAL AO MONTANTE DA OPERAÇÃO (amount).\n",
        "\n",
        "**PRIMEIRO PADRÃO:**\n",
        "\n",
        "**SEMPRE QUE O SALDO INICIAL DE ORIGEM (oldbalanceOrg) É IGUAL AO MONTANTE (amount) DA OPERAÇÃO, ENTÃO É FRAUDE!**\n",
        "\n",
        "**UM SEGUNDO PADRÃO:**\n",
        "\n",
        "**Das 179 outras fraudes não incluídas no primeiro padrão, 145 possuem \"montante\" = 10.000.000 e ausência de saldos de destino (oldbalanceDest = 0 e newbalanceDest = 0)**\n",
        "\n",
        "\n",
        "**A MAIORIA DE 99,59% DAS FRAUDES FORAM GERADAS POR 2 PADRÕES SIMPLES DE MARCAÇÕES COMO FRAUDE.** \n",
        "\n",
        "Os 0,41% restantes (34 operações) aparentam ser inserções aleatórias nos grupos de \"transferência\" ou \"saida de dinheiro\".\n",
        "\n",
        "**COM AS \"ASSINATURAS\" DAS 34 OPERAÇÕES RESTANTES, É POSSÍVEL INCLUÍLAS EM UM CONJUNTO DE 34 OPERAÇÕES.**\n",
        "\n",
        "\n",
        "**ENTÃO, UMA SIMPLES ÁRVORE COM 3 REGRAS QUEBRA O ALGORITMO QUE INSERIU AS FRAUDES, DETECTANDO TODAS AS FRAUDES DESTA BASE DE DADOS. Por ser baseada em todo o espaço amostral, ela possui tudo que é preciso para a detecção. Porém em outras amostras, com outros padrões, já não conseguiria detectar.**\n",
        "\n",
        "\n",
        "**PORTANTO, ESTÁ QUEBRADO O ALGORÍTMO QUE INSERIU OPERAÇÕES DE FRAUDES SINTÉTICAS. Ou seja, foram descobertos os padrões usados para inserir as fraudes sintéticas.**\n",
        "\n",
        "Essa base de dados sintética foi criada por regras simples, principalmente o montante ser igual ao saldo. Então não serve de base para detecção de fraudes no mundo real, pois no mundo real e em transações normais é comum o montante da operação ser igual ao saldo da conta. Já nestes dados, sempre que isso ocorre, significa fraude. \n",
        " \n"
      ]
    }
  ]
}